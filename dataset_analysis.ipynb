{
 "cells": [
  {
   "cell_type": "code",
   "execution_count": 1,
   "metadata": {},
   "outputs": [],
   "source": [
    "import pandas as pd\n",
    "import numpy as np\n",
    "import os, pickle\n",
    "from pandasai import PandasAI as pdai\n",
    "import seaborn as sns\n",
    "import matplotlib.pyplot as plt"
   ]
  },
  {
   "cell_type": "code",
   "execution_count": 2,
   "metadata": {},
   "outputs": [
    {
     "data": {
      "text/plain": [
       "'\\ntry:\\n    from openaikey import apikey\\n    print(f\"apikey correctly imported: {apikey}\")\\nexcept:\\n    print(\"create a openaikey.py file with apikey=yourkey\")'"
      ]
     },
     "execution_count": 2,
     "metadata": {},
     "output_type": "execute_result"
    }
   ],
   "source": [
    "\"\"\"\n",
    "try:\n",
    "    from openaikey import apikey\n",
    "    print(f\"apikey correctly imported: {apikey}\")\n",
    "except:\n",
    "    print(\"create a openaikey.py file with apikey=yourkey\")\"\"\"\n"
   ]
  },
  {
   "cell_type": "code",
   "execution_count": 3,
   "metadata": {},
   "outputs": [
    {
     "data": {
      "text/plain": [
       "'#instantiate pandasai\\nfrom pandasai.llm.openai import OpenAI\\nllm = OpenAI(api_token=apikey)\\n\\npandas_ai = pdai(llm, conversational=True)'"
      ]
     },
     "execution_count": 3,
     "metadata": {},
     "output_type": "execute_result"
    }
   ],
   "source": [
    "\"\"\"#instantiate pandasai\n",
    "from pandasai.llm.openai import OpenAI\n",
    "llm = OpenAI(api_token=apikey)\n",
    "\n",
    "pandas_ai = pdai(llm, conversational=True)\"\"\""
   ]
  },
  {
   "attachments": {},
   "cell_type": "markdown",
   "metadata": {},
   "source": [
    "# Import dataset and exploration"
   ]
  },
  {
   "cell_type": "code",
   "execution_count": 4,
   "metadata": {},
   "outputs": [],
   "source": [
    "#list all files in data folder\n",
    "files = os.listdir('data')\n"
   ]
  },
  {
   "cell_type": "code",
   "execution_count": 5,
   "metadata": {},
   "outputs": [
    {
     "name": "stderr",
     "output_type": "stream",
     "text": [
      "/var/folders/9h/wspygsdd64nc8w1bt957q7t40000gn/T/ipykernel_14735/3345907934.py:3: DtypeWarning: Columns (28,29,30,31) have mixed types. Specify dtype option on import or set low_memory=False.\n",
      "  df = pd.read_csv('data/'+files[0])\n"
     ]
    }
   ],
   "source": [
    "files[0].replace(\".csv\",\"\")\n",
    "#load files[0] in a dataframe\n",
    "df = pd.read_csv('data/'+files[0])"
   ]
  },
  {
   "cell_type": "code",
   "execution_count": 6,
   "metadata": {},
   "outputs": [
    {
     "name": "stderr",
     "output_type": "stream",
     "text": [
      "/var/folders/9h/wspygsdd64nc8w1bt957q7t40000gn/T/ipykernel_14735/4195821602.py:4: DtypeWarning: Columns (28,29,30,31) have mixed types. Specify dtype option on import or set low_memory=False.\n",
      "  datas[file.replace(\".csv\",\"\")]=pd.read_csv('data/'+file)\n"
     ]
    }
   ],
   "source": [
    "#for file in files load file csv in a dataframe\n",
    "datas={}\n",
    "for file in files:\n",
    "    datas[file.replace(\".csv\",\"\")]=pd.read_csv('data/'+file)\n",
    "\n",
    "\n"
   ]
  },
  {
   "cell_type": "code",
   "execution_count": 7,
   "metadata": {},
   "outputs": [
    {
     "data": {
      "text/plain": [
       "dict_keys(['weather_legs', 'legs', 'user_details', 'experience_factors', 'mots', 'user_generic_worthwhileness_values', 'worthwhileness_elements_from_trips', 'activities', 'user_specific_worthwhileness_values', 'weather_raw', 'legs_coordinates', 'trips', 'purposes'])"
      ]
     },
     "execution_count": 7,
     "metadata": {},
     "output_type": "execute_result"
    }
   ],
   "source": [
    "datas.keys()"
   ]
  },
  {
   "cell_type": "code",
   "execution_count": 8,
   "metadata": {},
   "outputs": [],
   "source": [
    "datas['legs']['dateonly']=datas['legs']['start_date'].apply(lambda x: x.split(' ')[0])"
   ]
  },
  {
   "cell_type": "code",
   "execution_count": 9,
   "metadata": {},
   "outputs": [
    {
     "data": {
      "text/plain": [
       "4.597558471373145"
      ]
     },
     "execution_count": 9,
     "metadata": {},
     "output_type": "execute_result"
    }
   ],
   "source": [
    "#return the average number of tripid per user per day\n",
    "datas['legs'].groupby(['userid','dateonly']).count().groupby('userid').mean()['tripid'].mean()"
   ]
  },
  {
   "cell_type": "code",
   "execution_count": 10,
   "metadata": {},
   "outputs": [
    {
     "data": {
      "text/plain": [
       "transport_category\n",
       "walking                           55246\n",
       "private_motorized                 30537\n",
       "cycling_emerging_micromobility    19234\n",
       "public_transp_short_dist          14510\n",
       "public_transp_long_dist            1104\n",
       "Name: count, dtype: int64"
      ]
     },
     "execution_count": 10,
     "metadata": {},
     "output_type": "execute_result"
    }
   ],
   "source": [
    "datas['legs']['transport_category'].value_counts()"
   ]
  },
  {
   "cell_type": "code",
   "execution_count": 11,
   "metadata": {},
   "outputs": [
    {
     "data": {
      "text/html": [
       "<div>\n",
       "<style scoped>\n",
       "    .dataframe tbody tr th:only-of-type {\n",
       "        vertical-align: middle;\n",
       "    }\n",
       "\n",
       "    .dataframe tbody tr th {\n",
       "        vertical-align: top;\n",
       "    }\n",
       "\n",
       "    .dataframe thead th {\n",
       "        text-align: right;\n",
       "    }\n",
       "</style>\n",
       "<table border=\"1\" class=\"dataframe\">\n",
       "  <thead>\n",
       "    <tr style=\"text-align: right;\">\n",
       "      <th></th>\n",
       "      <th>legid</th>\n",
       "      <th>class</th>\n",
       "      <th>userid</th>\n",
       "      <th>tripid</th>\n",
       "      <th>motid</th>\n",
       "      <th>start_date</th>\n",
       "      <th>end_date</th>\n",
       "      <th>true_distance</th>\n",
       "      <th>leg_distance</th>\n",
       "      <th>leg_duration</th>\n",
       "      <th>worthwhileness_rating</th>\n",
       "      <th>transport_category</th>\n",
       "      <th>campaign</th>\n",
       "      <th>weekday</th>\n",
       "      <th>weekday_class</th>\n",
       "      <th>dateonly</th>\n",
       "    </tr>\n",
       "  </thead>\n",
       "  <tbody>\n",
       "    <tr>\n",
       "      <th>15</th>\n",
       "      <td>#28:2213</td>\n",
       "      <td>WaitingEvent</td>\n",
       "      <td>IGpJc0Az17bxe4MT6pHDx6lQ3LD2</td>\n",
       "      <td>#32:3465</td>\n",
       "      <td>4</td>\n",
       "      <td>2019-06-13 07:07:33.756</td>\n",
       "      <td>2019-06-13 07:09:25.096</td>\n",
       "      <td>NaN</td>\n",
       "      <td>NaN</td>\n",
       "      <td>0.000</td>\n",
       "      <td>-1.0</td>\n",
       "      <td>NaN</td>\n",
       "      <td>BEL</td>\n",
       "      <td>Thursday</td>\n",
       "      <td>Working_day</td>\n",
       "      <td>2019-06-13</td>\n",
       "    </tr>\n",
       "    <tr>\n",
       "      <th>40</th>\n",
       "      <td>#28:1036</td>\n",
       "      <td>WaitingEvent</td>\n",
       "      <td>kgF4dsYgK6RN1Qp0kzJVyWnDaUe2</td>\n",
       "      <td>#33:1596</td>\n",
       "      <td>4</td>\n",
       "      <td>2019-05-11 08:00:21.952</td>\n",
       "      <td>2019-05-11 08:05:56.037</td>\n",
       "      <td>NaN</td>\n",
       "      <td>NaN</td>\n",
       "      <td>0.000</td>\n",
       "      <td>-1.0</td>\n",
       "      <td>NaN</td>\n",
       "      <td>BEL</td>\n",
       "      <td>Saturday</td>\n",
       "      <td>Weekend</td>\n",
       "      <td>2019-05-11</td>\n",
       "    </tr>\n",
       "    <tr>\n",
       "      <th>42</th>\n",
       "      <td>#29:1014</td>\n",
       "      <td>WaitingEvent</td>\n",
       "      <td>kgF4dsYgK6RN1Qp0kzJVyWnDaUe2</td>\n",
       "      <td>#33:1596</td>\n",
       "      <td>4</td>\n",
       "      <td>2019-05-11 08:35:08.045</td>\n",
       "      <td>2019-05-11 08:40:49.986</td>\n",
       "      <td>NaN</td>\n",
       "      <td>NaN</td>\n",
       "      <td>0.000</td>\n",
       "      <td>-1.0</td>\n",
       "      <td>NaN</td>\n",
       "      <td>BEL</td>\n",
       "      <td>Saturday</td>\n",
       "      <td>Weekend</td>\n",
       "      <td>2019-05-11</td>\n",
       "    </tr>\n",
       "    <tr>\n",
       "      <th>45</th>\n",
       "      <td>#26:1077</td>\n",
       "      <td>WaitingEvent</td>\n",
       "      <td>kgF4dsYgK6RN1Qp0kzJVyWnDaUe2</td>\n",
       "      <td>#33:1596</td>\n",
       "      <td>4</td>\n",
       "      <td>2019-05-11 10:27:05.206</td>\n",
       "      <td>2019-05-11 10:31:02.239</td>\n",
       "      <td>NaN</td>\n",
       "      <td>NaN</td>\n",
       "      <td>0.000</td>\n",
       "      <td>-1.0</td>\n",
       "      <td>NaN</td>\n",
       "      <td>BEL</td>\n",
       "      <td>Saturday</td>\n",
       "      <td>Weekend</td>\n",
       "      <td>2019-05-11</td>\n",
       "    </tr>\n",
       "    <tr>\n",
       "      <th>47</th>\n",
       "      <td>#27:1059</td>\n",
       "      <td>WaitingEvent</td>\n",
       "      <td>kgF4dsYgK6RN1Qp0kzJVyWnDaUe2</td>\n",
       "      <td>#33:1596</td>\n",
       "      <td>4</td>\n",
       "      <td>2019-05-11 10:36:32.177</td>\n",
       "      <td>2019-05-11 10:42:43.123</td>\n",
       "      <td>NaN</td>\n",
       "      <td>NaN</td>\n",
       "      <td>0.000</td>\n",
       "      <td>-1.0</td>\n",
       "      <td>NaN</td>\n",
       "      <td>BEL</td>\n",
       "      <td>Saturday</td>\n",
       "      <td>Weekend</td>\n",
       "      <td>2019-05-11</td>\n",
       "    </tr>\n",
       "    <tr>\n",
       "      <th>...</th>\n",
       "      <td>...</td>\n",
       "      <td>...</td>\n",
       "      <td>...</td>\n",
       "      <td>...</td>\n",
       "      <td>...</td>\n",
       "      <td>...</td>\n",
       "      <td>...</td>\n",
       "      <td>...</td>\n",
       "      <td>...</td>\n",
       "      <td>...</td>\n",
       "      <td>...</td>\n",
       "      <td>...</td>\n",
       "      <td>...</td>\n",
       "      <td>...</td>\n",
       "      <td>...</td>\n",
       "      <td>...</td>\n",
       "    </tr>\n",
       "    <tr>\n",
       "      <th>158861</th>\n",
       "      <td>#223:46511</td>\n",
       "      <td>Leg</td>\n",
       "      <td>vKi94YKUGFfKXGvGyogidfF6qU32</td>\n",
       "      <td>#130:20544</td>\n",
       "      <td>4</td>\n",
       "      <td>2019-11-06 18:50:44.096</td>\n",
       "      <td>2019-11-06 18:52:55.168</td>\n",
       "      <td>0.0</td>\n",
       "      <td>240.118</td>\n",
       "      <td>47.999</td>\n",
       "      <td>4.0</td>\n",
       "      <td>NaN</td>\n",
       "      <td>ESP</td>\n",
       "      <td>Wednesday</td>\n",
       "      <td>Working_day</td>\n",
       "      <td>2019-11-06</td>\n",
       "    </tr>\n",
       "    <tr>\n",
       "      <th>158864</th>\n",
       "      <td>#222:46518</td>\n",
       "      <td>Leg</td>\n",
       "      <td>vKi94YKUGFfKXGvGyogidfF6qU32</td>\n",
       "      <td>#131:20541</td>\n",
       "      <td>4</td>\n",
       "      <td>2019-11-14 19:35:39.264</td>\n",
       "      <td>2019-11-14 19:40:01.408</td>\n",
       "      <td>0.0</td>\n",
       "      <td>3085.847</td>\n",
       "      <td>188.006</td>\n",
       "      <td>0.0</td>\n",
       "      <td>NaN</td>\n",
       "      <td>ESP</td>\n",
       "      <td>Thursday</td>\n",
       "      <td>Working_day</td>\n",
       "      <td>2019-11-14</td>\n",
       "    </tr>\n",
       "    <tr>\n",
       "      <th>158874</th>\n",
       "      <td>#226:13390</td>\n",
       "      <td>WaitingEvent</td>\n",
       "      <td>vKi94YKUGFfKXGvGyogidfF6qU32</td>\n",
       "      <td>#130:21198</td>\n",
       "      <td>4</td>\n",
       "      <td>2019-11-29 08:19:06.880</td>\n",
       "      <td>2019-11-29 08:23:29.024</td>\n",
       "      <td>NaN</td>\n",
       "      <td>NaN</td>\n",
       "      <td>0.000</td>\n",
       "      <td>0.0</td>\n",
       "      <td>NaN</td>\n",
       "      <td>ESP</td>\n",
       "      <td>Friday</td>\n",
       "      <td>Working_day</td>\n",
       "      <td>2019-11-29</td>\n",
       "    </tr>\n",
       "    <tr>\n",
       "      <th>158878</th>\n",
       "      <td>#227:13250</td>\n",
       "      <td>WaitingEvent</td>\n",
       "      <td>xeO24JQhH5P2bPoO2QJrtdYwVlk1</td>\n",
       "      <td>#133:20946</td>\n",
       "      <td>4</td>\n",
       "      <td>2019-11-29 09:59:04.642</td>\n",
       "      <td>2019-11-29 10:23:47.928</td>\n",
       "      <td>NaN</td>\n",
       "      <td>NaN</td>\n",
       "      <td>0.000</td>\n",
       "      <td>3.0</td>\n",
       "      <td>NaN</td>\n",
       "      <td>ESP</td>\n",
       "      <td>Friday</td>\n",
       "      <td>Working_day</td>\n",
       "      <td>2019-11-29</td>\n",
       "    </tr>\n",
       "    <tr>\n",
       "      <th>158886</th>\n",
       "      <td>#229:12157</td>\n",
       "      <td>WaitingEvent</td>\n",
       "      <td>8g5HrJBPR6bhIdMr6qln8AAq4pp1</td>\n",
       "      <td>#130:19261</td>\n",
       "      <td>4</td>\n",
       "      <td>2019-11-26 16:44:59.472</td>\n",
       "      <td>2019-11-26 17:00:34.589</td>\n",
       "      <td>NaN</td>\n",
       "      <td>NaN</td>\n",
       "      <td>0.000</td>\n",
       "      <td>-1.0</td>\n",
       "      <td>NaN</td>\n",
       "      <td>CHE</td>\n",
       "      <td>Tuesday</td>\n",
       "      <td>Working_day</td>\n",
       "      <td>2019-11-26</td>\n",
       "    </tr>\n",
       "  </tbody>\n",
       "</table>\n",
       "<p>38266 rows × 16 columns</p>\n",
       "</div>"
      ],
      "text/plain": [
       "             legid         class                        userid      tripid   \n",
       "15        #28:2213  WaitingEvent  IGpJc0Az17bxe4MT6pHDx6lQ3LD2    #32:3465  \\\n",
       "40        #28:1036  WaitingEvent  kgF4dsYgK6RN1Qp0kzJVyWnDaUe2    #33:1596   \n",
       "42        #29:1014  WaitingEvent  kgF4dsYgK6RN1Qp0kzJVyWnDaUe2    #33:1596   \n",
       "45        #26:1077  WaitingEvent  kgF4dsYgK6RN1Qp0kzJVyWnDaUe2    #33:1596   \n",
       "47        #27:1059  WaitingEvent  kgF4dsYgK6RN1Qp0kzJVyWnDaUe2    #33:1596   \n",
       "...            ...           ...                           ...         ...   \n",
       "158861  #223:46511           Leg  vKi94YKUGFfKXGvGyogidfF6qU32  #130:20544   \n",
       "158864  #222:46518           Leg  vKi94YKUGFfKXGvGyogidfF6qU32  #131:20541   \n",
       "158874  #226:13390  WaitingEvent  vKi94YKUGFfKXGvGyogidfF6qU32  #130:21198   \n",
       "158878  #227:13250  WaitingEvent  xeO24JQhH5P2bPoO2QJrtdYwVlk1  #133:20946   \n",
       "158886  #229:12157  WaitingEvent  8g5HrJBPR6bhIdMr6qln8AAq4pp1  #130:19261   \n",
       "\n",
       "        motid               start_date                 end_date   \n",
       "15          4  2019-06-13 07:07:33.756  2019-06-13 07:09:25.096  \\\n",
       "40          4  2019-05-11 08:00:21.952  2019-05-11 08:05:56.037   \n",
       "42          4  2019-05-11 08:35:08.045  2019-05-11 08:40:49.986   \n",
       "45          4  2019-05-11 10:27:05.206  2019-05-11 10:31:02.239   \n",
       "47          4  2019-05-11 10:36:32.177  2019-05-11 10:42:43.123   \n",
       "...       ...                      ...                      ...   \n",
       "158861      4  2019-11-06 18:50:44.096  2019-11-06 18:52:55.168   \n",
       "158864      4  2019-11-14 19:35:39.264  2019-11-14 19:40:01.408   \n",
       "158874      4  2019-11-29 08:19:06.880  2019-11-29 08:23:29.024   \n",
       "158878      4  2019-11-29 09:59:04.642  2019-11-29 10:23:47.928   \n",
       "158886      4  2019-11-26 16:44:59.472  2019-11-26 17:00:34.589   \n",
       "\n",
       "        true_distance  leg_distance  leg_duration  worthwhileness_rating   \n",
       "15                NaN           NaN         0.000                   -1.0  \\\n",
       "40                NaN           NaN         0.000                   -1.0   \n",
       "42                NaN           NaN         0.000                   -1.0   \n",
       "45                NaN           NaN         0.000                   -1.0   \n",
       "47                NaN           NaN         0.000                   -1.0   \n",
       "...               ...           ...           ...                    ...   \n",
       "158861            0.0       240.118        47.999                    4.0   \n",
       "158864            0.0      3085.847       188.006                    0.0   \n",
       "158874            NaN           NaN         0.000                    0.0   \n",
       "158878            NaN           NaN         0.000                    3.0   \n",
       "158886            NaN           NaN         0.000                   -1.0   \n",
       "\n",
       "       transport_category campaign    weekday weekday_class    dateonly  \n",
       "15                    NaN      BEL   Thursday   Working_day  2019-06-13  \n",
       "40                    NaN      BEL   Saturday       Weekend  2019-05-11  \n",
       "42                    NaN      BEL   Saturday       Weekend  2019-05-11  \n",
       "45                    NaN      BEL   Saturday       Weekend  2019-05-11  \n",
       "47                    NaN      BEL   Saturday       Weekend  2019-05-11  \n",
       "...                   ...      ...        ...           ...         ...  \n",
       "158861                NaN      ESP  Wednesday   Working_day  2019-11-06  \n",
       "158864                NaN      ESP   Thursday   Working_day  2019-11-14  \n",
       "158874                NaN      ESP     Friday   Working_day  2019-11-29  \n",
       "158878                NaN      ESP     Friday   Working_day  2019-11-29  \n",
       "158886                NaN      CHE    Tuesday   Working_day  2019-11-26  \n",
       "\n",
       "[38266 rows x 16 columns]"
      ]
     },
     "execution_count": 11,
     "metadata": {},
     "output_type": "execute_result"
    }
   ],
   "source": [
    "datas['legs'][pd.isna(datas['legs']['transport_category'])]"
   ]
  },
  {
   "cell_type": "code",
   "execution_count": 12,
   "metadata": {},
   "outputs": [
    {
     "data": {
      "text/html": [
       "<div>\n",
       "<style scoped>\n",
       "    .dataframe tbody tr th:only-of-type {\n",
       "        vertical-align: middle;\n",
       "    }\n",
       "\n",
       "    .dataframe tbody tr th {\n",
       "        vertical-align: top;\n",
       "    }\n",
       "\n",
       "    .dataframe thead th {\n",
       "        text-align: right;\n",
       "    }\n",
       "</style>\n",
       "<table border=\"1\" class=\"dataframe\">\n",
       "  <thead>\n",
       "    <tr style=\"text-align: right;\">\n",
       "      <th></th>\n",
       "      <th>legid</th>\n",
       "      <th>start_lat</th>\n",
       "      <th>start_lon</th>\n",
       "      <th>end_lat</th>\n",
       "      <th>end_lon</th>\n",
       "      <th>start_name</th>\n",
       "      <th>start_country</th>\n",
       "      <th>start_class</th>\n",
       "      <th>end_name</th>\n",
       "      <th>end_country</th>\n",
       "      <th>end_class</th>\n",
       "    </tr>\n",
       "  </thead>\n",
       "  <tbody>\n",
       "    <tr>\n",
       "      <th>0</th>\n",
       "      <td>#223:33591</td>\n",
       "      <td>51.100</td>\n",
       "      <td>3.050</td>\n",
       "      <td>51.150</td>\n",
       "      <td>3.050</td>\n",
       "      <td>NaN</td>\n",
       "      <td>NaN</td>\n",
       "      <td>rural</td>\n",
       "      <td>NaN</td>\n",
       "      <td>NaN</td>\n",
       "      <td>rural</td>\n",
       "    </tr>\n",
       "    <tr>\n",
       "      <th>1</th>\n",
       "      <td>#224:33591</td>\n",
       "      <td>51.130</td>\n",
       "      <td>3.165</td>\n",
       "      <td>51.130</td>\n",
       "      <td>3.165</td>\n",
       "      <td>Bruges</td>\n",
       "      <td>BEL</td>\n",
       "      <td>sub-urban</td>\n",
       "      <td>Bruges</td>\n",
       "      <td>BEL</td>\n",
       "      <td>sub-urban</td>\n",
       "    </tr>\n",
       "    <tr>\n",
       "      <th>2</th>\n",
       "      <td>#225:33590</td>\n",
       "      <td>51.130</td>\n",
       "      <td>3.165</td>\n",
       "      <td>51.130</td>\n",
       "      <td>3.165</td>\n",
       "      <td>Bruges</td>\n",
       "      <td>BEL</td>\n",
       "      <td>sub-urban</td>\n",
       "      <td>Bruges</td>\n",
       "      <td>BEL</td>\n",
       "      <td>sub-urban</td>\n",
       "    </tr>\n",
       "    <tr>\n",
       "      <th>3</th>\n",
       "      <td>#222:33592</td>\n",
       "      <td>51.150</td>\n",
       "      <td>3.050</td>\n",
       "      <td>51.150</td>\n",
       "      <td>3.050</td>\n",
       "      <td>NaN</td>\n",
       "      <td>NaN</td>\n",
       "      <td>rural</td>\n",
       "      <td>NaN</td>\n",
       "      <td>NaN</td>\n",
       "      <td>rural</td>\n",
       "    </tr>\n",
       "    <tr>\n",
       "      <th>4</th>\n",
       "      <td>#227:9335</td>\n",
       "      <td>51.150</td>\n",
       "      <td>3.050</td>\n",
       "      <td>51.150</td>\n",
       "      <td>3.050</td>\n",
       "      <td>NaN</td>\n",
       "      <td>NaN</td>\n",
       "      <td>rural</td>\n",
       "      <td>NaN</td>\n",
       "      <td>NaN</td>\n",
       "      <td>rural</td>\n",
       "    </tr>\n",
       "    <tr>\n",
       "      <th>...</th>\n",
       "      <td>...</td>\n",
       "      <td>...</td>\n",
       "      <td>...</td>\n",
       "      <td>...</td>\n",
       "      <td>...</td>\n",
       "      <td>...</td>\n",
       "      <td>...</td>\n",
       "      <td>...</td>\n",
       "      <td>...</td>\n",
       "      <td>...</td>\n",
       "      <td>...</td>\n",
       "    </tr>\n",
       "    <tr>\n",
       "      <th>180508</th>\n",
       "      <td>#224:47071</td>\n",
       "      <td>46.520</td>\n",
       "      <td>6.565</td>\n",
       "      <td>46.520</td>\n",
       "      <td>6.565</td>\n",
       "      <td>Lausanne</td>\n",
       "      <td>CHE</td>\n",
       "      <td>sub-urban</td>\n",
       "      <td>Lausanne</td>\n",
       "      <td>CHE</td>\n",
       "      <td>sub-urban</td>\n",
       "    </tr>\n",
       "    <tr>\n",
       "      <th>180509</th>\n",
       "      <td>#225:47061</td>\n",
       "      <td>46.520</td>\n",
       "      <td>6.565</td>\n",
       "      <td>46.545</td>\n",
       "      <td>6.565</td>\n",
       "      <td>Lausanne</td>\n",
       "      <td>CHE</td>\n",
       "      <td>sub-urban</td>\n",
       "      <td>Lausanne</td>\n",
       "      <td>CHE</td>\n",
       "      <td>sub-urban</td>\n",
       "    </tr>\n",
       "    <tr>\n",
       "      <th>180510</th>\n",
       "      <td>#222:47083</td>\n",
       "      <td>46.625</td>\n",
       "      <td>6.575</td>\n",
       "      <td>46.520</td>\n",
       "      <td>6.575</td>\n",
       "      <td>Lausanne</td>\n",
       "      <td>CHE</td>\n",
       "      <td>sub-urban</td>\n",
       "      <td>Lausanne</td>\n",
       "      <td>CHE</td>\n",
       "      <td>sub-urban</td>\n",
       "    </tr>\n",
       "    <tr>\n",
       "      <th>180511</th>\n",
       "      <td>#223:47078</td>\n",
       "      <td>46.520</td>\n",
       "      <td>6.565</td>\n",
       "      <td>46.520</td>\n",
       "      <td>6.565</td>\n",
       "      <td>Lausanne</td>\n",
       "      <td>CHE</td>\n",
       "      <td>sub-urban</td>\n",
       "      <td>Lausanne</td>\n",
       "      <td>CHE</td>\n",
       "      <td>sub-urban</td>\n",
       "    </tr>\n",
       "    <tr>\n",
       "      <th>180512</th>\n",
       "      <td>#224:47072</td>\n",
       "      <td>46.625</td>\n",
       "      <td>6.575</td>\n",
       "      <td>46.520</td>\n",
       "      <td>6.575</td>\n",
       "      <td>Lausanne</td>\n",
       "      <td>CHE</td>\n",
       "      <td>sub-urban</td>\n",
       "      <td>Lausanne</td>\n",
       "      <td>CHE</td>\n",
       "      <td>sub-urban</td>\n",
       "    </tr>\n",
       "  </tbody>\n",
       "</table>\n",
       "<p>180513 rows × 11 columns</p>\n",
       "</div>"
      ],
      "text/plain": [
       "             legid  start_lat  start_lon  end_lat  end_lon start_name   \n",
       "0       #223:33591     51.100      3.050   51.150    3.050        NaN  \\\n",
       "1       #224:33591     51.130      3.165   51.130    3.165     Bruges   \n",
       "2       #225:33590     51.130      3.165   51.130    3.165     Bruges   \n",
       "3       #222:33592     51.150      3.050   51.150    3.050        NaN   \n",
       "4        #227:9335     51.150      3.050   51.150    3.050        NaN   \n",
       "...            ...        ...        ...      ...      ...        ...   \n",
       "180508  #224:47071     46.520      6.565   46.520    6.565   Lausanne   \n",
       "180509  #225:47061     46.520      6.565   46.545    6.565   Lausanne   \n",
       "180510  #222:47083     46.625      6.575   46.520    6.575   Lausanne   \n",
       "180511  #223:47078     46.520      6.565   46.520    6.565   Lausanne   \n",
       "180512  #224:47072     46.625      6.575   46.520    6.575   Lausanne   \n",
       "\n",
       "       start_country start_class  end_name end_country  end_class  \n",
       "0                NaN       rural       NaN         NaN      rural  \n",
       "1                BEL   sub-urban    Bruges         BEL  sub-urban  \n",
       "2                BEL   sub-urban    Bruges         BEL  sub-urban  \n",
       "3                NaN       rural       NaN         NaN      rural  \n",
       "4                NaN       rural       NaN         NaN      rural  \n",
       "...              ...         ...       ...         ...        ...  \n",
       "180508           CHE   sub-urban  Lausanne         CHE  sub-urban  \n",
       "180509           CHE   sub-urban  Lausanne         CHE  sub-urban  \n",
       "180510           CHE   sub-urban  Lausanne         CHE  sub-urban  \n",
       "180511           CHE   sub-urban  Lausanne         CHE  sub-urban  \n",
       "180512           CHE   sub-urban  Lausanne         CHE  sub-urban  \n",
       "\n",
       "[180513 rows x 11 columns]"
      ]
     },
     "execution_count": 12,
     "metadata": {},
     "output_type": "execute_result"
    }
   ],
   "source": [
    "datas['legs_coordinates']"
   ]
  },
  {
   "attachments": {},
   "cell_type": "markdown",
   "metadata": {},
   "source": [
    "## Merge legs and legs_coordinates"
   ]
  },
  {
   "cell_type": "code",
   "execution_count": 13,
   "metadata": {},
   "outputs": [
    {
     "data": {
      "text/html": [
       "<div>\n",
       "<style scoped>\n",
       "    .dataframe tbody tr th:only-of-type {\n",
       "        vertical-align: middle;\n",
       "    }\n",
       "\n",
       "    .dataframe tbody tr th {\n",
       "        vertical-align: top;\n",
       "    }\n",
       "\n",
       "    .dataframe thead th {\n",
       "        text-align: right;\n",
       "    }\n",
       "</style>\n",
       "<table border=\"1\" class=\"dataframe\">\n",
       "  <thead>\n",
       "    <tr style=\"text-align: right;\">\n",
       "      <th></th>\n",
       "      <th>legid</th>\n",
       "      <th>class</th>\n",
       "      <th>userid</th>\n",
       "      <th>tripid</th>\n",
       "      <th>motid</th>\n",
       "      <th>start_date</th>\n",
       "      <th>end_date</th>\n",
       "      <th>true_distance</th>\n",
       "      <th>leg_distance</th>\n",
       "      <th>leg_duration</th>\n",
       "      <th>...</th>\n",
       "      <th>start_lat</th>\n",
       "      <th>start_lon</th>\n",
       "      <th>end_lat</th>\n",
       "      <th>end_lon</th>\n",
       "      <th>start_name</th>\n",
       "      <th>start_country</th>\n",
       "      <th>start_class</th>\n",
       "      <th>end_name</th>\n",
       "      <th>end_country</th>\n",
       "      <th>end_class</th>\n",
       "    </tr>\n",
       "  </thead>\n",
       "  <tbody>\n",
       "    <tr>\n",
       "      <th>0</th>\n",
       "      <td>#24:3498</td>\n",
       "      <td>Leg</td>\n",
       "      <td>o3QNooVleBR9WfbIaCqsaj3DlDl2</td>\n",
       "      <td>#32:1461</td>\n",
       "      <td>7</td>\n",
       "      <td>2019-05-06 16:26:16.773</td>\n",
       "      <td>2019-05-06 16:38:30.295</td>\n",
       "      <td>497.0</td>\n",
       "      <td>218.0</td>\n",
       "      <td>0.0</td>\n",
       "      <td>...</td>\n",
       "      <td>38.736</td>\n",
       "      <td>-9.141</td>\n",
       "      <td>38.735</td>\n",
       "      <td>-9.141</td>\n",
       "      <td>Lisbon</td>\n",
       "      <td>PRT</td>\n",
       "      <td>urban</td>\n",
       "      <td>Lisbon</td>\n",
       "      <td>PRT</td>\n",
       "      <td>urban</td>\n",
       "    </tr>\n",
       "    <tr>\n",
       "      <th>1</th>\n",
       "      <td>#25:3400</td>\n",
       "      <td>Leg</td>\n",
       "      <td>IGpJc0Az17bxe4MT6pHDx6lQ3LD2</td>\n",
       "      <td>#31:1449</td>\n",
       "      <td>7</td>\n",
       "      <td>2019-05-07 14:31:11.110</td>\n",
       "      <td>2019-05-07 14:36:22.474</td>\n",
       "      <td>0.0</td>\n",
       "      <td>385.0</td>\n",
       "      <td>0.0</td>\n",
       "      <td>...</td>\n",
       "      <td>50.847</td>\n",
       "      <td>4.353</td>\n",
       "      <td>50.845</td>\n",
       "      <td>4.357</td>\n",
       "      <td>Brussels</td>\n",
       "      <td>BEL</td>\n",
       "      <td>urban</td>\n",
       "      <td>Brussels</td>\n",
       "      <td>BEL</td>\n",
       "      <td>urban</td>\n",
       "    </tr>\n",
       "    <tr>\n",
       "      <th>2</th>\n",
       "      <td>#25:3460</td>\n",
       "      <td>Leg</td>\n",
       "      <td>IGpJc0Az17bxe4MT6pHDx6lQ3LD2</td>\n",
       "      <td>#30:1498</td>\n",
       "      <td>7</td>\n",
       "      <td>2019-05-07 15:40:10.952</td>\n",
       "      <td>2019-05-07 15:43:29.090</td>\n",
       "      <td>37.0</td>\n",
       "      <td>37.0</td>\n",
       "      <td>0.0</td>\n",
       "      <td>...</td>\n",
       "      <td>51.200</td>\n",
       "      <td>4.850</td>\n",
       "      <td>51.200</td>\n",
       "      <td>4.850</td>\n",
       "      <td>NaN</td>\n",
       "      <td>NaN</td>\n",
       "      <td>rural</td>\n",
       "      <td>NaN</td>\n",
       "      <td>NaN</td>\n",
       "      <td>rural</td>\n",
       "    </tr>\n",
       "    <tr>\n",
       "      <th>3</th>\n",
       "      <td>#24:3479</td>\n",
       "      <td>Leg</td>\n",
       "      <td>IGpJc0Az17bxe4MT6pHDx6lQ3LD2</td>\n",
       "      <td>#33:1435</td>\n",
       "      <td>1</td>\n",
       "      <td>2019-05-07 15:54:37.610</td>\n",
       "      <td>2019-05-07 16:00:42.174</td>\n",
       "      <td>0.0</td>\n",
       "      <td>580.0</td>\n",
       "      <td>0.0</td>\n",
       "      <td>...</td>\n",
       "      <td>51.200</td>\n",
       "      <td>4.800</td>\n",
       "      <td>51.200</td>\n",
       "      <td>4.800</td>\n",
       "      <td>NaN</td>\n",
       "      <td>NaN</td>\n",
       "      <td>rural</td>\n",
       "      <td>NaN</td>\n",
       "      <td>NaN</td>\n",
       "      <td>rural</td>\n",
       "    </tr>\n",
       "    <tr>\n",
       "      <th>4</th>\n",
       "      <td>#23:5342</td>\n",
       "      <td>Leg</td>\n",
       "      <td>IGpJc0Az17bxe4MT6pHDx6lQ3LD2</td>\n",
       "      <td>#33:2147</td>\n",
       "      <td>9</td>\n",
       "      <td>2019-05-21 04:45:12.391</td>\n",
       "      <td>2019-05-21 04:47:30.021</td>\n",
       "      <td>658.0</td>\n",
       "      <td>658.0</td>\n",
       "      <td>0.0</td>\n",
       "      <td>...</td>\n",
       "      <td>51.200</td>\n",
       "      <td>4.850</td>\n",
       "      <td>51.200</td>\n",
       "      <td>4.800</td>\n",
       "      <td>NaN</td>\n",
       "      <td>NaN</td>\n",
       "      <td>rural</td>\n",
       "      <td>NaN</td>\n",
       "      <td>NaN</td>\n",
       "      <td>rural</td>\n",
       "    </tr>\n",
       "    <tr>\n",
       "      <th>...</th>\n",
       "      <td>...</td>\n",
       "      <td>...</td>\n",
       "      <td>...</td>\n",
       "      <td>...</td>\n",
       "      <td>...</td>\n",
       "      <td>...</td>\n",
       "      <td>...</td>\n",
       "      <td>...</td>\n",
       "      <td>...</td>\n",
       "      <td>...</td>\n",
       "      <td>...</td>\n",
       "      <td>...</td>\n",
       "      <td>...</td>\n",
       "      <td>...</td>\n",
       "      <td>...</td>\n",
       "      <td>...</td>\n",
       "      <td>...</td>\n",
       "      <td>...</td>\n",
       "      <td>...</td>\n",
       "      <td>...</td>\n",
       "      <td>...</td>\n",
       "    </tr>\n",
       "    <tr>\n",
       "      <th>130612</th>\n",
       "      <td>#222:47082</td>\n",
       "      <td>Leg</td>\n",
       "      <td>8g5HrJBPR6bhIdMr6qln8AAq4pp1</td>\n",
       "      <td>#131:20807</td>\n",
       "      <td>7</td>\n",
       "      <td>2019-11-28 12:04:33.538</td>\n",
       "      <td>2019-11-28 12:10:38.924</td>\n",
       "      <td>206.0</td>\n",
       "      <td>206.0</td>\n",
       "      <td>365.0</td>\n",
       "      <td>...</td>\n",
       "      <td>46.540</td>\n",
       "      <td>6.565</td>\n",
       "      <td>46.545</td>\n",
       "      <td>6.565</td>\n",
       "      <td>Lausanne</td>\n",
       "      <td>CHE</td>\n",
       "      <td>sub-urban</td>\n",
       "      <td>Lausanne</td>\n",
       "      <td>CHE</td>\n",
       "      <td>sub-urban</td>\n",
       "    </tr>\n",
       "    <tr>\n",
       "      <th>130613</th>\n",
       "      <td>#223:47077</td>\n",
       "      <td>Leg</td>\n",
       "      <td>8g5HrJBPR6bhIdMr6qln8AAq4pp1</td>\n",
       "      <td>#131:20807</td>\n",
       "      <td>9</td>\n",
       "      <td>2019-11-28 12:10:38.924</td>\n",
       "      <td>2019-11-28 12:25:37.025</td>\n",
       "      <td>4957.0</td>\n",
       "      <td>4957.0</td>\n",
       "      <td>0.0</td>\n",
       "      <td>...</td>\n",
       "      <td>46.545</td>\n",
       "      <td>6.565</td>\n",
       "      <td>46.525</td>\n",
       "      <td>6.565</td>\n",
       "      <td>Lausanne</td>\n",
       "      <td>CHE</td>\n",
       "      <td>sub-urban</td>\n",
       "      <td>Lausanne</td>\n",
       "      <td>CHE</td>\n",
       "      <td>sub-urban</td>\n",
       "    </tr>\n",
       "    <tr>\n",
       "      <th>130614</th>\n",
       "      <td>#224:47071</td>\n",
       "      <td>Leg</td>\n",
       "      <td>8g5HrJBPR6bhIdMr6qln8AAq4pp1</td>\n",
       "      <td>#131:20807</td>\n",
       "      <td>7</td>\n",
       "      <td>2019-11-28 12:25:37.025</td>\n",
       "      <td>2019-11-28 12:27:53.168</td>\n",
       "      <td>364.0</td>\n",
       "      <td>364.0</td>\n",
       "      <td>0.0</td>\n",
       "      <td>...</td>\n",
       "      <td>46.520</td>\n",
       "      <td>6.565</td>\n",
       "      <td>46.520</td>\n",
       "      <td>6.565</td>\n",
       "      <td>Lausanne</td>\n",
       "      <td>CHE</td>\n",
       "      <td>sub-urban</td>\n",
       "      <td>Lausanne</td>\n",
       "      <td>CHE</td>\n",
       "      <td>sub-urban</td>\n",
       "    </tr>\n",
       "    <tr>\n",
       "      <th>130615</th>\n",
       "      <td>#224:47070</td>\n",
       "      <td>Leg</td>\n",
       "      <td>8g5HrJBPR6bhIdMr6qln8AAq4pp1</td>\n",
       "      <td>#130:20811</td>\n",
       "      <td>7</td>\n",
       "      <td>2019-11-28 16:36:57.975</td>\n",
       "      <td>2019-11-28 16:38:29.151</td>\n",
       "      <td>78.0</td>\n",
       "      <td>78.0</td>\n",
       "      <td>0.0</td>\n",
       "      <td>...</td>\n",
       "      <td>46.520</td>\n",
       "      <td>6.565</td>\n",
       "      <td>46.520</td>\n",
       "      <td>6.565</td>\n",
       "      <td>Lausanne</td>\n",
       "      <td>CHE</td>\n",
       "      <td>sub-urban</td>\n",
       "      <td>Lausanne</td>\n",
       "      <td>CHE</td>\n",
       "      <td>sub-urban</td>\n",
       "    </tr>\n",
       "    <tr>\n",
       "      <th>130616</th>\n",
       "      <td>#225:47060</td>\n",
       "      <td>Leg</td>\n",
       "      <td>8g5HrJBPR6bhIdMr6qln8AAq4pp1</td>\n",
       "      <td>#130:20811</td>\n",
       "      <td>9</td>\n",
       "      <td>2019-11-28 16:38:29.151</td>\n",
       "      <td>2019-11-28 16:57:53.991</td>\n",
       "      <td>5577.0</td>\n",
       "      <td>5577.0</td>\n",
       "      <td>0.0</td>\n",
       "      <td>...</td>\n",
       "      <td>46.520</td>\n",
       "      <td>6.565</td>\n",
       "      <td>46.545</td>\n",
       "      <td>6.565</td>\n",
       "      <td>Lausanne</td>\n",
       "      <td>CHE</td>\n",
       "      <td>sub-urban</td>\n",
       "      <td>Lausanne</td>\n",
       "      <td>CHE</td>\n",
       "      <td>sub-urban</td>\n",
       "    </tr>\n",
       "  </tbody>\n",
       "</table>\n",
       "<p>130617 rows × 26 columns</p>\n",
       "</div>"
      ],
      "text/plain": [
       "             legid class                        userid      tripid  motid   \n",
       "0         #24:3498   Leg  o3QNooVleBR9WfbIaCqsaj3DlDl2    #32:1461      7  \\\n",
       "1         #25:3400   Leg  IGpJc0Az17bxe4MT6pHDx6lQ3LD2    #31:1449      7   \n",
       "2         #25:3460   Leg  IGpJc0Az17bxe4MT6pHDx6lQ3LD2    #30:1498      7   \n",
       "3         #24:3479   Leg  IGpJc0Az17bxe4MT6pHDx6lQ3LD2    #33:1435      1   \n",
       "4         #23:5342   Leg  IGpJc0Az17bxe4MT6pHDx6lQ3LD2    #33:2147      9   \n",
       "...            ...   ...                           ...         ...    ...   \n",
       "130612  #222:47082   Leg  8g5HrJBPR6bhIdMr6qln8AAq4pp1  #131:20807      7   \n",
       "130613  #223:47077   Leg  8g5HrJBPR6bhIdMr6qln8AAq4pp1  #131:20807      9   \n",
       "130614  #224:47071   Leg  8g5HrJBPR6bhIdMr6qln8AAq4pp1  #131:20807      7   \n",
       "130615  #224:47070   Leg  8g5HrJBPR6bhIdMr6qln8AAq4pp1  #130:20811      7   \n",
       "130616  #225:47060   Leg  8g5HrJBPR6bhIdMr6qln8AAq4pp1  #130:20811      9   \n",
       "\n",
       "                     start_date                 end_date  true_distance   \n",
       "0       2019-05-06 16:26:16.773  2019-05-06 16:38:30.295          497.0  \\\n",
       "1       2019-05-07 14:31:11.110  2019-05-07 14:36:22.474            0.0   \n",
       "2       2019-05-07 15:40:10.952  2019-05-07 15:43:29.090           37.0   \n",
       "3       2019-05-07 15:54:37.610  2019-05-07 16:00:42.174            0.0   \n",
       "4       2019-05-21 04:45:12.391  2019-05-21 04:47:30.021          658.0   \n",
       "...                         ...                      ...            ...   \n",
       "130612  2019-11-28 12:04:33.538  2019-11-28 12:10:38.924          206.0   \n",
       "130613  2019-11-28 12:10:38.924  2019-11-28 12:25:37.025         4957.0   \n",
       "130614  2019-11-28 12:25:37.025  2019-11-28 12:27:53.168          364.0   \n",
       "130615  2019-11-28 16:36:57.975  2019-11-28 16:38:29.151           78.0   \n",
       "130616  2019-11-28 16:38:29.151  2019-11-28 16:57:53.991         5577.0   \n",
       "\n",
       "        leg_distance  leg_duration  ...  start_lat start_lon end_lat end_lon   \n",
       "0              218.0           0.0  ...     38.736    -9.141  38.735  -9.141  \\\n",
       "1              385.0           0.0  ...     50.847     4.353  50.845   4.357   \n",
       "2               37.0           0.0  ...     51.200     4.850  51.200   4.850   \n",
       "3              580.0           0.0  ...     51.200     4.800  51.200   4.800   \n",
       "4              658.0           0.0  ...     51.200     4.850  51.200   4.800   \n",
       "...              ...           ...  ...        ...       ...     ...     ...   \n",
       "130612         206.0         365.0  ...     46.540     6.565  46.545   6.565   \n",
       "130613        4957.0           0.0  ...     46.545     6.565  46.525   6.565   \n",
       "130614         364.0           0.0  ...     46.520     6.565  46.520   6.565   \n",
       "130615          78.0           0.0  ...     46.520     6.565  46.520   6.565   \n",
       "130616        5577.0           0.0  ...     46.520     6.565  46.545   6.565   \n",
       "\n",
       "       start_name start_country  start_class  end_name  end_country  end_class  \n",
       "0          Lisbon           PRT        urban    Lisbon          PRT      urban  \n",
       "1        Brussels           BEL        urban  Brussels          BEL      urban  \n",
       "2             NaN           NaN        rural       NaN          NaN      rural  \n",
       "3             NaN           NaN        rural       NaN          NaN      rural  \n",
       "4             NaN           NaN        rural       NaN          NaN      rural  \n",
       "...           ...           ...          ...       ...          ...        ...  \n",
       "130612   Lausanne           CHE    sub-urban  Lausanne          CHE  sub-urban  \n",
       "130613   Lausanne           CHE    sub-urban  Lausanne          CHE  sub-urban  \n",
       "130614   Lausanne           CHE    sub-urban  Lausanne          CHE  sub-urban  \n",
       "130615   Lausanne           CHE    sub-urban  Lausanne          CHE  sub-urban  \n",
       "130616   Lausanne           CHE    sub-urban  Lausanne          CHE  sub-urban  \n",
       "\n",
       "[130617 rows x 26 columns]"
      ]
     },
     "execution_count": 13,
     "metadata": {},
     "output_type": "execute_result"
    }
   ],
   "source": [
    "legmerged=pd.merge(datas['legs'],datas['legs_coordinates'],on='legid')\n",
    "legmerged"
   ]
  },
  {
   "cell_type": "code",
   "execution_count": 14,
   "metadata": {},
   "outputs": [
    {
     "data": {
      "text/plain": [
       "gender\n",
       "Male      1880\n",
       "Female    1435\n",
       "Other       15\n",
       "Name: count, dtype: int64"
      ]
     },
     "execution_count": 14,
     "metadata": {},
     "output_type": "execute_result"
    }
   ],
   "source": [
    "datas['user_details']['gender'].value_counts()"
   ]
  },
  {
   "cell_type": "code",
   "execution_count": 15,
   "metadata": {},
   "outputs": [
    {
     "data": {
      "text/html": [
       "<div>\n",
       "<style scoped>\n",
       "    .dataframe tbody tr th:only-of-type {\n",
       "        vertical-align: middle;\n",
       "    }\n",
       "\n",
       "    .dataframe tbody tr th {\n",
       "        vertical-align: top;\n",
       "    }\n",
       "\n",
       "    .dataframe thead th {\n",
       "        text-align: right;\n",
       "    }\n",
       "</style>\n",
       "<table border=\"1\" class=\"dataframe\">\n",
       "  <thead>\n",
       "    <tr style=\"text-align: right;\">\n",
       "      <th></th>\n",
       "      <th>legid</th>\n",
       "      <th>class</th>\n",
       "      <th>userid</th>\n",
       "      <th>tripid</th>\n",
       "      <th>motid</th>\n",
       "      <th>start_date</th>\n",
       "      <th>end_date</th>\n",
       "      <th>true_distance</th>\n",
       "      <th>leg_distance</th>\n",
       "      <th>leg_duration</th>\n",
       "      <th>...</th>\n",
       "      <th>gender</th>\n",
       "      <th>age_range</th>\n",
       "      <th>lang</th>\n",
       "      <th>city</th>\n",
       "      <th>country</th>\n",
       "      <th>education_level</th>\n",
       "      <th>marital_status_household</th>\n",
       "      <th>number_people_household</th>\n",
       "      <th>labour_status_household</th>\n",
       "      <th>years_of_residence_household</th>\n",
       "    </tr>\n",
       "  </thead>\n",
       "  <tbody>\n",
       "    <tr>\n",
       "      <th>0</th>\n",
       "      <td>#24:3498</td>\n",
       "      <td>Leg</td>\n",
       "      <td>o3QNooVleBR9WfbIaCqsaj3DlDl2</td>\n",
       "      <td>#32:1461</td>\n",
       "      <td>7</td>\n",
       "      <td>2019-05-06 16:26:16.773</td>\n",
       "      <td>2019-05-06 16:38:30.295</td>\n",
       "      <td>497.0</td>\n",
       "      <td>218.0</td>\n",
       "      <td>0.0</td>\n",
       "      <td>...</td>\n",
       "      <td>Male</td>\n",
       "      <td>16-24</td>\n",
       "      <td>eng</td>\n",
       "      <td>Lisboa</td>\n",
       "      <td>PRT</td>\n",
       "      <td>NaN</td>\n",
       "      <td>NaN</td>\n",
       "      <td>NaN</td>\n",
       "      <td>NaN</td>\n",
       "      <td>NaN</td>\n",
       "    </tr>\n",
       "    <tr>\n",
       "      <th>1</th>\n",
       "      <td>#25:3400</td>\n",
       "      <td>Leg</td>\n",
       "      <td>IGpJc0Az17bxe4MT6pHDx6lQ3LD2</td>\n",
       "      <td>#31:1449</td>\n",
       "      <td>7</td>\n",
       "      <td>2019-05-07 14:31:11.110</td>\n",
       "      <td>2019-05-07 14:36:22.474</td>\n",
       "      <td>0.0</td>\n",
       "      <td>385.0</td>\n",
       "      <td>0.0</td>\n",
       "      <td>...</td>\n",
       "      <td>Male</td>\n",
       "      <td>25-49</td>\n",
       "      <td>dut</td>\n",
       "      <td>Brussels</td>\n",
       "      <td>BEL</td>\n",
       "      <td>NaN</td>\n",
       "      <td>NaN</td>\n",
       "      <td>NaN</td>\n",
       "      <td>NaN</td>\n",
       "      <td>NaN</td>\n",
       "    </tr>\n",
       "    <tr>\n",
       "      <th>2</th>\n",
       "      <td>#25:3460</td>\n",
       "      <td>Leg</td>\n",
       "      <td>IGpJc0Az17bxe4MT6pHDx6lQ3LD2</td>\n",
       "      <td>#30:1498</td>\n",
       "      <td>7</td>\n",
       "      <td>2019-05-07 15:40:10.952</td>\n",
       "      <td>2019-05-07 15:43:29.090</td>\n",
       "      <td>37.0</td>\n",
       "      <td>37.0</td>\n",
       "      <td>0.0</td>\n",
       "      <td>...</td>\n",
       "      <td>Male</td>\n",
       "      <td>25-49</td>\n",
       "      <td>dut</td>\n",
       "      <td>Brussels</td>\n",
       "      <td>BEL</td>\n",
       "      <td>NaN</td>\n",
       "      <td>NaN</td>\n",
       "      <td>NaN</td>\n",
       "      <td>NaN</td>\n",
       "      <td>NaN</td>\n",
       "    </tr>\n",
       "    <tr>\n",
       "      <th>3</th>\n",
       "      <td>#24:3479</td>\n",
       "      <td>Leg</td>\n",
       "      <td>IGpJc0Az17bxe4MT6pHDx6lQ3LD2</td>\n",
       "      <td>#33:1435</td>\n",
       "      <td>1</td>\n",
       "      <td>2019-05-07 15:54:37.610</td>\n",
       "      <td>2019-05-07 16:00:42.174</td>\n",
       "      <td>0.0</td>\n",
       "      <td>580.0</td>\n",
       "      <td>0.0</td>\n",
       "      <td>...</td>\n",
       "      <td>Male</td>\n",
       "      <td>25-49</td>\n",
       "      <td>dut</td>\n",
       "      <td>Brussels</td>\n",
       "      <td>BEL</td>\n",
       "      <td>NaN</td>\n",
       "      <td>NaN</td>\n",
       "      <td>NaN</td>\n",
       "      <td>NaN</td>\n",
       "      <td>NaN</td>\n",
       "    </tr>\n",
       "    <tr>\n",
       "      <th>4</th>\n",
       "      <td>#23:5342</td>\n",
       "      <td>Leg</td>\n",
       "      <td>IGpJc0Az17bxe4MT6pHDx6lQ3LD2</td>\n",
       "      <td>#33:2147</td>\n",
       "      <td>9</td>\n",
       "      <td>2019-05-21 04:45:12.391</td>\n",
       "      <td>2019-05-21 04:47:30.021</td>\n",
       "      <td>658.0</td>\n",
       "      <td>658.0</td>\n",
       "      <td>0.0</td>\n",
       "      <td>...</td>\n",
       "      <td>Male</td>\n",
       "      <td>25-49</td>\n",
       "      <td>dut</td>\n",
       "      <td>Brussels</td>\n",
       "      <td>BEL</td>\n",
       "      <td>NaN</td>\n",
       "      <td>NaN</td>\n",
       "      <td>NaN</td>\n",
       "      <td>NaN</td>\n",
       "      <td>NaN</td>\n",
       "    </tr>\n",
       "    <tr>\n",
       "      <th>...</th>\n",
       "      <td>...</td>\n",
       "      <td>...</td>\n",
       "      <td>...</td>\n",
       "      <td>...</td>\n",
       "      <td>...</td>\n",
       "      <td>...</td>\n",
       "      <td>...</td>\n",
       "      <td>...</td>\n",
       "      <td>...</td>\n",
       "      <td>...</td>\n",
       "      <td>...</td>\n",
       "      <td>...</td>\n",
       "      <td>...</td>\n",
       "      <td>...</td>\n",
       "      <td>...</td>\n",
       "      <td>...</td>\n",
       "      <td>...</td>\n",
       "      <td>...</td>\n",
       "      <td>...</td>\n",
       "      <td>...</td>\n",
       "      <td>...</td>\n",
       "    </tr>\n",
       "    <tr>\n",
       "      <th>130612</th>\n",
       "      <td>#222:47082</td>\n",
       "      <td>Leg</td>\n",
       "      <td>8g5HrJBPR6bhIdMr6qln8AAq4pp1</td>\n",
       "      <td>#131:20807</td>\n",
       "      <td>7</td>\n",
       "      <td>2019-11-28 12:04:33.538</td>\n",
       "      <td>2019-11-28 12:10:38.924</td>\n",
       "      <td>206.0</td>\n",
       "      <td>206.0</td>\n",
       "      <td>365.0</td>\n",
       "      <td>...</td>\n",
       "      <td>Male</td>\n",
       "      <td>25-49</td>\n",
       "      <td>NaN</td>\n",
       "      <td>Lausanne</td>\n",
       "      <td>CHE</td>\n",
       "      <td>NaN</td>\n",
       "      <td>NaN</td>\n",
       "      <td>NaN</td>\n",
       "      <td>NaN</td>\n",
       "      <td>NaN</td>\n",
       "    </tr>\n",
       "    <tr>\n",
       "      <th>130613</th>\n",
       "      <td>#223:47077</td>\n",
       "      <td>Leg</td>\n",
       "      <td>8g5HrJBPR6bhIdMr6qln8AAq4pp1</td>\n",
       "      <td>#131:20807</td>\n",
       "      <td>9</td>\n",
       "      <td>2019-11-28 12:10:38.924</td>\n",
       "      <td>2019-11-28 12:25:37.025</td>\n",
       "      <td>4957.0</td>\n",
       "      <td>4957.0</td>\n",
       "      <td>0.0</td>\n",
       "      <td>...</td>\n",
       "      <td>Male</td>\n",
       "      <td>25-49</td>\n",
       "      <td>NaN</td>\n",
       "      <td>Lausanne</td>\n",
       "      <td>CHE</td>\n",
       "      <td>NaN</td>\n",
       "      <td>NaN</td>\n",
       "      <td>NaN</td>\n",
       "      <td>NaN</td>\n",
       "      <td>NaN</td>\n",
       "    </tr>\n",
       "    <tr>\n",
       "      <th>130614</th>\n",
       "      <td>#224:47071</td>\n",
       "      <td>Leg</td>\n",
       "      <td>8g5HrJBPR6bhIdMr6qln8AAq4pp1</td>\n",
       "      <td>#131:20807</td>\n",
       "      <td>7</td>\n",
       "      <td>2019-11-28 12:25:37.025</td>\n",
       "      <td>2019-11-28 12:27:53.168</td>\n",
       "      <td>364.0</td>\n",
       "      <td>364.0</td>\n",
       "      <td>0.0</td>\n",
       "      <td>...</td>\n",
       "      <td>Male</td>\n",
       "      <td>25-49</td>\n",
       "      <td>NaN</td>\n",
       "      <td>Lausanne</td>\n",
       "      <td>CHE</td>\n",
       "      <td>NaN</td>\n",
       "      <td>NaN</td>\n",
       "      <td>NaN</td>\n",
       "      <td>NaN</td>\n",
       "      <td>NaN</td>\n",
       "    </tr>\n",
       "    <tr>\n",
       "      <th>130615</th>\n",
       "      <td>#224:47070</td>\n",
       "      <td>Leg</td>\n",
       "      <td>8g5HrJBPR6bhIdMr6qln8AAq4pp1</td>\n",
       "      <td>#130:20811</td>\n",
       "      <td>7</td>\n",
       "      <td>2019-11-28 16:36:57.975</td>\n",
       "      <td>2019-11-28 16:38:29.151</td>\n",
       "      <td>78.0</td>\n",
       "      <td>78.0</td>\n",
       "      <td>0.0</td>\n",
       "      <td>...</td>\n",
       "      <td>Male</td>\n",
       "      <td>25-49</td>\n",
       "      <td>NaN</td>\n",
       "      <td>Lausanne</td>\n",
       "      <td>CHE</td>\n",
       "      <td>NaN</td>\n",
       "      <td>NaN</td>\n",
       "      <td>NaN</td>\n",
       "      <td>NaN</td>\n",
       "      <td>NaN</td>\n",
       "    </tr>\n",
       "    <tr>\n",
       "      <th>130616</th>\n",
       "      <td>#225:47060</td>\n",
       "      <td>Leg</td>\n",
       "      <td>8g5HrJBPR6bhIdMr6qln8AAq4pp1</td>\n",
       "      <td>#130:20811</td>\n",
       "      <td>9</td>\n",
       "      <td>2019-11-28 16:38:29.151</td>\n",
       "      <td>2019-11-28 16:57:53.991</td>\n",
       "      <td>5577.0</td>\n",
       "      <td>5577.0</td>\n",
       "      <td>0.0</td>\n",
       "      <td>...</td>\n",
       "      <td>Male</td>\n",
       "      <td>25-49</td>\n",
       "      <td>NaN</td>\n",
       "      <td>Lausanne</td>\n",
       "      <td>CHE</td>\n",
       "      <td>NaN</td>\n",
       "      <td>NaN</td>\n",
       "      <td>NaN</td>\n",
       "      <td>NaN</td>\n",
       "      <td>NaN</td>\n",
       "    </tr>\n",
       "  </tbody>\n",
       "</table>\n",
       "<p>130617 rows × 37 columns</p>\n",
       "</div>"
      ],
      "text/plain": [
       "             legid class                        userid      tripid  motid   \n",
       "0         #24:3498   Leg  o3QNooVleBR9WfbIaCqsaj3DlDl2    #32:1461      7  \\\n",
       "1         #25:3400   Leg  IGpJc0Az17bxe4MT6pHDx6lQ3LD2    #31:1449      7   \n",
       "2         #25:3460   Leg  IGpJc0Az17bxe4MT6pHDx6lQ3LD2    #30:1498      7   \n",
       "3         #24:3479   Leg  IGpJc0Az17bxe4MT6pHDx6lQ3LD2    #33:1435      1   \n",
       "4         #23:5342   Leg  IGpJc0Az17bxe4MT6pHDx6lQ3LD2    #33:2147      9   \n",
       "...            ...   ...                           ...         ...    ...   \n",
       "130612  #222:47082   Leg  8g5HrJBPR6bhIdMr6qln8AAq4pp1  #131:20807      7   \n",
       "130613  #223:47077   Leg  8g5HrJBPR6bhIdMr6qln8AAq4pp1  #131:20807      9   \n",
       "130614  #224:47071   Leg  8g5HrJBPR6bhIdMr6qln8AAq4pp1  #131:20807      7   \n",
       "130615  #224:47070   Leg  8g5HrJBPR6bhIdMr6qln8AAq4pp1  #130:20811      7   \n",
       "130616  #225:47060   Leg  8g5HrJBPR6bhIdMr6qln8AAq4pp1  #130:20811      9   \n",
       "\n",
       "                    start_date                end_date  true_distance   \n",
       "0      2019-05-06 16:26:16.773 2019-05-06 16:38:30.295          497.0  \\\n",
       "1      2019-05-07 14:31:11.110 2019-05-07 14:36:22.474            0.0   \n",
       "2      2019-05-07 15:40:10.952 2019-05-07 15:43:29.090           37.0   \n",
       "3      2019-05-07 15:54:37.610 2019-05-07 16:00:42.174            0.0   \n",
       "4      2019-05-21 04:45:12.391 2019-05-21 04:47:30.021          658.0   \n",
       "...                        ...                     ...            ...   \n",
       "130612 2019-11-28 12:04:33.538 2019-11-28 12:10:38.924          206.0   \n",
       "130613 2019-11-28 12:10:38.924 2019-11-28 12:25:37.025         4957.0   \n",
       "130614 2019-11-28 12:25:37.025 2019-11-28 12:27:53.168          364.0   \n",
       "130615 2019-11-28 16:36:57.975 2019-11-28 16:38:29.151           78.0   \n",
       "130616 2019-11-28 16:38:29.151 2019-11-28 16:57:53.991         5577.0   \n",
       "\n",
       "        leg_distance  leg_duration  ...  gender age_range lang      city   \n",
       "0              218.0           0.0  ...    Male     16-24  eng    Lisboa  \\\n",
       "1              385.0           0.0  ...    Male     25-49  dut  Brussels   \n",
       "2               37.0           0.0  ...    Male     25-49  dut  Brussels   \n",
       "3              580.0           0.0  ...    Male     25-49  dut  Brussels   \n",
       "4              658.0           0.0  ...    Male     25-49  dut  Brussels   \n",
       "...              ...           ...  ...     ...       ...  ...       ...   \n",
       "130612         206.0         365.0  ...    Male     25-49  NaN  Lausanne   \n",
       "130613        4957.0           0.0  ...    Male     25-49  NaN  Lausanne   \n",
       "130614         364.0           0.0  ...    Male     25-49  NaN  Lausanne   \n",
       "130615          78.0           0.0  ...    Male     25-49  NaN  Lausanne   \n",
       "130616        5577.0           0.0  ...    Male     25-49  NaN  Lausanne   \n",
       "\n",
       "       country education_level  marital_status_household   \n",
       "0          PRT             NaN                       NaN  \\\n",
       "1          BEL             NaN                       NaN   \n",
       "2          BEL             NaN                       NaN   \n",
       "3          BEL             NaN                       NaN   \n",
       "4          BEL             NaN                       NaN   \n",
       "...        ...             ...                       ...   \n",
       "130612     CHE             NaN                       NaN   \n",
       "130613     CHE             NaN                       NaN   \n",
       "130614     CHE             NaN                       NaN   \n",
       "130615     CHE             NaN                       NaN   \n",
       "130616     CHE             NaN                       NaN   \n",
       "\n",
       "        number_people_household  labour_status_household   \n",
       "0                           NaN                      NaN  \\\n",
       "1                           NaN                      NaN   \n",
       "2                           NaN                      NaN   \n",
       "3                           NaN                      NaN   \n",
       "4                           NaN                      NaN   \n",
       "...                         ...                      ...   \n",
       "130612                      NaN                      NaN   \n",
       "130613                      NaN                      NaN   \n",
       "130614                      NaN                      NaN   \n",
       "130615                      NaN                      NaN   \n",
       "130616                      NaN                      NaN   \n",
       "\n",
       "        years_of_residence_household  \n",
       "0                                NaN  \n",
       "1                                NaN  \n",
       "2                                NaN  \n",
       "3                                NaN  \n",
       "4                                NaN  \n",
       "...                              ...  \n",
       "130612                           NaN  \n",
       "130613                           NaN  \n",
       "130614                           NaN  \n",
       "130615                           NaN  \n",
       "130616                           NaN  \n",
       "\n",
       "[130617 rows x 37 columns]"
      ]
     },
     "execution_count": 15,
     "metadata": {},
     "output_type": "execute_result"
    }
   ],
   "source": [
    "leg_coor_user_merged = pd.merge(legmerged,datas['user_details'],on='userid')\n",
    "#parse start_date to datetime format\n",
    "leg_coor_user_merged['start_date']=pd.to_datetime(leg_coor_user_merged['start_date'])\n",
    "leg_coor_user_merged['end_date']=pd.to_datetime(leg_coor_user_merged['end_date'])\n",
    "leg_coor_user_merged\n",
    "\n"
   ]
  },
  {
   "cell_type": "code",
   "execution_count": 16,
   "metadata": {},
   "outputs": [
    {
     "data": {
      "text/plain": [
       "Index(['legid', 'class', 'userid', 'tripid', 'motid', 'start_date', 'end_date',\n",
       "       'true_distance', 'leg_distance', 'leg_duration',\n",
       "       'worthwhileness_rating', 'transport_category', 'campaign', 'weekday',\n",
       "       'weekday_class', 'dateonly', 'start_lat', 'start_lon', 'end_lat',\n",
       "       'end_lon', 'start_name', 'start_country', 'start_class', 'end_name',\n",
       "       'end_country', 'end_class', 'registration_date', 'gender', 'age_range',\n",
       "       'lang', 'city', 'country', 'education_level',\n",
       "       'marital_status_household', 'number_people_household',\n",
       "       'labour_status_household', 'years_of_residence_household'],\n",
       "      dtype='object')"
      ]
     },
     "execution_count": 16,
     "metadata": {},
     "output_type": "execute_result"
    }
   ],
   "source": [
    "leg_coor_user_merged.columns"
   ]
  },
  {
   "attachments": {},
   "cell_type": "markdown",
   "metadata": {},
   "source": [
    "## Convert to geodataframe"
   ]
  },
  {
   "cell_type": "code",
   "execution_count": 17,
   "metadata": {},
   "outputs": [],
   "source": [
    "#take columns start_lat, start_lon, end_lat, end_lon from leg_coor_user_merged and create a geopandas dataframe with crs epsg 4326 and point geometry with start coordinate\n",
    "import geopandas as gpd\n",
    "from shapely.geometry import Point\n",
    "leg_coor_user_merged['start_point']=leg_coor_user_merged.apply(lambda x: Point(x['start_lon'],x['start_lat']),axis=1)\n",
    "#convert leg_coor_user_merged to geo dataframe\n",
    "leg_coor_user_merged=gpd.GeoDataFrame(leg_coor_user_merged,geometry='start_point',crs='epsg:4326')"
   ]
  },
  {
   "cell_type": "code",
   "execution_count": 18,
   "metadata": {},
   "outputs": [
    {
     "name": "stderr",
     "output_type": "stream",
     "text": [
      "/var/folders/9h/wspygsdd64nc8w1bt957q7t40000gn/T/ipykernel_14735/2823248467.py:4: FutureWarning: The geopandas.dataset module is deprecated and will be removed in GeoPandas 1.0. You can get the original 'naturalearth_lowres' data from https://www.naturalearthdata.com/downloads/110m-cultural-vectors/.\n",
      "  world = gpd.read_file(gpd.datasets.get_path('naturalearth_lowres'))\n"
     ]
    }
   ],
   "source": [
    "import geopandas as gpd\n",
    "from geopandas.tools import sjoin\n",
    "import matplotlib.pyplot as plt\n",
    "world = gpd.read_file(gpd.datasets.get_path('naturalearth_lowres'))\n",
    "europe = world[world['continent'] == 'Europe']\n",
    "\n",
    "\n",
    "\n"
   ]
  },
  {
   "cell_type": "code",
   "execution_count": 19,
   "metadata": {},
   "outputs": [
    {
     "data": {
      "image/png": "[encoded data removed]",
      "text/plain": [
       "<Figure size 1500x1500 with 1 Axes>"
      ]
     },
     "metadata": {},
     "output_type": "display_data"
    }
   ],
   "source": [
    "#plot leg_coor_user_merged['start_point'] on europe map\n",
    "fig, ax = plt.subplots(figsize=(15,15))\n",
    "europe.plot(ax=ax, color='white', edgecolor='black')\n",
    "leg_coor_user_merged.plot(ax=ax, color='red', markersize=0.2, alpha=0.1)\n",
    "ax.set_xlim(-20, 40)\n",
    "ax.set_ylim(30, 70)\n",
    "plt.show()\n",
    "\n",
    "\n"
   ]
  },
  {
   "cell_type": "code",
   "execution_count": 20,
   "metadata": {},
   "outputs": [
    {
     "name": "stderr",
     "output_type": "stream",
     "text": [
      "/Users/zavidos/mambaforge/envs/ds/lib/python3.10/site-packages/IPython/core/interactiveshell.py:3448: FutureWarning: The `op` parameter is deprecated and will be removed in a future release. Please use the `predicate` parameter instead.\n",
      "  if await self.run_code(code, result, async_=asy):\n"
     ]
    }
   ],
   "source": [
    "#filter leg_coor_user_merged to get only with both start and end inside italy\n",
    "italy=world[world['name']=='Italy']\n",
    "\n",
    "\n",
    "leg_coor_user_merged_italy=sjoin(leg_coor_user_merged,italy,how='inner',op='intersects')\n",
    "\n"
   ]
  },
  {
   "cell_type": "code",
   "execution_count": 21,
   "metadata": {},
   "outputs": [
    {
     "data": {
      "image/png": "[encoded data removed]",
      "text/plain": [
       "<Figure size 1500x1500 with 1 Axes>"
      ]
     },
     "metadata": {},
     "output_type": "display_data"
    }
   ],
   "source": [
    "#do the same plot but for italy only\n",
    "italy = world[world['name'] == 'Italy']\n",
    "fig, ax = plt.subplots(figsize=(15,15))\n",
    "italy.plot(ax=ax, color='white', edgecolor='black')\n",
    "leg_coor_user_merged_italy.plot(ax=ax, color='red', markersize=0.2, alpha=0.1)\n",
    "ax.set_xlim(5, 20)\n",
    "ax.set_ylim(35, 50)\n",
    "plt.show()\n"
   ]
  },
  {
   "attachments": {},
   "cell_type": "markdown",
   "metadata": {},
   "source": [
    "### Using more detailed map of europe"
   ]
  },
  {
   "cell_type": "code",
   "execution_count": 22,
   "metadata": {},
   "outputs": [],
   "source": [
    "#import shapefile from Europe_coastline_shapefile folder\n",
    "europe_coastline = gpd.read_file('Europe_coastline_shapefile/Europe_coastline_poly.shp')\n",
    "\n",
    "#confert europe_coastline to epsg 4326\n",
    "europe_coastline=europe_coastline.to_crs('epsg:4326')\n"
   ]
  },
  {
   "cell_type": "code",
   "execution_count": 23,
   "metadata": {},
   "outputs": [
    {
     "data": {
      "image/png": "[encoded data removed]",
      "text/plain": [
       "<Figure size 1500x1500 with 1 Axes>"
      ]
     },
     "metadata": {},
     "output_type": "display_data"
    }
   ],
   "source": [
    "\n",
    "#plot leg_coor_user_merged['start_point'] on europe_coastline\n",
    "fig, ax = plt.subplots(figsize=(15,15))\n",
    "europe_coastline.plot(ax=ax,alpha=0.4, color='grey')\n",
    "leg_coor_user_merged.plot(ax=ax, color='red', markersize=0.2, alpha=0.1)\n",
    "ax.set_xlim(-20, 40)\n",
    "ax.set_ylim(30, 70)\n",
    "plt.show()\n"
   ]
  },
  {
   "cell_type": "code",
   "execution_count": 67,
   "metadata": {},
   "outputs": [
    {
     "data": {
      "text/plain": [
       "gender\n",
       "Female    1.997427\n",
       "Male      2.076364\n",
       "Other     2.839695\n",
       "Name: legid, dtype: float64"
      ]
     },
     "execution_count": 67,
     "metadata": {},
     "output_type": "execute_result"
    }
   ],
   "source": [
    "#how many legs per trip divided by gender\n",
    "leg_coor_user_merged.groupby(['gender','tripid']).count()['legid'].groupby('gender').mean()\n"
   ]
  },
  {
   "attachments": {},
   "cell_type": "markdown",
   "metadata": {},
   "source": [
    "## Merge with purpose and vehicle type"
   ]
  },
  {
   "cell_type": "code",
   "execution_count": 24,
   "metadata": {},
   "outputs": [],
   "source": [
    "#join leg_coor_user_merged with datas['purposes'] on tripid\n",
    "leg_coor_user_merged_purposes = pd.merge(leg_coor_user_merged,datas['purposes'],on='tripid') "
   ]
  },
  {
   "cell_type": "code",
   "execution_count": 25,
   "metadata": {},
   "outputs": [],
   "source": [
    "#find columns with more then 20000 nan values and drop them\n",
    "todrop=leg_coor_user_merged_purposes.isna().sum()[leg_coor_user_merged_purposes.isna().sum()>20000].index.to_list()\n",
    "leg_coor_user_merged_purposes.drop(columns=todrop,inplace=True)"
   ]
  },
  {
   "cell_type": "code",
   "execution_count": 26,
   "metadata": {},
   "outputs": [
    {
     "data": {
      "text/plain": [
       "legid                        0\n",
       "class                        0\n",
       "userid                       0\n",
       "tripid                       0\n",
       "motid                        0\n",
       "start_date                   0\n",
       "end_date                     0\n",
       "true_distance            14101\n",
       "leg_distance             14099\n",
       "leg_duration                 0\n",
       "worthwhileness_rating        0\n",
       "transport_category       14199\n",
       "campaign                     0\n",
       "weekday                      0\n",
       "weekday_class                0\n",
       "dateonly                     0\n",
       "start_lat                    0\n",
       "start_lon                    0\n",
       "end_lat                      0\n",
       "end_lon                      0\n",
       "start_class                  0\n",
       "end_class                    0\n",
       "gender                       0\n",
       "age_range                    0\n",
       "city                         0\n",
       "country                      0\n",
       "start_point                  0\n",
       "purpose                      0\n",
       "dtype: int64"
      ]
     },
     "execution_count": 26,
     "metadata": {},
     "output_type": "execute_result"
    }
   ],
   "source": [
    "leg_coor_user_merged_purposes.isna().sum()"
   ]
  },
  {
   "cell_type": "code",
   "execution_count": 27,
   "metadata": {},
   "outputs": [
    {
     "data": {
      "text/html": [
       "<div>\n",
       "<style scoped>\n",
       "    .dataframe tbody tr th:only-of-type {\n",
       "        vertical-align: middle;\n",
       "    }\n",
       "\n",
       "    .dataframe tbody tr th {\n",
       "        vertical-align: top;\n",
       "    }\n",
       "\n",
       "    .dataframe thead th {\n",
       "        text-align: right;\n",
       "    }\n",
       "</style>\n",
       "<table border=\"1\" class=\"dataframe\">\n",
       "  <thead>\n",
       "    <tr style=\"text-align: right;\">\n",
       "      <th></th>\n",
       "      <th>legid</th>\n",
       "      <th>class</th>\n",
       "      <th>userid</th>\n",
       "      <th>tripid</th>\n",
       "      <th>motid</th>\n",
       "      <th>start_date</th>\n",
       "      <th>end_date</th>\n",
       "      <th>true_distance</th>\n",
       "      <th>leg_distance</th>\n",
       "      <th>leg_duration</th>\n",
       "      <th>...</th>\n",
       "      <th>end_lat</th>\n",
       "      <th>end_lon</th>\n",
       "      <th>start_class</th>\n",
       "      <th>end_class</th>\n",
       "      <th>gender</th>\n",
       "      <th>age_range</th>\n",
       "      <th>city</th>\n",
       "      <th>country</th>\n",
       "      <th>start_point</th>\n",
       "      <th>purpose</th>\n",
       "    </tr>\n",
       "  </thead>\n",
       "  <tbody>\n",
       "    <tr>\n",
       "      <th>0</th>\n",
       "      <td>#24:3498</td>\n",
       "      <td>Leg</td>\n",
       "      <td>o3QNooVleBR9WfbIaCqsaj3DlDl2</td>\n",
       "      <td>#32:1461</td>\n",
       "      <td>7</td>\n",
       "      <td>2019-05-06 16:26:16.773</td>\n",
       "      <td>2019-05-06 16:38:30.295</td>\n",
       "      <td>497.0</td>\n",
       "      <td>218.0</td>\n",
       "      <td>0.0</td>\n",
       "      <td>...</td>\n",
       "      <td>38.735</td>\n",
       "      <td>-9.141</td>\n",
       "      <td>urban</td>\n",
       "      <td>urban</td>\n",
       "      <td>Male</td>\n",
       "      <td>16-24</td>\n",
       "      <td>Lisboa</td>\n",
       "      <td>PRT</td>\n",
       "      <td>POINT (-9.14100 38.73600)</td>\n",
       "      <td>Other</td>\n",
       "    </tr>\n",
       "    <tr>\n",
       "      <th>1</th>\n",
       "      <td>#25:3400</td>\n",
       "      <td>Leg</td>\n",
       "      <td>IGpJc0Az17bxe4MT6pHDx6lQ3LD2</td>\n",
       "      <td>#31:1449</td>\n",
       "      <td>7</td>\n",
       "      <td>2019-05-07 14:31:11.110</td>\n",
       "      <td>2019-05-07 14:36:22.474</td>\n",
       "      <td>0.0</td>\n",
       "      <td>385.0</td>\n",
       "      <td>0.0</td>\n",
       "      <td>...</td>\n",
       "      <td>50.845</td>\n",
       "      <td>4.357</td>\n",
       "      <td>urban</td>\n",
       "      <td>urban</td>\n",
       "      <td>Male</td>\n",
       "      <td>25-49</td>\n",
       "      <td>Brussels</td>\n",
       "      <td>BEL</td>\n",
       "      <td>POINT (4.35300 50.84700)</td>\n",
       "      <td>Home</td>\n",
       "    </tr>\n",
       "    <tr>\n",
       "      <th>2</th>\n",
       "      <td>#25:3460</td>\n",
       "      <td>Leg</td>\n",
       "      <td>IGpJc0Az17bxe4MT6pHDx6lQ3LD2</td>\n",
       "      <td>#30:1498</td>\n",
       "      <td>7</td>\n",
       "      <td>2019-05-07 15:40:10.952</td>\n",
       "      <td>2019-05-07 15:43:29.090</td>\n",
       "      <td>37.0</td>\n",
       "      <td>37.0</td>\n",
       "      <td>0.0</td>\n",
       "      <td>...</td>\n",
       "      <td>51.200</td>\n",
       "      <td>4.850</td>\n",
       "      <td>rural</td>\n",
       "      <td>rural</td>\n",
       "      <td>Male</td>\n",
       "      <td>25-49</td>\n",
       "      <td>Brussels</td>\n",
       "      <td>BEL</td>\n",
       "      <td>POINT (4.85000 51.20000)</td>\n",
       "      <td>Home</td>\n",
       "    </tr>\n",
       "    <tr>\n",
       "      <th>3</th>\n",
       "      <td>#24:3479</td>\n",
       "      <td>Leg</td>\n",
       "      <td>IGpJc0Az17bxe4MT6pHDx6lQ3LD2</td>\n",
       "      <td>#33:1435</td>\n",
       "      <td>1</td>\n",
       "      <td>2019-05-07 15:54:37.610</td>\n",
       "      <td>2019-05-07 16:00:42.174</td>\n",
       "      <td>0.0</td>\n",
       "      <td>580.0</td>\n",
       "      <td>0.0</td>\n",
       "      <td>...</td>\n",
       "      <td>51.200</td>\n",
       "      <td>4.800</td>\n",
       "      <td>rural</td>\n",
       "      <td>rural</td>\n",
       "      <td>Male</td>\n",
       "      <td>25-49</td>\n",
       "      <td>Brussels</td>\n",
       "      <td>BEL</td>\n",
       "      <td>POINT (4.80000 51.20000)</td>\n",
       "      <td>Home</td>\n",
       "    </tr>\n",
       "    <tr>\n",
       "      <th>4</th>\n",
       "      <td>#23:5342</td>\n",
       "      <td>Leg</td>\n",
       "      <td>IGpJc0Az17bxe4MT6pHDx6lQ3LD2</td>\n",
       "      <td>#33:2147</td>\n",
       "      <td>9</td>\n",
       "      <td>2019-05-21 04:45:12.391</td>\n",
       "      <td>2019-05-21 04:47:30.021</td>\n",
       "      <td>658.0</td>\n",
       "      <td>658.0</td>\n",
       "      <td>0.0</td>\n",
       "      <td>...</td>\n",
       "      <td>51.200</td>\n",
       "      <td>4.800</td>\n",
       "      <td>rural</td>\n",
       "      <td>rural</td>\n",
       "      <td>Male</td>\n",
       "      <td>25-49</td>\n",
       "      <td>Brussels</td>\n",
       "      <td>BEL</td>\n",
       "      <td>POINT (4.85000 51.20000)</td>\n",
       "      <td>Other</td>\n",
       "    </tr>\n",
       "    <tr>\n",
       "      <th>...</th>\n",
       "      <td>...</td>\n",
       "      <td>...</td>\n",
       "      <td>...</td>\n",
       "      <td>...</td>\n",
       "      <td>...</td>\n",
       "      <td>...</td>\n",
       "      <td>...</td>\n",
       "      <td>...</td>\n",
       "      <td>...</td>\n",
       "      <td>...</td>\n",
       "      <td>...</td>\n",
       "      <td>...</td>\n",
       "      <td>...</td>\n",
       "      <td>...</td>\n",
       "      <td>...</td>\n",
       "      <td>...</td>\n",
       "      <td>...</td>\n",
       "      <td>...</td>\n",
       "      <td>...</td>\n",
       "      <td>...</td>\n",
       "      <td>...</td>\n",
       "    </tr>\n",
       "    <tr>\n",
       "      <th>168401</th>\n",
       "      <td>#222:47082</td>\n",
       "      <td>Leg</td>\n",
       "      <td>8g5HrJBPR6bhIdMr6qln8AAq4pp1</td>\n",
       "      <td>#131:20807</td>\n",
       "      <td>7</td>\n",
       "      <td>2019-11-28 12:04:33.538</td>\n",
       "      <td>2019-11-28 12:10:38.924</td>\n",
       "      <td>206.0</td>\n",
       "      <td>206.0</td>\n",
       "      <td>365.0</td>\n",
       "      <td>...</td>\n",
       "      <td>46.545</td>\n",
       "      <td>6.565</td>\n",
       "      <td>sub-urban</td>\n",
       "      <td>sub-urban</td>\n",
       "      <td>Male</td>\n",
       "      <td>25-49</td>\n",
       "      <td>Lausanne</td>\n",
       "      <td>CHE</td>\n",
       "      <td>POINT (6.56500 46.54000)</td>\n",
       "      <td>Work</td>\n",
       "    </tr>\n",
       "    <tr>\n",
       "      <th>168402</th>\n",
       "      <td>#223:47077</td>\n",
       "      <td>Leg</td>\n",
       "      <td>8g5HrJBPR6bhIdMr6qln8AAq4pp1</td>\n",
       "      <td>#131:20807</td>\n",
       "      <td>9</td>\n",
       "      <td>2019-11-28 12:10:38.924</td>\n",
       "      <td>2019-11-28 12:25:37.025</td>\n",
       "      <td>4957.0</td>\n",
       "      <td>4957.0</td>\n",
       "      <td>0.0</td>\n",
       "      <td>...</td>\n",
       "      <td>46.525</td>\n",
       "      <td>6.565</td>\n",
       "      <td>sub-urban</td>\n",
       "      <td>sub-urban</td>\n",
       "      <td>Male</td>\n",
       "      <td>25-49</td>\n",
       "      <td>Lausanne</td>\n",
       "      <td>CHE</td>\n",
       "      <td>POINT (6.56500 46.54500)</td>\n",
       "      <td>Work</td>\n",
       "    </tr>\n",
       "    <tr>\n",
       "      <th>168403</th>\n",
       "      <td>#224:47071</td>\n",
       "      <td>Leg</td>\n",
       "      <td>8g5HrJBPR6bhIdMr6qln8AAq4pp1</td>\n",
       "      <td>#131:20807</td>\n",
       "      <td>7</td>\n",
       "      <td>2019-11-28 12:25:37.025</td>\n",
       "      <td>2019-11-28 12:27:53.168</td>\n",
       "      <td>364.0</td>\n",
       "      <td>364.0</td>\n",
       "      <td>0.0</td>\n",
       "      <td>...</td>\n",
       "      <td>46.520</td>\n",
       "      <td>6.565</td>\n",
       "      <td>sub-urban</td>\n",
       "      <td>sub-urban</td>\n",
       "      <td>Male</td>\n",
       "      <td>25-49</td>\n",
       "      <td>Lausanne</td>\n",
       "      <td>CHE</td>\n",
       "      <td>POINT (6.56500 46.52000)</td>\n",
       "      <td>Work</td>\n",
       "    </tr>\n",
       "    <tr>\n",
       "      <th>168404</th>\n",
       "      <td>#224:47070</td>\n",
       "      <td>Leg</td>\n",
       "      <td>8g5HrJBPR6bhIdMr6qln8AAq4pp1</td>\n",
       "      <td>#130:20811</td>\n",
       "      <td>7</td>\n",
       "      <td>2019-11-28 16:36:57.975</td>\n",
       "      <td>2019-11-28 16:38:29.151</td>\n",
       "      <td>78.0</td>\n",
       "      <td>78.0</td>\n",
       "      <td>0.0</td>\n",
       "      <td>...</td>\n",
       "      <td>46.520</td>\n",
       "      <td>6.565</td>\n",
       "      <td>sub-urban</td>\n",
       "      <td>sub-urban</td>\n",
       "      <td>Male</td>\n",
       "      <td>25-49</td>\n",
       "      <td>Lausanne</td>\n",
       "      <td>CHE</td>\n",
       "      <td>POINT (6.56500 46.52000)</td>\n",
       "      <td>Everyday_Shopping</td>\n",
       "    </tr>\n",
       "    <tr>\n",
       "      <th>168405</th>\n",
       "      <td>#225:47060</td>\n",
       "      <td>Leg</td>\n",
       "      <td>8g5HrJBPR6bhIdMr6qln8AAq4pp1</td>\n",
       "      <td>#130:20811</td>\n",
       "      <td>9</td>\n",
       "      <td>2019-11-28 16:38:29.151</td>\n",
       "      <td>2019-11-28 16:57:53.991</td>\n",
       "      <td>5577.0</td>\n",
       "      <td>5577.0</td>\n",
       "      <td>0.0</td>\n",
       "      <td>...</td>\n",
       "      <td>46.545</td>\n",
       "      <td>6.565</td>\n",
       "      <td>sub-urban</td>\n",
       "      <td>sub-urban</td>\n",
       "      <td>Male</td>\n",
       "      <td>25-49</td>\n",
       "      <td>Lausanne</td>\n",
       "      <td>CHE</td>\n",
       "      <td>POINT (6.56500 46.52000)</td>\n",
       "      <td>Everyday_Shopping</td>\n",
       "    </tr>\n",
       "  </tbody>\n",
       "</table>\n",
       "<p>168406 rows × 28 columns</p>\n",
       "</div>"
      ],
      "text/plain": [
       "             legid class                        userid      tripid  motid   \n",
       "0         #24:3498   Leg  o3QNooVleBR9WfbIaCqsaj3DlDl2    #32:1461      7  \\\n",
       "1         #25:3400   Leg  IGpJc0Az17bxe4MT6pHDx6lQ3LD2    #31:1449      7   \n",
       "2         #25:3460   Leg  IGpJc0Az17bxe4MT6pHDx6lQ3LD2    #30:1498      7   \n",
       "3         #24:3479   Leg  IGpJc0Az17bxe4MT6pHDx6lQ3LD2    #33:1435      1   \n",
       "4         #23:5342   Leg  IGpJc0Az17bxe4MT6pHDx6lQ3LD2    #33:2147      9   \n",
       "...            ...   ...                           ...         ...    ...   \n",
       "168401  #222:47082   Leg  8g5HrJBPR6bhIdMr6qln8AAq4pp1  #131:20807      7   \n",
       "168402  #223:47077   Leg  8g5HrJBPR6bhIdMr6qln8AAq4pp1  #131:20807      9   \n",
       "168403  #224:47071   Leg  8g5HrJBPR6bhIdMr6qln8AAq4pp1  #131:20807      7   \n",
       "168404  #224:47070   Leg  8g5HrJBPR6bhIdMr6qln8AAq4pp1  #130:20811      7   \n",
       "168405  #225:47060   Leg  8g5HrJBPR6bhIdMr6qln8AAq4pp1  #130:20811      9   \n",
       "\n",
       "                    start_date                end_date  true_distance   \n",
       "0      2019-05-06 16:26:16.773 2019-05-06 16:38:30.295          497.0  \\\n",
       "1      2019-05-07 14:31:11.110 2019-05-07 14:36:22.474            0.0   \n",
       "2      2019-05-07 15:40:10.952 2019-05-07 15:43:29.090           37.0   \n",
       "3      2019-05-07 15:54:37.610 2019-05-07 16:00:42.174            0.0   \n",
       "4      2019-05-21 04:45:12.391 2019-05-21 04:47:30.021          658.0   \n",
       "...                        ...                     ...            ...   \n",
       "168401 2019-11-28 12:04:33.538 2019-11-28 12:10:38.924          206.0   \n",
       "168402 2019-11-28 12:10:38.924 2019-11-28 12:25:37.025         4957.0   \n",
       "168403 2019-11-28 12:25:37.025 2019-11-28 12:27:53.168          364.0   \n",
       "168404 2019-11-28 16:36:57.975 2019-11-28 16:38:29.151           78.0   \n",
       "168405 2019-11-28 16:38:29.151 2019-11-28 16:57:53.991         5577.0   \n",
       "\n",
       "        leg_distance  leg_duration  ...  end_lat end_lon start_class   \n",
       "0              218.0           0.0  ...   38.735  -9.141       urban  \\\n",
       "1              385.0           0.0  ...   50.845   4.357       urban   \n",
       "2               37.0           0.0  ...   51.200   4.850       rural   \n",
       "3              580.0           0.0  ...   51.200   4.800       rural   \n",
       "4              658.0           0.0  ...   51.200   4.800       rural   \n",
       "...              ...           ...  ...      ...     ...         ...   \n",
       "168401         206.0         365.0  ...   46.545   6.565   sub-urban   \n",
       "168402        4957.0           0.0  ...   46.525   6.565   sub-urban   \n",
       "168403         364.0           0.0  ...   46.520   6.565   sub-urban   \n",
       "168404          78.0           0.0  ...   46.520   6.565   sub-urban   \n",
       "168405        5577.0           0.0  ...   46.545   6.565   sub-urban   \n",
       "\n",
       "        end_class gender age_range      city  country   \n",
       "0           urban   Male     16-24    Lisboa      PRT  \\\n",
       "1           urban   Male     25-49  Brussels      BEL   \n",
       "2           rural   Male     25-49  Brussels      BEL   \n",
       "3           rural   Male     25-49  Brussels      BEL   \n",
       "4           rural   Male     25-49  Brussels      BEL   \n",
       "...           ...    ...       ...       ...      ...   \n",
       "168401  sub-urban   Male     25-49  Lausanne      CHE   \n",
       "168402  sub-urban   Male     25-49  Lausanne      CHE   \n",
       "168403  sub-urban   Male     25-49  Lausanne      CHE   \n",
       "168404  sub-urban   Male     25-49  Lausanne      CHE   \n",
       "168405  sub-urban   Male     25-49  Lausanne      CHE   \n",
       "\n",
       "                      start_point            purpose  \n",
       "0       POINT (-9.14100 38.73600)              Other  \n",
       "1        POINT (4.35300 50.84700)               Home  \n",
       "2        POINT (4.85000 51.20000)               Home  \n",
       "3        POINT (4.80000 51.20000)               Home  \n",
       "4        POINT (4.85000 51.20000)              Other  \n",
       "...                           ...                ...  \n",
       "168401   POINT (6.56500 46.54000)               Work  \n",
       "168402   POINT (6.56500 46.54500)               Work  \n",
       "168403   POINT (6.56500 46.52000)               Work  \n",
       "168404   POINT (6.56500 46.52000)  Everyday_Shopping  \n",
       "168405   POINT (6.56500 46.52000)  Everyday_Shopping  \n",
       "\n",
       "[168406 rows x 28 columns]"
      ]
     },
     "execution_count": 27,
     "metadata": {},
     "output_type": "execute_result"
    }
   ],
   "source": [
    "leg_coor_user_merged_purposes"
   ]
  },
  {
   "cell_type": "code",
   "execution_count": 28,
   "metadata": {},
   "outputs": [],
   "source": [
    "#join leg_coor_user_merged_purposes with datas['motid'] motid\n",
    "leg_coor_user_merged_purposes_motid = pd.merge(leg_coor_user_merged_purposes,datas['mots'],on='motid')"
   ]
  },
  {
   "cell_type": "code",
   "execution_count": 69,
   "metadata": {},
   "outputs": [
    {
     "name": "stdout",
     "output_type": "stream",
     "text": [
      "Average number of unique legs per trip divided by gender:\n",
      "gender\n",
      "Female    1.997505\n",
      "Male      2.076534\n",
      "Other     2.839695\n",
      "Name: legid, dtype: float64\n"
     ]
    }
   ],
   "source": [
    "# Group the data by 'gender' and 'tripid', count the number of unique 'legid' values within each group, and calculate the mean within each gender group\n",
    "average_unique_legs_per_trip_gender = leg_coor_user_merged_purposes_motid.groupby(['gender', 'tripid'])['legid'].nunique().groupby('gender').mean()\n",
    "\n",
    "print(\"Average number of unique legs per trip divided by gender:\")\n",
    "print(average_unique_legs_per_trip_gender)\n"
   ]
  },
  {
   "cell_type": "code",
   "execution_count": 32,
   "metadata": {},
   "outputs": [
    {
     "data": {
      "text/plain": [
       "array(['Other', 'Home', 'Business_Trip', 'Work', 'Leisure_Hobby',\n",
       "       'Personal_Tasks_Errands', 'Everyday_Shopping', 'Pick_Up_Drop_Off'],\n",
       "      dtype=object)"
      ]
     },
     "execution_count": 32,
     "metadata": {},
     "output_type": "execute_result"
    }
   ],
   "source": [
    "leg_coor_user_merged_purposes_motid.purpose.unique()"
   ]
  },
  {
   "cell_type": "code",
   "execution_count": 33,
   "metadata": {},
   "outputs": [
    {
     "data": {
      "text/html": [
       "<div>\n",
       "<style scoped>\n",
       "    .dataframe tbody tr th:only-of-type {\n",
       "        vertical-align: middle;\n",
       "    }\n",
       "\n",
       "    .dataframe tbody tr th {\n",
       "        vertical-align: top;\n",
       "    }\n",
       "\n",
       "    .dataframe thead th {\n",
       "        text-align: right;\n",
       "    }\n",
       "</style>\n",
       "<table border=\"1\" class=\"dataframe\">\n",
       "  <thead>\n",
       "    <tr style=\"text-align: right;\">\n",
       "      <th></th>\n",
       "      <th>legid</th>\n",
       "      <th>class</th>\n",
       "      <th>userid</th>\n",
       "      <th>tripid</th>\n",
       "      <th>motid</th>\n",
       "      <th>start_date</th>\n",
       "      <th>end_date</th>\n",
       "      <th>true_distance</th>\n",
       "      <th>leg_distance</th>\n",
       "      <th>leg_duration</th>\n",
       "      <th>...</th>\n",
       "      <th>end_lon</th>\n",
       "      <th>start_class</th>\n",
       "      <th>end_class</th>\n",
       "      <th>gender</th>\n",
       "      <th>age_range</th>\n",
       "      <th>city</th>\n",
       "      <th>country</th>\n",
       "      <th>start_point</th>\n",
       "      <th>purpose</th>\n",
       "      <th>mot_text</th>\n",
       "    </tr>\n",
       "  </thead>\n",
       "  <tbody>\n",
       "    <tr>\n",
       "      <th>9</th>\n",
       "      <td>#22:8516</td>\n",
       "      <td>Leg</td>\n",
       "      <td>IGpJc0Az17bxe4MT6pHDx6lQ3LD2</td>\n",
       "      <td>#32:3481</td>\n",
       "      <td>7</td>\n",
       "      <td>2019-06-13 10:09:36.113</td>\n",
       "      <td>2019-06-13 14:04:40.217</td>\n",
       "      <td>62.0</td>\n",
       "      <td>212.0</td>\n",
       "      <td>0.0</td>\n",
       "      <td>...</td>\n",
       "      <td>4.348</td>\n",
       "      <td>urban</td>\n",
       "      <td>urban</td>\n",
       "      <td>Male</td>\n",
       "      <td>25-49</td>\n",
       "      <td>Brussels</td>\n",
       "      <td>BEL</td>\n",
       "      <td>POINT (4.34800 50.86200)</td>\n",
       "      <td>Work</td>\n",
       "      <td>walking</td>\n",
       "    </tr>\n",
       "    <tr>\n",
       "      <th>12</th>\n",
       "      <td>#25:11165</td>\n",
       "      <td>Leg</td>\n",
       "      <td>IGpJc0Az17bxe4MT6pHDx6lQ3LD2</td>\n",
       "      <td>#32:4620</td>\n",
       "      <td>7</td>\n",
       "      <td>2019-07-02 05:26:11.712</td>\n",
       "      <td>2019-07-02 08:00:21.941</td>\n",
       "      <td>0.0</td>\n",
       "      <td>575.0</td>\n",
       "      <td>0.0</td>\n",
       "      <td>...</td>\n",
       "      <td>4.350</td>\n",
       "      <td>urban</td>\n",
       "      <td>urban</td>\n",
       "      <td>Male</td>\n",
       "      <td>25-49</td>\n",
       "      <td>Brussels</td>\n",
       "      <td>BEL</td>\n",
       "      <td>POINT (4.35600 50.84500)</td>\n",
       "      <td>Work</td>\n",
       "      <td>walking</td>\n",
       "    </tr>\n",
       "    <tr>\n",
       "      <th>13</th>\n",
       "      <td>#22:3739</td>\n",
       "      <td>Leg</td>\n",
       "      <td>kgF4dsYgK6RN1Qp0kzJVyWnDaUe2</td>\n",
       "      <td>#32:1547</td>\n",
       "      <td>7</td>\n",
       "      <td>2019-05-10 07:14:09.450</td>\n",
       "      <td>2019-05-10 07:26:15.517</td>\n",
       "      <td>324.0</td>\n",
       "      <td>324.0</td>\n",
       "      <td>0.0</td>\n",
       "      <td>...</td>\n",
       "      <td>4.385</td>\n",
       "      <td>urban</td>\n",
       "      <td>urban</td>\n",
       "      <td>Male</td>\n",
       "      <td>25-49</td>\n",
       "      <td>Brussels</td>\n",
       "      <td>BEL</td>\n",
       "      <td>POINT (4.38900 50.84600)</td>\n",
       "      <td>Work</td>\n",
       "      <td>walking</td>\n",
       "    </tr>\n",
       "    <tr>\n",
       "      <th>26</th>\n",
       "      <td>#23:4562</td>\n",
       "      <td>Leg</td>\n",
       "      <td>kgF4dsYgK6RN1Qp0kzJVyWnDaUe2</td>\n",
       "      <td>#33:1849</td>\n",
       "      <td>7</td>\n",
       "      <td>2019-05-13 07:03:01.686</td>\n",
       "      <td>2019-05-13 07:12:16.147</td>\n",
       "      <td>455.0</td>\n",
       "      <td>455.0</td>\n",
       "      <td>0.0</td>\n",
       "      <td>...</td>\n",
       "      <td>4.385</td>\n",
       "      <td>urban</td>\n",
       "      <td>urban</td>\n",
       "      <td>Male</td>\n",
       "      <td>25-49</td>\n",
       "      <td>Brussels</td>\n",
       "      <td>BEL</td>\n",
       "      <td>POINT (4.39000 50.84700)</td>\n",
       "      <td>Work</td>\n",
       "      <td>walking</td>\n",
       "    </tr>\n",
       "    <tr>\n",
       "      <th>29</th>\n",
       "      <td>#24:4535</td>\n",
       "      <td>Leg</td>\n",
       "      <td>kgF4dsYgK6RN1Qp0kzJVyWnDaUe2</td>\n",
       "      <td>#31:1897</td>\n",
       "      <td>7</td>\n",
       "      <td>2019-05-13 16:00:56.030</td>\n",
       "      <td>2019-05-13 16:04:42.736</td>\n",
       "      <td>313.0</td>\n",
       "      <td>313.0</td>\n",
       "      <td>0.0</td>\n",
       "      <td>...</td>\n",
       "      <td>4.341</td>\n",
       "      <td>urban</td>\n",
       "      <td>urban</td>\n",
       "      <td>Male</td>\n",
       "      <td>25-49</td>\n",
       "      <td>Brussels</td>\n",
       "      <td>BEL</td>\n",
       "      <td>POINT (4.34300 50.83400)</td>\n",
       "      <td>Work</td>\n",
       "      <td>walking</td>\n",
       "    </tr>\n",
       "    <tr>\n",
       "      <th>...</th>\n",
       "      <td>...</td>\n",
       "      <td>...</td>\n",
       "      <td>...</td>\n",
       "      <td>...</td>\n",
       "      <td>...</td>\n",
       "      <td>...</td>\n",
       "      <td>...</td>\n",
       "      <td>...</td>\n",
       "      <td>...</td>\n",
       "      <td>...</td>\n",
       "      <td>...</td>\n",
       "      <td>...</td>\n",
       "      <td>...</td>\n",
       "      <td>...</td>\n",
       "      <td>...</td>\n",
       "      <td>...</td>\n",
       "      <td>...</td>\n",
       "      <td>...</td>\n",
       "      <td>...</td>\n",
       "      <td>...</td>\n",
       "      <td>...</td>\n",
       "    </tr>\n",
       "    <tr>\n",
       "      <th>168395</th>\n",
       "      <td>#23:4268</td>\n",
       "      <td>Leg</td>\n",
       "      <td>YYk66LyNMvguG1OwAsiQFLXOqXM2</td>\n",
       "      <td>#33:1723</td>\n",
       "      <td>32</td>\n",
       "      <td>2019-05-13 12:36:21.470</td>\n",
       "      <td>2019-05-13 13:01:53.416</td>\n",
       "      <td>0.0</td>\n",
       "      <td>12625.0</td>\n",
       "      <td>0.0</td>\n",
       "      <td>...</td>\n",
       "      <td>1.452</td>\n",
       "      <td>urban</td>\n",
       "      <td>urban</td>\n",
       "      <td>Male</td>\n",
       "      <td>25-49</td>\n",
       "      <td>Toulouse</td>\n",
       "      <td>FRA</td>\n",
       "      <td>POINT (1.36600 43.65400)</td>\n",
       "      <td>Work</td>\n",
       "      <td>otherPrivate</td>\n",
       "    </tr>\n",
       "    <tr>\n",
       "      <th>168399</th>\n",
       "      <td>#22:4287</td>\n",
       "      <td>Leg</td>\n",
       "      <td>YYk66LyNMvguG1OwAsiQFLXOqXM2</td>\n",
       "      <td>#31:1771</td>\n",
       "      <td>32</td>\n",
       "      <td>2019-05-13 14:51:32.172</td>\n",
       "      <td>2019-05-13 15:16:19.536</td>\n",
       "      <td>0.0</td>\n",
       "      <td>13079.0</td>\n",
       "      <td>0.0</td>\n",
       "      <td>...</td>\n",
       "      <td>1.453</td>\n",
       "      <td>urban</td>\n",
       "      <td>urban</td>\n",
       "      <td>Male</td>\n",
       "      <td>25-49</td>\n",
       "      <td>Toulouse</td>\n",
       "      <td>FRA</td>\n",
       "      <td>POINT (1.36400 43.59000)</td>\n",
       "      <td>Work</td>\n",
       "      <td>otherPrivate</td>\n",
       "    </tr>\n",
       "    <tr>\n",
       "      <th>168402</th>\n",
       "      <td>#23:5676</td>\n",
       "      <td>Leg</td>\n",
       "      <td>YYk66LyNMvguG1OwAsiQFLXOqXM2</td>\n",
       "      <td>#31:2339</td>\n",
       "      <td>36</td>\n",
       "      <td>2019-05-23 12:22:34.702</td>\n",
       "      <td>2019-05-23 12:51:01.790</td>\n",
       "      <td>0.0</td>\n",
       "      <td>12735.0</td>\n",
       "      <td>0.0</td>\n",
       "      <td>...</td>\n",
       "      <td>1.453</td>\n",
       "      <td>urban</td>\n",
       "      <td>urban</td>\n",
       "      <td>Male</td>\n",
       "      <td>25-49</td>\n",
       "      <td>Toulouse</td>\n",
       "      <td>FRA</td>\n",
       "      <td>POINT (1.49700 43.52800)</td>\n",
       "      <td>Work</td>\n",
       "      <td>carSharingPassenger</td>\n",
       "    </tr>\n",
       "    <tr>\n",
       "      <th>168403</th>\n",
       "      <td>#25:6214</td>\n",
       "      <td>Leg</td>\n",
       "      <td>z5TAgZnoItOaDS6gMWU6SfadU4A2</td>\n",
       "      <td>#32:2560</td>\n",
       "      <td>36</td>\n",
       "      <td>2019-05-27 11:48:08.171</td>\n",
       "      <td>2019-05-27 13:06:18.708</td>\n",
       "      <td>0.0</td>\n",
       "      <td>8907.0</td>\n",
       "      <td>4690.0</td>\n",
       "      <td>...</td>\n",
       "      <td>-9.157</td>\n",
       "      <td>urban</td>\n",
       "      <td>urban</td>\n",
       "      <td>Male</td>\n",
       "      <td>50-64</td>\n",
       "      <td>Lisbon</td>\n",
       "      <td>PRT</td>\n",
       "      <td>POINT (-9.15100 38.73700)</td>\n",
       "      <td>Work</td>\n",
       "      <td>carSharingPassenger</td>\n",
       "    </tr>\n",
       "    <tr>\n",
       "      <th>168405</th>\n",
       "      <td>#25:5793</td>\n",
       "      <td>Leg</td>\n",
       "      <td>hUiuy8FMtePwaGb4SAXrgAoMHw93</td>\n",
       "      <td>#32:2383</td>\n",
       "      <td>30</td>\n",
       "      <td>2019-05-23 19:58:53.553</td>\n",
       "      <td>2019-05-23 20:06:28.504</td>\n",
       "      <td>0.0</td>\n",
       "      <td>3044.0</td>\n",
       "      <td>0.0</td>\n",
       "      <td>...</td>\n",
       "      <td>0.630</td>\n",
       "      <td>urban</td>\n",
       "      <td>urban</td>\n",
       "      <td>Male</td>\n",
       "      <td>16-24</td>\n",
       "      <td>Lleida</td>\n",
       "      <td>ESP</td>\n",
       "      <td>POINT (0.63000 41.61400)</td>\n",
       "      <td>Work</td>\n",
       "      <td>otherPublic</td>\n",
       "    </tr>\n",
       "  </tbody>\n",
       "</table>\n",
       "<p>40175 rows × 29 columns</p>\n",
       "</div>"
      ],
      "text/plain": [
       "            legid class                        userid    tripid  motid   \n",
       "9        #22:8516   Leg  IGpJc0Az17bxe4MT6pHDx6lQ3LD2  #32:3481      7  \\\n",
       "12      #25:11165   Leg  IGpJc0Az17bxe4MT6pHDx6lQ3LD2  #32:4620      7   \n",
       "13       #22:3739   Leg  kgF4dsYgK6RN1Qp0kzJVyWnDaUe2  #32:1547      7   \n",
       "26       #23:4562   Leg  kgF4dsYgK6RN1Qp0kzJVyWnDaUe2  #33:1849      7   \n",
       "29       #24:4535   Leg  kgF4dsYgK6RN1Qp0kzJVyWnDaUe2  #31:1897      7   \n",
       "...           ...   ...                           ...       ...    ...   \n",
       "168395   #23:4268   Leg  YYk66LyNMvguG1OwAsiQFLXOqXM2  #33:1723     32   \n",
       "168399   #22:4287   Leg  YYk66LyNMvguG1OwAsiQFLXOqXM2  #31:1771     32   \n",
       "168402   #23:5676   Leg  YYk66LyNMvguG1OwAsiQFLXOqXM2  #31:2339     36   \n",
       "168403   #25:6214   Leg  z5TAgZnoItOaDS6gMWU6SfadU4A2  #32:2560     36   \n",
       "168405   #25:5793   Leg  hUiuy8FMtePwaGb4SAXrgAoMHw93  #32:2383     30   \n",
       "\n",
       "                    start_date                end_date  true_distance   \n",
       "9      2019-06-13 10:09:36.113 2019-06-13 14:04:40.217           62.0  \\\n",
       "12     2019-07-02 05:26:11.712 2019-07-02 08:00:21.941            0.0   \n",
       "13     2019-05-10 07:14:09.450 2019-05-10 07:26:15.517          324.0   \n",
       "26     2019-05-13 07:03:01.686 2019-05-13 07:12:16.147          455.0   \n",
       "29     2019-05-13 16:00:56.030 2019-05-13 16:04:42.736          313.0   \n",
       "...                        ...                     ...            ...   \n",
       "168395 2019-05-13 12:36:21.470 2019-05-13 13:01:53.416            0.0   \n",
       "168399 2019-05-13 14:51:32.172 2019-05-13 15:16:19.536            0.0   \n",
       "168402 2019-05-23 12:22:34.702 2019-05-23 12:51:01.790            0.0   \n",
       "168403 2019-05-27 11:48:08.171 2019-05-27 13:06:18.708            0.0   \n",
       "168405 2019-05-23 19:58:53.553 2019-05-23 20:06:28.504            0.0   \n",
       "\n",
       "        leg_distance  leg_duration  ...  end_lon start_class end_class gender   \n",
       "9              212.0           0.0  ...    4.348       urban     urban   Male  \\\n",
       "12             575.0           0.0  ...    4.350       urban     urban   Male   \n",
       "13             324.0           0.0  ...    4.385       urban     urban   Male   \n",
       "26             455.0           0.0  ...    4.385       urban     urban   Male   \n",
       "29             313.0           0.0  ...    4.341       urban     urban   Male   \n",
       "...              ...           ...  ...      ...         ...       ...    ...   \n",
       "168395       12625.0           0.0  ...    1.452       urban     urban   Male   \n",
       "168399       13079.0           0.0  ...    1.453       urban     urban   Male   \n",
       "168402       12735.0           0.0  ...    1.453       urban     urban   Male   \n",
       "168403        8907.0        4690.0  ...   -9.157       urban     urban   Male   \n",
       "168405        3044.0           0.0  ...    0.630       urban     urban   Male   \n",
       "\n",
       "       age_range      city  country                start_point  purpose   \n",
       "9          25-49  Brussels      BEL   POINT (4.34800 50.86200)     Work  \\\n",
       "12         25-49  Brussels      BEL   POINT (4.35600 50.84500)     Work   \n",
       "13         25-49  Brussels      BEL   POINT (4.38900 50.84600)     Work   \n",
       "26         25-49  Brussels      BEL   POINT (4.39000 50.84700)     Work   \n",
       "29         25-49  Brussels      BEL   POINT (4.34300 50.83400)     Work   \n",
       "...          ...       ...      ...                        ...      ...   \n",
       "168395     25-49  Toulouse      FRA   POINT (1.36600 43.65400)     Work   \n",
       "168399     25-49  Toulouse      FRA   POINT (1.36400 43.59000)     Work   \n",
       "168402     25-49  Toulouse      FRA   POINT (1.49700 43.52800)     Work   \n",
       "168403     50-64    Lisbon      PRT  POINT (-9.15100 38.73700)     Work   \n",
       "168405     16-24    Lleida      ESP   POINT (0.63000 41.61400)     Work   \n",
       "\n",
       "                   mot_text  \n",
       "9                   walking  \n",
       "12                  walking  \n",
       "13                  walking  \n",
       "26                  walking  \n",
       "29                  walking  \n",
       "...                     ...  \n",
       "168395         otherPrivate  \n",
       "168399         otherPrivate  \n",
       "168402  carSharingPassenger  \n",
       "168403  carSharingPassenger  \n",
       "168405          otherPublic  \n",
       "\n",
       "[40175 rows x 29 columns]"
      ]
     },
     "execution_count": 33,
     "metadata": {},
     "output_type": "execute_result"
    }
   ],
   "source": [
    "#select only row with purpose work\n",
    "workonly=leg_coor_user_merged_purposes_motid[leg_coor_user_merged_purposes_motid['purpose'].isin(['Work'])]\n",
    "workonly"
   ]
  },
  {
   "cell_type": "code",
   "execution_count": 34,
   "metadata": {},
   "outputs": [
    {
     "data": {
      "text/plain": [
       "gender  transport_category            \n",
       "Female  cycling_emerging_micromobility     2034\n",
       "        private_motorized                  2425\n",
       "        public_transp_long_dist             128\n",
       "        public_transp_short_dist           2539\n",
       "        walking                            5962\n",
       "Male    cycling_emerging_micromobility     5190\n",
       "        private_motorized                  5158\n",
       "        public_transp_long_dist             299\n",
       "        public_transp_short_dist           3714\n",
       "        walking                           10109\n",
       "Other   cycling_emerging_micromobility        3\n",
       "        private_motorized                    58\n",
       "        public_transp_short_dist             50\n",
       "        walking                              74\n",
       "Name: legid, dtype: int64"
      ]
     },
     "execution_count": 34,
     "metadata": {},
     "output_type": "execute_result"
    }
   ],
   "source": [
    "workonly.groupby(['gender','transport_category']).count()['legid']\n",
    "#normalize count"
   ]
  },
  {
   "cell_type": "code",
   "execution_count": 35,
   "metadata": {},
   "outputs": [
    {
     "data": {
      "text/plain": [
       "gender\n",
       "Female    13949\n",
       "Male      26012\n",
       "Other       214\n",
       "dtype: int64"
      ]
     },
     "execution_count": 35,
     "metadata": {},
     "output_type": "execute_result"
    }
   ],
   "source": [
    "workonly.groupby('gender').size()"
   ]
  },
  {
   "cell_type": "code",
   "execution_count": 36,
   "metadata": {},
   "outputs": [
    {
     "data": {
      "text/plain": [
       "gender  transport_category            \n",
       "Female  cycling_emerging_micromobility    0.155410\n",
       "        private_motorized                 0.185284\n",
       "        public_transp_long_dist           0.009780\n",
       "        public_transp_short_dist          0.193994\n",
       "        walking                           0.455532\n",
       "Male    cycling_emerging_micromobility    0.212096\n",
       "        private_motorized                 0.210789\n",
       "        public_transp_long_dist           0.012219\n",
       "        public_transp_short_dist          0.151778\n",
       "        walking                           0.413118\n",
       "Other   cycling_emerging_micromobility    0.016216\n",
       "        private_motorized                 0.313514\n",
       "        public_transp_short_dist          0.270270\n",
       "        walking                           0.400000\n",
       "dtype: float64"
      ]
     },
     "execution_count": 36,
     "metadata": {},
     "output_type": "execute_result"
    }
   ],
   "source": [
    "#Return relative frequency of transport category per each gender\n",
    "workonly.groupby(['gender', 'transport_category']).size() / workonly.dropna(subset='transport_category').groupby('gender').size()\n",
    "\n"
   ]
  },
  {
   "cell_type": "code",
   "execution_count": 80,
   "metadata": {},
   "outputs": [
    {
     "data": {
      "text/plain": [
       "gender  transport_category            \n",
       "Female  cycling_emerging_micromobility    0.114993\n",
       "        private_motorized                 0.371835\n",
       "        public_transp_long_dist           0.195359\n",
       "        public_transp_short_dist          0.272174\n",
       "        walking                           0.044898\n",
       "Male    cycling_emerging_micromobility    0.157258\n",
       "        private_motorized                 0.446206\n",
       "        public_transp_long_dist           0.101713\n",
       "        public_transp_short_dist          0.257709\n",
       "        walking                           0.036779\n",
       "Other   cycling_emerging_micromobility    0.009644\n",
       "        private_motorized                 0.900021\n",
       "        public_transp_short_dist          0.069775\n",
       "        walking                           0.020560\n",
       "Name: leg_distance, dtype: float64"
      ]
     },
     "execution_count": 80,
     "metadata": {},
     "output_type": "execute_result"
    }
   ],
   "source": [
    "#Return relative frequency of transport category per each gender indicating not the number of leg but the sum of leg distance\n",
    "gender_transport = workonly.groupby(['gender','transport_category', ])['leg_distance'].sum()/ workonly.dropna(subset='leg_distance').groupby('gender')['leg_distance'].sum()\n",
    "gender_transport"
   ]
  },
  {
   "cell_type": "code",
   "execution_count": 89,
   "metadata": {},
   "outputs": [],
   "source": [
    "\n",
    "# Assuming that your result from the groupby operation is named 'result'\n",
    "result_df = gender_transport.reset_index()\n",
    "result_df.columns = ['gender', 'transport_category', 'relative_frequency']\n",
    "\n",
    "# Now, we'll pivot the table to make the genders as columns\n",
    "pivot_df = result_df.pivot(index='transport_category', columns='gender', values='relative_frequency')\n",
    "\n",
    "# Let's compute the difference\n",
    "pivot_df['difference'] = pivot_df['Male'] - pivot_df['Female']\n"
   ]
  },
  {
   "attachments": {},
   "cell_type": "markdown",
   "metadata": {},
   "source": [
    "## Divide per trasport category and purpose for each purpose"
   ]
  },
  {
   "cell_type": "code",
   "execution_count": 219,
   "metadata": {},
   "outputs": [],
   "source": [
    "only_male_female = leg_coor_user_merged_purposes_motid[leg_coor_user_merged_purposes_motid['gender'].isin(['Male','Female'])]"
   ]
  },
  {
   "cell_type": "code",
   "execution_count": 220,
   "metadata": {},
   "outputs": [
    {
     "data": {
      "text/plain": [
       "array(['Other', 'Home', 'Business_Trip', 'Work', 'Leisure_Hobby',\n",
       "       'Personal_Tasks_Errands', 'Everyday_Shopping', 'Pick_Up_Drop_Off'],\n",
       "      dtype=object)"
      ]
     },
     "execution_count": 220,
     "metadata": {},
     "output_type": "execute_result"
    }
   ],
   "source": [
    "only_male_female['purpose'].unique()"
   ]
  },
  {
   "cell_type": "code",
   "execution_count": 221,
   "metadata": {},
   "outputs": [],
   "source": [
    "purpose_dfs={}\n",
    "one_purp_only_dfs={}\n",
    "one_purp_only_dfs_pivot={}\n",
    "for purp in only_male_female['purpose'].unique():\n",
    "    purpose_dfs[purp]=only_male_female[only_male_female['purpose'].isin([purp])]\n",
    "    one_purp_only_dfs[purp] = purpose_dfs[purp].groupby(['gender','transport_category', ])['leg_distance'].sum()/ purpose_dfs[purp].dropna(subset='leg_distance').groupby('gender')['leg_distance'].sum()\n",
    "\n",
    "    one_purp_only_dfs_pivot[purp] = one_purp_only_dfs[purp].reset_index()\n",
    "    one_purp_only_dfs_pivot[purp].columns=['gender', 'transport_category', 'relative_frequency']\n",
    "    one_purp_only_dfs_pivot[purp]=one_purp_only_dfs_pivot[purp].pivot(index='transport_category', columns='gender', values='relative_frequency')\n",
    "    one_purp_only_dfs_pivot[purp]['difference_%'] = (one_purp_only_dfs_pivot[purp]['Male'] - one_purp_only_dfs_pivot[purp]['Female'])*100\n",
    "    one_purp_only_dfs_pivot[purp] = one_purp_only_dfs_pivot[purp].reset_index()"
   ]
  },
  {
   "cell_type": "code",
   "execution_count": 222,
   "metadata": {},
   "outputs": [
    {
     "data": {
      "application/vnd.plotly.v1+json": {
       "config": {
        "plotlyServerURL": "https://plotly.com"
       },
       "data": [
        {
         "name": "Other",
         "orientation": "h",
         "type": "bar",
         "x": [
          10.919379049227548,
          1.2004646914060668,
          -0.41343718934971213,
          -9.987444663548672,
          -1.9738592702177857
         ],
         "y": [
          "cycling_emerging_micromobility",
          "private_motorized",
          "public_transp_long_dist",
          "public_transp_short_dist",
          "walking"
         ]
        },
        {
         "name": "Home",
         "orientation": "h",
         "type": "bar",
         "x": [
          5.2438289033173255,
          -4.90200479585231,
          2.161342972783531,
          -1.2434078869979186,
          -1.3084809591436362
         ],
         "y": [
          "cycling_emerging_micromobility",
          "private_motorized",
          "public_transp_long_dist",
          "public_transp_short_dist",
          "walking"
         ]
        },
        {
         "name": "Business_Trip",
         "orientation": "h",
         "type": "bar",
         "x": [
          1.0604733523956338,
          12.798477058756236,
          -9.152729541865822,
          -5.076115589969413,
          0.40451395652820327
         ],
         "y": [
          "cycling_emerging_micromobility",
          "private_motorized",
          "public_transp_long_dist",
          "public_transp_short_dist",
          "walking"
         ]
        },
        {
         "name": "Work",
         "orientation": "h",
         "type": "bar",
         "x": [
          4.226540635832397,
          7.437099542739334,
          -9.364648349057127,
          -1.4465331580872598,
          -0.8118861136474211
         ],
         "y": [
          "cycling_emerging_micromobility",
          "private_motorized",
          "public_transp_long_dist",
          "public_transp_short_dist",
          "walking"
         ]
        },
        {
         "name": "Leisure_Hobby",
         "orientation": "h",
         "type": "bar",
         "x": [
          4.449561363554033,
          -6.766362589073571,
          7.0176184426278905,
          -3.856526424857956,
          -0.8507087604916683
         ],
         "y": [
          "cycling_emerging_micromobility",
          "private_motorized",
          "public_transp_long_dist",
          "public_transp_short_dist",
          "walking"
         ]
        },
        {
         "name": "Personal_Tasks_Errands",
         "orientation": "h",
         "type": "bar",
         "x": [
          6.148568935429818,
          -1.1113891010845256,
          -0.6559743811419987,
          -4.179291863597423,
          -0.1461805331300095
         ],
         "y": [
          "cycling_emerging_micromobility",
          "private_motorized",
          "public_transp_long_dist",
          "public_transp_short_dist",
          "walking"
         ]
        },
        {
         "name": "Everyday_Shopping",
         "orientation": "h",
         "type": "bar",
         "x": [
          11.062400028735562,
          -3.7269902202838545,
          -0.7488091999324176,
          -5.3800886009637034,
          -1.1887515276982605
         ],
         "y": [
          "cycling_emerging_micromobility",
          "private_motorized",
          "public_transp_long_dist",
          "public_transp_short_dist",
          "walking"
         ]
        },
        {
         "name": "Pick_Up_Drop_Off",
         "orientation": "h",
         "type": "bar",
         "x": [
          2.196451375560603,
          0.08514613427370588,
          1.1708971620822402,
          -2.420136516522059,
          -1.0323581553944872
         ],
         "y": [
          "cycling_emerging_micromobility",
          "private_motorized",
          "public_transp_long_dist",
          "public_transp_short_dist",
          "walking"
         ]
        }
       ],
       "layout": {
        "annotations": [
         {
          "font": {
           "color": "Green",
           "size": 28
          },
          "showarrow": false,
          "text": "Male",
          "x": 0.8,
          "xref": "paper",
          "y": 1.05,
          "yref": "paper",
          "yshift": 10
         },
         {
          "font": {
           "color": "Green",
           "size": 28
          },
          "showarrow": false,
          "text": "Female",
          "x": 0.15,
          "xref": "paper",
          "y": 1.05,
          "yref": "paper",
          "yshift": 10
         }
        ],
        "barmode": "group",
        "height": 800,
        "margin": {
         "b": 100,
         "l": 100,
         "r": 100,
         "t": 130
        },
        "template": {
         "data": {
          "bar": [
           {
            "error_x": {
             "color": "#2a3f5f"
            },
            "error_y": {
             "color": "#2a3f5f"
            },
            "marker": {
             "line": {
              "color": "#E5ECF6",
              "width": 0.5
             },
             "pattern": {
              "fillmode": "overlay",
              "size": 10,
              "solidity": 0.2
             }
            },
            "type": "bar"
           }
          ],
          "barpolar": [
           {
            "marker": {
             "line": {
              "color": "#E5ECF6",
              "width": 0.5
             },
             "pattern": {
              "fillmode": "overlay",
              "size": 10,
              "solidity": 0.2
             }
            },
            "type": "barpolar"
           }
          ],
          "carpet": [
           {
            "aaxis": {
             "endlinecolor": "#2a3f5f",
             "gridcolor": "white",
             "linecolor": "white",
             "minorgridcolor": "white",
             "startlinecolor": "#2a3f5f"
            },
            "baxis": {
             "endlinecolor": "#2a3f5f",
             "gridcolor": "white",
             "linecolor": "white",
             "minorgridcolor": "white",
             "startlinecolor": "#2a3f5f"
            },
            "type": "carpet"
           }
          ],
          "choropleth": [
           {
            "colorbar": {
             "outlinewidth": 0,
             "ticks": ""
            },
            "type": "choropleth"
           }
          ],
          "contour": [
           {
            "colorbar": {
             "outlinewidth": 0,
             "ticks": ""
            },
            "colorscale": [
             [
              0,
              "#0d0887"
             ],
             [
              0.1111111111111111,
              "#46039f"
             ],
             [
              0.2222222222222222,
              "#7201a8"
             ],
             [
              0.3333333333333333,
              "#9c179e"
             ],
             [
              0.4444444444444444,
              "#bd3786"
             ],
             [
              0.5555555555555556,
              "#d8576b"
             ],
             [
              0.6666666666666666,
              "#ed7953"
             ],
             [
              0.7777777777777778,
              "#fb9f3a"
             ],
             [
              0.8888888888888888,
              "#fdca26"
             ],
             [
              1,
              "#f0f921"
             ]
            ],
            "type": "contour"
           }
          ],
          "contourcarpet": [
           {
            "colorbar": {
             "outlinewidth": 0,
             "ticks": ""
            },
            "type": "contourcarpet"
           }
          ],
          "heatmap": [
           {
            "colorbar": {
             "outlinewidth": 0,
             "ticks": ""
            },
            "colorscale": [
             [
              0,
              "#0d0887"
             ],
             [
              0.1111111111111111,
              "#46039f"
             ],
             [
              0.2222222222222222,
              "#7201a8"
             ],
             [
              0.3333333333333333,
              "#9c179e"
             ],
             [
              0.4444444444444444,
              "#bd3786"
             ],
             [
              0.5555555555555556,
              "#d8576b"
             ],
             [
              0.6666666666666666,
              "#ed7953"
             ],
             [
              0.7777777777777778,
              "#fb9f3a"
             ],
             [
              0.8888888888888888,
              "#fdca26"
             ],
             [
              1,
              "#f0f921"
             ]
            ],
            "type": "heatmap"
           }
          ],
          "heatmapgl": [
           {
            "colorbar": {
             "outlinewidth": 0,
             "ticks": ""
            },
            "colorscale": [
             [
              0,
              "#0d0887"
             ],
             [
              0.1111111111111111,
              "#46039f"
             ],
             [
              0.2222222222222222,
              "#7201a8"
             ],
             [
              0.3333333333333333,
              "#9c179e"
             ],
             [
              0.4444444444444444,
              "#bd3786"
             ],
             [
              0.5555555555555556,
              "#d8576b"
             ],
             [
              0.6666666666666666,
              "#ed7953"
             ],
             [
              0.7777777777777778,
              "#fb9f3a"
             ],
             [
              0.8888888888888888,
              "#fdca26"
             ],
             [
              1,
              "#f0f921"
             ]
            ],
            "type": "heatmapgl"
           }
          ],
          "histogram": [
           {
            "marker": {
             "pattern": {
              "fillmode": "overlay",
              "size": 10,
              "solidity": 0.2
             }
            },
            "type": "histogram"
           }
          ],
          "histogram2d": [
           {
            "colorbar": {
             "outlinewidth": 0,
             "ticks": ""
            },
            "colorscale": [
             [
              0,
              "#0d0887"
             ],
             [
              0.1111111111111111,
              "#46039f"
             ],
             [
              0.2222222222222222,
              "#7201a8"
             ],
             [
              0.3333333333333333,
              "#9c179e"
             ],
             [
              0.4444444444444444,
              "#bd3786"
             ],
             [
              0.5555555555555556,
              "#d8576b"
             ],
             [
              0.6666666666666666,
              "#ed7953"
             ],
             [
              0.7777777777777778,
              "#fb9f3a"
             ],
             [
              0.8888888888888888,
              "#fdca26"
             ],
             [
              1,
              "#f0f921"
             ]
            ],
            "type": "histogram2d"
           }
          ],
          "histogram2dcontour": [
           {
            "colorbar": {
             "outlinewidth": 0,
             "ticks": ""
            },
            "colorscale": [
             [
              0,
              "#0d0887"
             ],
             [
              0.1111111111111111,
              "#46039f"
             ],
             [
              0.2222222222222222,
              "#7201a8"
             ],
             [
              0.3333333333333333,
              "#9c179e"
             ],
             [
              0.4444444444444444,
              "#bd3786"
             ],
             [
              0.5555555555555556,
              "#d8576b"
             ],
             [
              0.6666666666666666,
              "#ed7953"
             ],
             [
              0.7777777777777778,
              "#fb9f3a"
             ],
             [
              0.8888888888888888,
              "#fdca26"
             ],
             [
              1,
              "#f0f921"
             ]
            ],
            "type": "histogram2dcontour"
           }
          ],
          "mesh3d": [
           {
            "colorbar": {
             "outlinewidth": 0,
             "ticks": ""
            },
            "type": "mesh3d"
           }
          ],
          "parcoords": [
           {
            "line": {
             "colorbar": {
              "outlinewidth": 0,
              "ticks": ""
             }
            },
            "type": "parcoords"
           }
          ],
          "pie": [
           {
            "automargin": true,
            "type": "pie"
           }
          ],
          "scatter": [
           {
            "fillpattern": {
             "fillmode": "overlay",
             "size": 10,
             "solidity": 0.2
            },
            "type": "scatter"
           }
          ],
          "scatter3d": [
           {
            "line": {
             "colorbar": {
              "outlinewidth": 0,
              "ticks": ""
             }
            },
            "marker": {
             "colorbar": {
              "outlinewidth": 0,
              "ticks": ""
             }
            },
            "type": "scatter3d"
           }
          ],
          "scattercarpet": [
           {
            "marker": {
             "colorbar": {
              "outlinewidth": 0,
              "ticks": ""
             }
            },
            "type": "scattercarpet"
           }
          ],
          "scattergeo": [
           {
            "marker": {
             "colorbar": {
              "outlinewidth": 0,
              "ticks": ""
             }
            },
            "type": "scattergeo"
           }
          ],
          "scattergl": [
           {
            "marker": {
             "colorbar": {
              "outlinewidth": 0,
              "ticks": ""
             }
            },
            "type": "scattergl"
           }
          ],
          "scattermapbox": [
           {
            "marker": {
             "colorbar": {
              "outlinewidth": 0,
              "ticks": ""
             }
            },
            "type": "scattermapbox"
           }
          ],
          "scatterpolar": [
           {
            "marker": {
             "colorbar": {
              "outlinewidth": 0,
              "ticks": ""
             }
            },
            "type": "scatterpolar"
           }
          ],
          "scatterpolargl": [
           {
            "marker": {
             "colorbar": {
              "outlinewidth": 0,
              "ticks": ""
             }
            },
            "type": "scatterpolargl"
           }
          ],
          "scatterternary": [
           {
            "marker": {
             "colorbar": {
              "outlinewidth": 0,
              "ticks": ""
             }
            },
            "type": "scatterternary"
           }
          ],
          "surface": [
           {
            "colorbar": {
             "outlinewidth": 0,
             "ticks": ""
            },
            "colorscale": [
             [
              0,
              "#0d0887"
             ],
             [
              0.1111111111111111,
              "#46039f"
             ],
             [
              0.2222222222222222,
              "#7201a8"
             ],
             [
              0.3333333333333333,
              "#9c179e"
             ],
             [
              0.4444444444444444,
              "#bd3786"
             ],
             [
              0.5555555555555556,
              "#d8576b"
             ],
             [
              0.6666666666666666,
              "#ed7953"
             ],
             [
              0.7777777777777778,
              "#fb9f3a"
             ],
             [
              0.8888888888888888,
              "#fdca26"
             ],
             [
              1,
              "#f0f921"
             ]
            ],
            "type": "surface"
           }
          ],
          "table": [
           {
            "cells": {
             "fill": {
              "color": "#EBF0F8"
             },
             "line": {
              "color": "white"
             }
            },
            "header": {
             "fill": {
              "color": "#C8D4E3"
             },
             "line": {
              "color": "white"
             }
            },
            "type": "table"
           }
          ]
         },
         "layout": {
          "annotationdefaults": {
           "arrowcolor": "#2a3f5f",
           "arrowhead": 0,
           "arrowwidth": 1
          },
          "autotypenumbers": "strict",
          "coloraxis": {
           "colorbar": {
            "outlinewidth": 0,
            "ticks": ""
           }
          },
          "colorscale": {
           "diverging": [
            [
             0,
             "#8e0152"
            ],
            [
             0.1,
             "#c51b7d"
            ],
            [
             0.2,
             "#de77ae"
            ],
            [
             0.3,
             "#f1b6da"
            ],
            [
             0.4,
             "#fde0ef"
            ],
            [
             0.5,
             "#f7f7f7"
            ],
            [
             0.6,
             "#e6f5d0"
            ],
            [
             0.7,
             "#b8e186"
            ],
            [
             0.8,
             "#7fbc41"
            ],
            [
             0.9,
             "#4d9221"
            ],
            [
             1,
             "#276419"
            ]
           ],
           "sequential": [
            [
             0,
             "#0d0887"
            ],
            [
             0.1111111111111111,
             "#46039f"
            ],
            [
             0.2222222222222222,
             "#7201a8"
            ],
            [
             0.3333333333333333,
             "#9c179e"
            ],
            [
             0.4444444444444444,
             "#bd3786"
            ],
            [
             0.5555555555555556,
             "#d8576b"
            ],
            [
             0.6666666666666666,
             "#ed7953"
            ],
            [
             0.7777777777777778,
             "#fb9f3a"
            ],
            [
             0.8888888888888888,
             "#fdca26"
            ],
            [
             1,
             "#f0f921"
            ]
           ],
           "sequentialminus": [
            [
             0,
             "#0d0887"
            ],
            [
             0.1111111111111111,
             "#46039f"
            ],
            [
             0.2222222222222222,
             "#7201a8"
            ],
            [
             0.3333333333333333,
             "#9c179e"
            ],
            [
             0.4444444444444444,
             "#bd3786"
            ],
            [
             0.5555555555555556,
             "#d8576b"
            ],
            [
             0.6666666666666666,
             "#ed7953"
            ],
            [
             0.7777777777777778,
             "#fb9f3a"
            ],
            [
             0.8888888888888888,
             "#fdca26"
            ],
            [
             1,
             "#f0f921"
            ]
           ]
          },
          "colorway": [
           "#636efa",
           "#EF553B",
           "#00cc96",
           "#ab63fa",
           "#FFA15A",
           "#19d3f3",
           "#FF6692",
           "#B6E880",
           "#FF97FF",
           "#FECB52"
          ],
          "font": {
           "color": "#2a3f5f"
          },
          "geo": {
           "bgcolor": "white",
           "lakecolor": "white",
           "landcolor": "#E5ECF6",
           "showlakes": true,
           "showland": true,
           "subunitcolor": "white"
          },
          "hoverlabel": {
           "align": "left"
          },
          "hovermode": "closest",
          "mapbox": {
           "style": "light"
          },
          "paper_bgcolor": "white",
          "plot_bgcolor": "#E5ECF6",
          "polar": {
           "angularaxis": {
            "gridcolor": "white",
            "linecolor": "white",
            "ticks": ""
           },
           "bgcolor": "#E5ECF6",
           "radialaxis": {
            "gridcolor": "white",
            "linecolor": "white",
            "ticks": ""
           }
          },
          "scene": {
           "xaxis": {
            "backgroundcolor": "#E5ECF6",
            "gridcolor": "white",
            "gridwidth": 2,
            "linecolor": "white",
            "showbackground": true,
            "ticks": "",
            "zerolinecolor": "white"
           },
           "yaxis": {
            "backgroundcolor": "#E5ECF6",
            "gridcolor": "white",
            "gridwidth": 2,
            "linecolor": "white",
            "showbackground": true,
            "ticks": "",
            "zerolinecolor": "white"
           },
           "zaxis": {
            "backgroundcolor": "#E5ECF6",
            "gridcolor": "white",
            "gridwidth": 2,
            "linecolor": "white",
            "showbackground": true,
            "ticks": "",
            "zerolinecolor": "white"
           }
          },
          "shapedefaults": {
           "line": {
            "color": "#2a3f5f"
           }
          },
          "ternary": {
           "aaxis": {
            "gridcolor": "white",
            "linecolor": "white",
            "ticks": ""
           },
           "baxis": {
            "gridcolor": "white",
            "linecolor": "white",
            "ticks": ""
           },
           "bgcolor": "#E5ECF6",
           "caxis": {
            "gridcolor": "white",
            "linecolor": "white",
            "ticks": ""
           }
          },
          "title": {
           "x": 0.05
          },
          "xaxis": {
           "automargin": true,
           "gridcolor": "white",
           "linecolor": "white",
           "ticks": "",
           "title": {
            "standoff": 15
           },
           "zerolinecolor": "white",
           "zerolinewidth": 2
          },
          "yaxis": {
           "automargin": true,
           "gridcolor": "white",
           "linecolor": "white",
           "ticks": "",
           "title": {
            "standoff": 15
           },
           "zerolinecolor": "white",
           "zerolinewidth": 2
          }
         }
        },
        "title": {
         "font": {
          "size": 26
         },
         "text": "Difference in Transport Category Usage by Gender and Purpose",
         "x": 0.5
        },
        "width": 1000,
        "xaxis": {
         "title": {
          "text": "Percentage difference of covered distance"
         }
        },
        "yaxis": {
         "tickfont": {
          "size": 15
         }
        }
       }
      }
     },
     "metadata": {},
     "output_type": "display_data"
    }
   ],
   "source": [
    "import plotly.graph_objs as go\n",
    "\n",
    "fig = go.Figure()\n",
    "\n",
    "\n",
    "for purp in only_male_female['purpose'].unique():\n",
    "    one_purp_df = one_purp_only_dfs_pivot[purp]\n",
    "    fig.add_trace(go.Bar(y=one_purp_df['transport_category'], x=one_purp_df['difference_%'], name=purp,orientation='h'))\n",
    "\n",
    "fig.update_layout(barmode='group', title_text='Difference in Transport Category Usage by Gender and Purpose',width=1000,height=800,title_x=0.5,title_font_size=26)\n",
    "\n",
    "#change y label size\n",
    "fig.update_yaxes(tickfont=dict(size=15))\n",
    "\n",
    "fig.update_xaxes(title_text='Percentage difference of covered distance')\n",
    "#add text in position\n",
    "fig.add_annotation(x=0.8, y=1.05,\n",
    "                   xref=\"paper\", yref=\"paper\",\n",
    "            text=\"Male\",\n",
    "            showarrow=False,\n",
    "            yshift=10,\n",
    "            font=dict(size=28, color=\"Green\"))\n",
    "fig.add_annotation(x=0.15, y=1.05,\n",
    "                   xref=\"paper\", yref=\"paper\",\n",
    "            text=\"Female\",\n",
    "            showarrow=False,\n",
    "            yshift=10,\n",
    "            font=dict(size=28, color=\"Green\"))\n",
    "\n",
    "fig.update_layout(\n",
    "    margin=dict(t=130, l=100, r=100, b=100),  # Increase the margin to make space for the annotation\n",
    ")\n",
    "fig.show()\n"
   ]
  },
  {
   "attachments": {},
   "cell_type": "markdown",
   "metadata": {},
   "source": [
    "### Merge different task into care"
   ]
  },
  {
   "cell_type": "code",
   "execution_count": 224,
   "metadata": {},
   "outputs": [
    {
     "data": {
      "application/vnd.plotly.v1+json": {
       "config": {
        "plotlyServerURL": "https://plotly.com"
       },
       "data": [
        {
         "name": "Other",
         "orientation": "h",
         "type": "bar",
         "x": [
          10.919379049227548,
          1.2004646914060668,
          -0.41343718934971213,
          -9.987444663548672,
          -1.9738592702177857
         ],
         "y": [
          "cycling_emerging_micromobility",
          "private_motorized",
          "public_transp_long_dist",
          "public_transp_short_dist",
          "walking"
         ]
        },
        {
         "name": "Care Tasks",
         "orientation": "h",
         "type": "bar",
         "x": [
          5.6965233381777765,
          -4.329684965276459,
          1.7332018148855295,
          -1.9499792630493866,
          -1.1589531721051398
         ],
         "y": [
          "cycling_emerging_micromobility",
          "private_motorized",
          "public_transp_long_dist",
          "public_transp_short_dist",
          "walking"
         ]
        },
        {
         "name": "Business_Trip",
         "orientation": "h",
         "type": "bar",
         "x": [
          1.0604733523956338,
          12.798477058756236,
          -9.152729541865822,
          -5.076115589969413,
          0.40451395652820327
         ],
         "y": [
          "cycling_emerging_micromobility",
          "private_motorized",
          "public_transp_long_dist",
          "public_transp_short_dist",
          "walking"
         ]
        },
        {
         "name": "Work",
         "orientation": "h",
         "type": "bar",
         "x": [
          4.226540635832397,
          7.437099542739334,
          -9.364648349057127,
          -1.4465331580872598,
          -0.8118861136474211
         ],
         "y": [
          "cycling_emerging_micromobility",
          "private_motorized",
          "public_transp_long_dist",
          "public_transp_short_dist",
          "walking"
         ]
        },
        {
         "name": "Leisure_Hobby",
         "orientation": "h",
         "type": "bar",
         "x": [
          4.449561363554033,
          -6.766362589073571,
          7.0176184426278905,
          -3.856526424857956,
          -0.8507087604916683
         ],
         "y": [
          "cycling_emerging_micromobility",
          "private_motorized",
          "public_transp_long_dist",
          "public_transp_short_dist",
          "walking"
         ]
        }
       ],
       "layout": {
        "annotations": [
         {
          "font": {
           "color": "Green",
           "size": 28
          },
          "showarrow": false,
          "text": "Male",
          "x": 0.8,
          "xref": "paper",
          "y": 1.05,
          "yref": "paper",
          "yshift": 10
         },
         {
          "font": {
           "color": "Green",
           "size": 28
          },
          "showarrow": false,
          "text": "Female",
          "x": 0.15,
          "xref": "paper",
          "y": 1.05,
          "yref": "paper",
          "yshift": 10
         }
        ],
        "barmode": "group",
        "height": 800,
        "margin": {
         "b": 100,
         "l": 100,
         "r": 100,
         "t": 130
        },
        "template": {
         "data": {
          "bar": [
           {
            "error_x": {
             "color": "#2a3f5f"
            },
            "error_y": {
             "color": "#2a3f5f"
            },
            "marker": {
             "line": {
              "color": "#E5ECF6",
              "width": 0.5
             },
             "pattern": {
              "fillmode": "overlay",
              "size": 10,
              "solidity": 0.2
             }
            },
            "type": "bar"
           }
          ],
          "barpolar": [
           {
            "marker": {
             "line": {
              "color": "#E5ECF6",
              "width": 0.5
             },
             "pattern": {
              "fillmode": "overlay",
              "size": 10,
              "solidity": 0.2
             }
            },
            "type": "barpolar"
           }
          ],
          "carpet": [
           {
            "aaxis": {
             "endlinecolor": "#2a3f5f",
             "gridcolor": "white",
             "linecolor": "white",
             "minorgridcolor": "white",
             "startlinecolor": "#2a3f5f"
            },
            "baxis": {
             "endlinecolor": "#2a3f5f",
             "gridcolor": "white",
             "linecolor": "white",
             "minorgridcolor": "white",
             "startlinecolor": "#2a3f5f"
            },
            "type": "carpet"
           }
          ],
          "choropleth": [
           {
            "colorbar": {
             "outlinewidth": 0,
             "ticks": ""
            },
            "type": "choropleth"
           }
          ],
          "contour": [
           {
            "colorbar": {
             "outlinewidth": 0,
             "ticks": ""
            },
            "colorscale": [
             [
              0,
              "#0d0887"
             ],
             [
              0.1111111111111111,
              "#46039f"
             ],
             [
              0.2222222222222222,
              "#7201a8"
             ],
             [
              0.3333333333333333,
              "#9c179e"
             ],
             [
              0.4444444444444444,
              "#bd3786"
             ],
             [
              0.5555555555555556,
              "#d8576b"
             ],
             [
              0.6666666666666666,
              "#ed7953"
             ],
             [
              0.7777777777777778,
              "#fb9f3a"
             ],
             [
              0.8888888888888888,
              "#fdca26"
             ],
             [
              1,
              "#f0f921"
             ]
            ],
            "type": "contour"
           }
          ],
          "contourcarpet": [
           {
            "colorbar": {
             "outlinewidth": 0,
             "ticks": ""
            },
            "type": "contourcarpet"
           }
          ],
          "heatmap": [
           {
            "colorbar": {
             "outlinewidth": 0,
             "ticks": ""
            },
            "colorscale": [
             [
              0,
              "#0d0887"
             ],
             [
              0.1111111111111111,
              "#46039f"
             ],
             [
              0.2222222222222222,
              "#7201a8"
             ],
             [
              0.3333333333333333,
              "#9c179e"
             ],
             [
              0.4444444444444444,
              "#bd3786"
             ],
             [
              0.5555555555555556,
              "#d8576b"
             ],
             [
              0.6666666666666666,
              "#ed7953"
             ],
             [
              0.7777777777777778,
              "#fb9f3a"
             ],
             [
              0.8888888888888888,
              "#fdca26"
             ],
             [
              1,
              "#f0f921"
             ]
            ],
            "type": "heatmap"
           }
          ],
          "heatmapgl": [
           {
            "colorbar": {
             "outlinewidth": 0,
             "ticks": ""
            },
            "colorscale": [
             [
              0,
              "#0d0887"
             ],
             [
              0.1111111111111111,
              "#46039f"
             ],
             [
              0.2222222222222222,
              "#7201a8"
             ],
             [
              0.3333333333333333,
              "#9c179e"
             ],
             [
              0.4444444444444444,
              "#bd3786"
             ],
             [
              0.5555555555555556,
              "#d8576b"
             ],
             [
              0.6666666666666666,
              "#ed7953"
             ],
             [
              0.7777777777777778,
              "#fb9f3a"
             ],
             [
              0.8888888888888888,
              "#fdca26"
             ],
             [
              1,
              "#f0f921"
             ]
            ],
            "type": "heatmapgl"
           }
          ],
          "histogram": [
           {
            "marker": {
             "pattern": {
              "fillmode": "overlay",
              "size": 10,
              "solidity": 0.2
             }
            },
            "type": "histogram"
           }
          ],
          "histogram2d": [
           {
            "colorbar": {
             "outlinewidth": 0,
             "ticks": ""
            },
            "colorscale": [
             [
              0,
              "#0d0887"
             ],
             [
              0.1111111111111111,
              "#46039f"
             ],
             [
              0.2222222222222222,
              "#7201a8"
             ],
             [
              0.3333333333333333,
              "#9c179e"
             ],
             [
              0.4444444444444444,
              "#bd3786"
             ],
             [
              0.5555555555555556,
              "#d8576b"
             ],
             [
              0.6666666666666666,
              "#ed7953"
             ],
             [
              0.7777777777777778,
              "#fb9f3a"
             ],
             [
              0.8888888888888888,
              "#fdca26"
             ],
             [
              1,
              "#f0f921"
             ]
            ],
            "type": "histogram2d"
           }
          ],
          "histogram2dcontour": [
           {
            "colorbar": {
             "outlinewidth": 0,
             "ticks": ""
            },
            "colorscale": [
             [
              0,
              "#0d0887"
             ],
             [
              0.1111111111111111,
              "#46039f"
             ],
             [
              0.2222222222222222,
              "#7201a8"
             ],
             [
              0.3333333333333333,
              "#9c179e"
             ],
             [
              0.4444444444444444,
              "#bd3786"
             ],
             [
              0.5555555555555556,
              "#d8576b"
             ],
             [
              0.6666666666666666,
              "#ed7953"
             ],
             [
              0.7777777777777778,
              "#fb9f3a"
             ],
             [
              0.8888888888888888,
              "#fdca26"
             ],
             [
              1,
              "#f0f921"
             ]
            ],
            "type": "histogram2dcontour"
           }
          ],
          "mesh3d": [
           {
            "colorbar": {
             "outlinewidth": 0,
             "ticks": ""
            },
            "type": "mesh3d"
           }
          ],
          "parcoords": [
           {
            "line": {
             "colorbar": {
              "outlinewidth": 0,
              "ticks": ""
             }
            },
            "type": "parcoords"
           }
          ],
          "pie": [
           {
            "automargin": true,
            "type": "pie"
           }
          ],
          "scatter": [
           {
            "fillpattern": {
             "fillmode": "overlay",
             "size": 10,
             "solidity": 0.2
            },
            "type": "scatter"
           }
          ],
          "scatter3d": [
           {
            "line": {
             "colorbar": {
              "outlinewidth": 0,
              "ticks": ""
             }
            },
            "marker": {
             "colorbar": {
              "outlinewidth": 0,
              "ticks": ""
             }
            },
            "type": "scatter3d"
           }
          ],
          "scattercarpet": [
           {
            "marker": {
             "colorbar": {
              "outlinewidth": 0,
              "ticks": ""
             }
            },
            "type": "scattercarpet"
           }
          ],
          "scattergeo": [
           {
            "marker": {
             "colorbar": {
              "outlinewidth": 0,
              "ticks": ""
             }
            },
            "type": "scattergeo"
           }
          ],
          "scattergl": [
           {
            "marker": {
             "colorbar": {
              "outlinewidth": 0,
              "ticks": ""
             }
            },
            "type": "scattergl"
           }
          ],
          "scattermapbox": [
           {
            "marker": {
             "colorbar": {
              "outlinewidth": 0,
              "ticks": ""
             }
            },
            "type": "scattermapbox"
           }
          ],
          "scatterpolar": [
           {
            "marker": {
             "colorbar": {
              "outlinewidth": 0,
              "ticks": ""
             }
            },
            "type": "scatterpolar"
           }
          ],
          "scatterpolargl": [
           {
            "marker": {
             "colorbar": {
              "outlinewidth": 0,
              "ticks": ""
             }
            },
            "type": "scatterpolargl"
           }
          ],
          "scatterternary": [
           {
            "marker": {
             "colorbar": {
              "outlinewidth": 0,
              "ticks": ""
             }
            },
            "type": "scatterternary"
           }
          ],
          "surface": [
           {
            "colorbar": {
             "outlinewidth": 0,
             "ticks": ""
            },
            "colorscale": [
             [
              0,
              "#0d0887"
             ],
             [
              0.1111111111111111,
              "#46039f"
             ],
             [
              0.2222222222222222,
              "#7201a8"
             ],
             [
              0.3333333333333333,
              "#9c179e"
             ],
             [
              0.4444444444444444,
              "#bd3786"
             ],
             [
              0.5555555555555556,
              "#d8576b"
             ],
             [
              0.6666666666666666,
              "#ed7953"
             ],
             [
              0.7777777777777778,
              "#fb9f3a"
             ],
             [
              0.8888888888888888,
              "#fdca26"
             ],
             [
              1,
              "#f0f921"
             ]
            ],
            "type": "surface"
           }
          ],
          "table": [
           {
            "cells": {
             "fill": {
              "color": "#EBF0F8"
             },
             "line": {
              "color": "white"
             }
            },
            "header": {
             "fill": {
              "color": "#C8D4E3"
             },
             "line": {
              "color": "white"
             }
            },
            "type": "table"
           }
          ]
         },
         "layout": {
          "annotationdefaults": {
           "arrowcolor": "#2a3f5f",
           "arrowhead": 0,
           "arrowwidth": 1
          },
          "autotypenumbers": "strict",
          "coloraxis": {
           "colorbar": {
            "outlinewidth": 0,
            "ticks": ""
           }
          },
          "colorscale": {
           "diverging": [
            [
             0,
             "#8e0152"
            ],
            [
             0.1,
             "#c51b7d"
            ],
            [
             0.2,
             "#de77ae"
            ],
            [
             0.3,
             "#f1b6da"
            ],
            [
             0.4,
             "#fde0ef"
            ],
            [
             0.5,
             "#f7f7f7"
            ],
            [
             0.6,
             "#e6f5d0"
            ],
            [
             0.7,
             "#b8e186"
            ],
            [
             0.8,
             "#7fbc41"
            ],
            [
             0.9,
             "#4d9221"
            ],
            [
             1,
             "#276419"
            ]
           ],
           "sequential": [
            [
             0,
             "#0d0887"
            ],
            [
             0.1111111111111111,
             "#46039f"
            ],
            [
             0.2222222222222222,
             "#7201a8"
            ],
            [
             0.3333333333333333,
             "#9c179e"
            ],
            [
             0.4444444444444444,
             "#bd3786"
            ],
            [
             0.5555555555555556,
             "#d8576b"
            ],
            [
             0.6666666666666666,
             "#ed7953"
            ],
            [
             0.7777777777777778,
             "#fb9f3a"
            ],
            [
             0.8888888888888888,
             "#fdca26"
            ],
            [
             1,
             "#f0f921"
            ]
           ],
           "sequentialminus": [
            [
             0,
             "#0d0887"
            ],
            [
             0.1111111111111111,
             "#46039f"
            ],
            [
             0.2222222222222222,
             "#7201a8"
            ],
            [
             0.3333333333333333,
             "#9c179e"
            ],
            [
             0.4444444444444444,
             "#bd3786"
            ],
            [
             0.5555555555555556,
             "#d8576b"
            ],
            [
             0.6666666666666666,
             "#ed7953"
            ],
            [
             0.7777777777777778,
             "#fb9f3a"
            ],
            [
             0.8888888888888888,
             "#fdca26"
            ],
            [
             1,
             "#f0f921"
            ]
           ]
          },
          "colorway": [
           "#636efa",
           "#EF553B",
           "#00cc96",
           "#ab63fa",
           "#FFA15A",
           "#19d3f3",
           "#FF6692",
           "#B6E880",
           "#FF97FF",
           "#FECB52"
          ],
          "font": {
           "color": "#2a3f5f"
          },
          "geo": {
           "bgcolor": "white",
           "lakecolor": "white",
           "landcolor": "#E5ECF6",
           "showlakes": true,
           "showland": true,
           "subunitcolor": "white"
          },
          "hoverlabel": {
           "align": "left"
          },
          "hovermode": "closest",
          "mapbox": {
           "style": "light"
          },
          "paper_bgcolor": "white",
          "plot_bgcolor": "#E5ECF6",
          "polar": {
           "angularaxis": {
            "gridcolor": "white",
            "linecolor": "white",
            "ticks": ""
           },
           "bgcolor": "#E5ECF6",
           "radialaxis": {
            "gridcolor": "white",
            "linecolor": "white",
            "ticks": ""
           }
          },
          "scene": {
           "xaxis": {
            "backgroundcolor": "#E5ECF6",
            "gridcolor": "white",
            "gridwidth": 2,
            "linecolor": "white",
            "showbackground": true,
            "ticks": "",
            "zerolinecolor": "white"
           },
           "yaxis": {
            "backgroundcolor": "#E5ECF6",
            "gridcolor": "white",
            "gridwidth": 2,
            "linecolor": "white",
            "showbackground": true,
            "ticks": "",
            "zerolinecolor": "white"
           },
           "zaxis": {
            "backgroundcolor": "#E5ECF6",
            "gridcolor": "white",
            "gridwidth": 2,
            "linecolor": "white",
            "showbackground": true,
            "ticks": "",
            "zerolinecolor": "white"
           }
          },
          "shapedefaults": {
           "line": {
            "color": "#2a3f5f"
           }
          },
          "ternary": {
           "aaxis": {
            "gridcolor": "white",
            "linecolor": "white",
            "ticks": ""
           },
           "baxis": {
            "gridcolor": "white",
            "linecolor": "white",
            "ticks": ""
           },
           "bgcolor": "#E5ECF6",
           "caxis": {
            "gridcolor": "white",
            "linecolor": "white",
            "ticks": ""
           }
          },
          "title": {
           "x": 0.05
          },
          "xaxis": {
           "automargin": true,
           "gridcolor": "white",
           "linecolor": "white",
           "ticks": "",
           "title": {
            "standoff": 15
           },
           "zerolinecolor": "white",
           "zerolinewidth": 2
          },
          "yaxis": {
           "automargin": true,
           "gridcolor": "white",
           "linecolor": "white",
           "ticks": "",
           "title": {
            "standoff": 15
           },
           "zerolinecolor": "white",
           "zerolinewidth": 2
          }
         }
        },
        "title": {
         "font": {
          "size": 26
         },
         "text": "Difference in Transport Category Usage by Gender and Purpose",
         "x": 0.5
        },
        "width": 1000,
        "xaxis": {
         "title": {
          "text": "Percentage difference of covered distance"
         }
        },
        "yaxis": {
         "tickfont": {
          "size": 15
         }
        }
       }
      }
     },
     "metadata": {},
     "output_type": "display_data"
    }
   ],
   "source": [
    "import plotly.graph_objs as go\n",
    "\n",
    "# Merge 'Home', 'Everyday_Shopping', 'Personal_Tasks_Errands' into 'care'\n",
    "care_categories = ['Home', 'Everyday_Shopping', 'Personal_Tasks_Errands','Pick_Up_Drop_Off']\n",
    "only_male_female.loc[only_male_female['purpose'].isin(care_categories), 'purpose'] = 'Care Tasks'\n",
    "\n",
    "purpose_dfs = {}\n",
    "one_purp_only_dfs = {}\n",
    "one_purp_only_dfs_pivot = {}\n",
    "\n",
    "for purp in only_male_female['purpose'].unique():\n",
    "    purpose_dfs[purp] = only_male_female[only_male_female['purpose'] == purp]\n",
    "    one_purp_only_dfs[purp] = purpose_dfs[purp].groupby(['gender', 'transport_category'])['leg_distance'].sum() / purpose_dfs[purp].groupby('gender')['leg_distance'].sum()\n",
    "\n",
    "    one_purp_only_dfs_pivot[purp] = one_purp_only_dfs[purp].reset_index()\n",
    "    one_purp_only_dfs_pivot[purp].columns = ['gender', 'transport_category', 'relative_frequency']\n",
    "    one_purp_only_dfs_pivot[purp] = one_purp_only_dfs_pivot[purp].pivot(index='transport_category', columns='gender', values='relative_frequency')\n",
    "    one_purp_only_dfs_pivot[purp]['difference_%'] = (one_purp_only_dfs_pivot[purp]['Male'] - one_purp_only_dfs_pivot[purp]['Female']) * 100\n",
    "    one_purp_only_dfs_pivot[purp] = one_purp_only_dfs_pivot[purp].reset_index()\n",
    "\n",
    "fig = go.Figure()\n",
    "\n",
    "for purp in only_male_female['purpose'].unique():\n",
    "    one_purp_df = one_purp_only_dfs_pivot[purp]\n",
    "    fig.add_trace(go.Bar(y=one_purp_df['transport_category'], x=one_purp_df['difference_%'], name=purp, orientation='h'))\n",
    "\n",
    "fig.update_layout(barmode='group', title_text='Difference in Transport Category Usage by Gender and Purpose', width=1000, height=800, title_x=0.5, title_font_size=26)\n",
    "\n",
    "fig.update_yaxes(tickfont=dict(size=15))\n",
    "fig.update_xaxes(title_text='Percentage difference of covered distance')\n",
    "\n",
    "fig.add_annotation(x=0.8, y=1.05, xref=\"paper\", yref=\"paper\", text=\"Male\", showarrow=False, yshift=10, font=dict(size=28, color=\"Green\"))\n",
    "fig.add_annotation(x=0.15, y=1.05, xref=\"paper\", yref=\"paper\", text=\"Female\", showarrow=False, yshift=10, font=dict(size=28, color=\"Green\"))\n",
    "\n",
    "fig.update_layout(margin=dict(t=130, l=100, r=100, b=100))\n",
    "\n",
    "fig.show()\n"
   ]
  },
  {
   "attachments": {},
   "cell_type": "markdown",
   "metadata": {},
   "source": [
    "## Disparity index for country"
   ]
  },
  {
   "cell_type": "code",
   "execution_count": 229,
   "metadata": {},
   "outputs": [],
   "source": [
    "#The index is built as the sum of absolute values of differenced between men and weman regardless the task and the transport category"
   ]
  },
  {
   "cell_type": "code",
   "execution_count": 232,
   "metadata": {},
   "outputs": [
    {
     "data": {
      "text/html": [
       "<div>\n",
       "<style scoped>\n",
       "    .dataframe tbody tr th:only-of-type {\n",
       "        vertical-align: middle;\n",
       "    }\n",
       "\n",
       "    .dataframe tbody tr th {\n",
       "        vertical-align: top;\n",
       "    }\n",
       "\n",
       "    .dataframe thead th {\n",
       "        text-align: right;\n",
       "    }\n",
       "</style>\n",
       "<table border=\"1\" class=\"dataframe\">\n",
       "  <thead>\n",
       "    <tr style=\"text-align: right;\">\n",
       "      <th></th>\n",
       "      <th>legid</th>\n",
       "      <th>class</th>\n",
       "      <th>userid</th>\n",
       "      <th>tripid</th>\n",
       "      <th>motid</th>\n",
       "      <th>start_date</th>\n",
       "      <th>end_date</th>\n",
       "      <th>true_distance</th>\n",
       "      <th>leg_distance</th>\n",
       "      <th>leg_duration</th>\n",
       "      <th>...</th>\n",
       "      <th>end_lon</th>\n",
       "      <th>start_class</th>\n",
       "      <th>end_class</th>\n",
       "      <th>gender</th>\n",
       "      <th>age_range</th>\n",
       "      <th>city</th>\n",
       "      <th>country</th>\n",
       "      <th>start_point</th>\n",
       "      <th>purpose</th>\n",
       "      <th>mot_text</th>\n",
       "    </tr>\n",
       "  </thead>\n",
       "  <tbody>\n",
       "    <tr>\n",
       "      <th>10</th>\n",
       "      <td>#25:9702</td>\n",
       "      <td>Leg</td>\n",
       "      <td>IGpJc0Az17bxe4MT6pHDx6lQ3LD2</td>\n",
       "      <td>#32:4012</td>\n",
       "      <td>7</td>\n",
       "      <td>2019-06-22 16:57:13.318</td>\n",
       "      <td>2019-06-22 17:01:48.259</td>\n",
       "      <td>302.0</td>\n",
       "      <td>302.0</td>\n",
       "      <td>0.0</td>\n",
       "      <td>...</td>\n",
       "      <td>4.850</td>\n",
       "      <td>rural</td>\n",
       "      <td>rural</td>\n",
       "      <td>Male</td>\n",
       "      <td>25-49</td>\n",
       "      <td>Brussels</td>\n",
       "      <td>BEL</td>\n",
       "      <td>POINT (4.85000 51.25000)</td>\n",
       "      <td>Leisure_Hobby</td>\n",
       "      <td>walking</td>\n",
       "    </tr>\n",
       "    <tr>\n",
       "      <th>14</th>\n",
       "      <td>#24:3713</td>\n",
       "      <td>Leg</td>\n",
       "      <td>kgF4dsYgK6RN1Qp0kzJVyWnDaUe2</td>\n",
       "      <td>#31:1583</td>\n",
       "      <td>7</td>\n",
       "      <td>2019-05-10 11:33:08.755</td>\n",
       "      <td>2019-05-10 11:42:57.845</td>\n",
       "      <td>275.0</td>\n",
       "      <td>275.0</td>\n",
       "      <td>0.0</td>\n",
       "      <td>...</td>\n",
       "      <td>4.384</td>\n",
       "      <td>urban</td>\n",
       "      <td>urban</td>\n",
       "      <td>Male</td>\n",
       "      <td>25-49</td>\n",
       "      <td>Brussels</td>\n",
       "      <td>BEL</td>\n",
       "      <td>POINT (4.38500 50.84500)</td>\n",
       "      <td>Leisure_Hobby</td>\n",
       "      <td>walking</td>\n",
       "    </tr>\n",
       "    <tr>\n",
       "      <th>16</th>\n",
       "      <td>#24:3762</td>\n",
       "      <td>Leg</td>\n",
       "      <td>kgF4dsYgK6RN1Qp0kzJVyWnDaUe2</td>\n",
       "      <td>#32:1571</td>\n",
       "      <td>7</td>\n",
       "      <td>2019-05-10 17:04:10.999</td>\n",
       "      <td>2019-05-10 17:07:12.913</td>\n",
       "      <td>270.0</td>\n",
       "      <td>270.0</td>\n",
       "      <td>0.0</td>\n",
       "      <td>...</td>\n",
       "      <td>4.390</td>\n",
       "      <td>urban</td>\n",
       "      <td>urban</td>\n",
       "      <td>Male</td>\n",
       "      <td>25-49</td>\n",
       "      <td>Brussels</td>\n",
       "      <td>BEL</td>\n",
       "      <td>POINT (4.39100 50.84700)</td>\n",
       "      <td>Leisure_Hobby</td>\n",
       "      <td>walking</td>\n",
       "    </tr>\n",
       "    <tr>\n",
       "      <th>17</th>\n",
       "      <td>#22:3809</td>\n",
       "      <td>Leg</td>\n",
       "      <td>kgF4dsYgK6RN1Qp0kzJVyWnDaUe2</td>\n",
       "      <td>#32:1571</td>\n",
       "      <td>7</td>\n",
       "      <td>2019-05-10 17:36:50.485</td>\n",
       "      <td>2019-05-10 17:40:04.472</td>\n",
       "      <td>230.0</td>\n",
       "      <td>230.0</td>\n",
       "      <td>0.0</td>\n",
       "      <td>...</td>\n",
       "      <td>4.391</td>\n",
       "      <td>urban</td>\n",
       "      <td>urban</td>\n",
       "      <td>Male</td>\n",
       "      <td>25-49</td>\n",
       "      <td>Brussels</td>\n",
       "      <td>BEL</td>\n",
       "      <td>POINT (4.39000 50.84900)</td>\n",
       "      <td>Leisure_Hobby</td>\n",
       "      <td>walking</td>\n",
       "    </tr>\n",
       "    <tr>\n",
       "      <th>22</th>\n",
       "      <td>#24:4044</td>\n",
       "      <td>Leg</td>\n",
       "      <td>kgF4dsYgK6RN1Qp0kzJVyWnDaUe2</td>\n",
       "      <td>#31:1704</td>\n",
       "      <td>7</td>\n",
       "      <td>2019-05-12 15:56:57.466</td>\n",
       "      <td>2019-05-12 16:20:36.532</td>\n",
       "      <td>1739.0</td>\n",
       "      <td>1739.0</td>\n",
       "      <td>0.0</td>\n",
       "      <td>...</td>\n",
       "      <td>4.401</td>\n",
       "      <td>urban</td>\n",
       "      <td>urban</td>\n",
       "      <td>Male</td>\n",
       "      <td>25-49</td>\n",
       "      <td>Brussels</td>\n",
       "      <td>BEL</td>\n",
       "      <td>POINT (4.39000 50.84700)</td>\n",
       "      <td>Leisure_Hobby</td>\n",
       "      <td>walking</td>\n",
       "    </tr>\n",
       "    <tr>\n",
       "      <th>...</th>\n",
       "      <td>...</td>\n",
       "      <td>...</td>\n",
       "      <td>...</td>\n",
       "      <td>...</td>\n",
       "      <td>...</td>\n",
       "      <td>...</td>\n",
       "      <td>...</td>\n",
       "      <td>...</td>\n",
       "      <td>...</td>\n",
       "      <td>...</td>\n",
       "      <td>...</td>\n",
       "      <td>...</td>\n",
       "      <td>...</td>\n",
       "      <td>...</td>\n",
       "      <td>...</td>\n",
       "      <td>...</td>\n",
       "      <td>...</td>\n",
       "      <td>...</td>\n",
       "      <td>...</td>\n",
       "      <td>...</td>\n",
       "      <td>...</td>\n",
       "    </tr>\n",
       "    <tr>\n",
       "      <th>168358</th>\n",
       "      <td>#224:35380</td>\n",
       "      <td>Leg</td>\n",
       "      <td>h2buVTt53CeWmD488N3mlczV2yG3</td>\n",
       "      <td>#130:15367</td>\n",
       "      <td>18</td>\n",
       "      <td>2019-11-06 19:05:45.632</td>\n",
       "      <td>2019-11-06 19:14:44.626</td>\n",
       "      <td>0.0</td>\n",
       "      <td>2323.0</td>\n",
       "      <td>0.0</td>\n",
       "      <td>...</td>\n",
       "      <td>2.178</td>\n",
       "      <td>urban</td>\n",
       "      <td>urban</td>\n",
       "      <td>Male</td>\n",
       "      <td>50-64</td>\n",
       "      <td>Barcelona</td>\n",
       "      <td>ESP</td>\n",
       "      <td>POINT (2.17800 41.40300)</td>\n",
       "      <td>Leisure_Hobby</td>\n",
       "      <td>microScooter</td>\n",
       "    </tr>\n",
       "    <tr>\n",
       "      <th>168373</th>\n",
       "      <td>#225:45826</td>\n",
       "      <td>Leg</td>\n",
       "      <td>ab4K58VAXpX656SHcEvQTk0kS0h2</td>\n",
       "      <td>#133:20203</td>\n",
       "      <td>18</td>\n",
       "      <td>2019-11-29 10:03:46.309</td>\n",
       "      <td>2019-11-29 10:09:58.354</td>\n",
       "      <td>0.0</td>\n",
       "      <td>672.0</td>\n",
       "      <td>0.0</td>\n",
       "      <td>...</td>\n",
       "      <td>2.195</td>\n",
       "      <td>urban</td>\n",
       "      <td>urban</td>\n",
       "      <td>Male</td>\n",
       "      <td>25-49</td>\n",
       "      <td>Barcelona</td>\n",
       "      <td>ESP</td>\n",
       "      <td>POINT (2.19500 41.38600)</td>\n",
       "      <td>Leisure_Hobby</td>\n",
       "      <td>microScooter</td>\n",
       "    </tr>\n",
       "    <tr>\n",
       "      <th>168378</th>\n",
       "      <td>#223:43473</td>\n",
       "      <td>Leg</td>\n",
       "      <td>UbtUGP09cjRBrecwF1i9KQ6t5wr2</td>\n",
       "      <td>#130:19133</td>\n",
       "      <td>18</td>\n",
       "      <td>2019-11-02 19:20:44.812</td>\n",
       "      <td>2019-11-02 19:40:23.992</td>\n",
       "      <td>0.0</td>\n",
       "      <td>2133.0</td>\n",
       "      <td>0.0</td>\n",
       "      <td>...</td>\n",
       "      <td>2.156</td>\n",
       "      <td>urban</td>\n",
       "      <td>urban</td>\n",
       "      <td>Male</td>\n",
       "      <td>25-49</td>\n",
       "      <td>Barcelona</td>\n",
       "      <td>ESP</td>\n",
       "      <td>POINT (2.15600 41.40300)</td>\n",
       "      <td>Leisure_Hobby</td>\n",
       "      <td>microScooter</td>\n",
       "    </tr>\n",
       "    <tr>\n",
       "      <th>168385</th>\n",
       "      <td>#222:45559</td>\n",
       "      <td>Leg</td>\n",
       "      <td>8WBHQ80pXePpvIXKQiSwGUXoOGg1</td>\n",
       "      <td>#132:20068</td>\n",
       "      <td>18</td>\n",
       "      <td>2019-11-29 08:24:52.812</td>\n",
       "      <td>2019-11-29 08:30:28.227</td>\n",
       "      <td>0.0</td>\n",
       "      <td>261.0</td>\n",
       "      <td>0.0</td>\n",
       "      <td>...</td>\n",
       "      <td>-9.170</td>\n",
       "      <td>urban</td>\n",
       "      <td>urban</td>\n",
       "      <td>Male</td>\n",
       "      <td>25-49</td>\n",
       "      <td>Lisbon</td>\n",
       "      <td>PRT</td>\n",
       "      <td>POINT (-9.17000 38.78600)</td>\n",
       "      <td>Leisure_Hobby</td>\n",
       "      <td>microScooter</td>\n",
       "    </tr>\n",
       "    <tr>\n",
       "      <th>168387</th>\n",
       "      <td>#223:45556</td>\n",
       "      <td>Leg</td>\n",
       "      <td>8WBHQ80pXePpvIXKQiSwGUXoOGg1</td>\n",
       "      <td>#131:20077</td>\n",
       "      <td>18</td>\n",
       "      <td>2019-11-29 08:37:48.295</td>\n",
       "      <td>2019-11-29 08:49:19.711</td>\n",
       "      <td>0.0</td>\n",
       "      <td>1798.0</td>\n",
       "      <td>0.0</td>\n",
       "      <td>...</td>\n",
       "      <td>-9.156</td>\n",
       "      <td>urban</td>\n",
       "      <td>urban</td>\n",
       "      <td>Male</td>\n",
       "      <td>25-49</td>\n",
       "      <td>Lisbon</td>\n",
       "      <td>PRT</td>\n",
       "      <td>POINT (-9.15600 38.75900)</td>\n",
       "      <td>Leisure_Hobby</td>\n",
       "      <td>microScooter</td>\n",
       "    </tr>\n",
       "  </tbody>\n",
       "</table>\n",
       "<p>28653 rows × 29 columns</p>\n",
       "</div>"
      ],
      "text/plain": [
       "             legid class                        userid      tripid  motid   \n",
       "10        #25:9702   Leg  IGpJc0Az17bxe4MT6pHDx6lQ3LD2    #32:4012      7  \\\n",
       "14        #24:3713   Leg  kgF4dsYgK6RN1Qp0kzJVyWnDaUe2    #31:1583      7   \n",
       "16        #24:3762   Leg  kgF4dsYgK6RN1Qp0kzJVyWnDaUe2    #32:1571      7   \n",
       "17        #22:3809   Leg  kgF4dsYgK6RN1Qp0kzJVyWnDaUe2    #32:1571      7   \n",
       "22        #24:4044   Leg  kgF4dsYgK6RN1Qp0kzJVyWnDaUe2    #31:1704      7   \n",
       "...            ...   ...                           ...         ...    ...   \n",
       "168358  #224:35380   Leg  h2buVTt53CeWmD488N3mlczV2yG3  #130:15367     18   \n",
       "168373  #225:45826   Leg  ab4K58VAXpX656SHcEvQTk0kS0h2  #133:20203     18   \n",
       "168378  #223:43473   Leg  UbtUGP09cjRBrecwF1i9KQ6t5wr2  #130:19133     18   \n",
       "168385  #222:45559   Leg  8WBHQ80pXePpvIXKQiSwGUXoOGg1  #132:20068     18   \n",
       "168387  #223:45556   Leg  8WBHQ80pXePpvIXKQiSwGUXoOGg1  #131:20077     18   \n",
       "\n",
       "                    start_date                end_date  true_distance   \n",
       "10     2019-06-22 16:57:13.318 2019-06-22 17:01:48.259          302.0  \\\n",
       "14     2019-05-10 11:33:08.755 2019-05-10 11:42:57.845          275.0   \n",
       "16     2019-05-10 17:04:10.999 2019-05-10 17:07:12.913          270.0   \n",
       "17     2019-05-10 17:36:50.485 2019-05-10 17:40:04.472          230.0   \n",
       "22     2019-05-12 15:56:57.466 2019-05-12 16:20:36.532         1739.0   \n",
       "...                        ...                     ...            ...   \n",
       "168358 2019-11-06 19:05:45.632 2019-11-06 19:14:44.626            0.0   \n",
       "168373 2019-11-29 10:03:46.309 2019-11-29 10:09:58.354            0.0   \n",
       "168378 2019-11-02 19:20:44.812 2019-11-02 19:40:23.992            0.0   \n",
       "168385 2019-11-29 08:24:52.812 2019-11-29 08:30:28.227            0.0   \n",
       "168387 2019-11-29 08:37:48.295 2019-11-29 08:49:19.711            0.0   \n",
       "\n",
       "        leg_distance  leg_duration  ...  end_lon start_class end_class gender   \n",
       "10             302.0           0.0  ...    4.850       rural     rural   Male  \\\n",
       "14             275.0           0.0  ...    4.384       urban     urban   Male   \n",
       "16             270.0           0.0  ...    4.390       urban     urban   Male   \n",
       "17             230.0           0.0  ...    4.391       urban     urban   Male   \n",
       "22            1739.0           0.0  ...    4.401       urban     urban   Male   \n",
       "...              ...           ...  ...      ...         ...       ...    ...   \n",
       "168358        2323.0           0.0  ...    2.178       urban     urban   Male   \n",
       "168373         672.0           0.0  ...    2.195       urban     urban   Male   \n",
       "168378        2133.0           0.0  ...    2.156       urban     urban   Male   \n",
       "168385         261.0           0.0  ...   -9.170       urban     urban   Male   \n",
       "168387        1798.0           0.0  ...   -9.156       urban     urban   Male   \n",
       "\n",
       "       age_range       city  country                start_point   \n",
       "10         25-49   Brussels      BEL   POINT (4.85000 51.25000)  \\\n",
       "14         25-49   Brussels      BEL   POINT (4.38500 50.84500)   \n",
       "16         25-49   Brussels      BEL   POINT (4.39100 50.84700)   \n",
       "17         25-49   Brussels      BEL   POINT (4.39000 50.84900)   \n",
       "22         25-49   Brussels      BEL   POINT (4.39000 50.84700)   \n",
       "...          ...        ...      ...                        ...   \n",
       "168358     50-64  Barcelona      ESP   POINT (2.17800 41.40300)   \n",
       "168373     25-49  Barcelona      ESP   POINT (2.19500 41.38600)   \n",
       "168378     25-49  Barcelona      ESP   POINT (2.15600 41.40300)   \n",
       "168385     25-49     Lisbon      PRT  POINT (-9.17000 38.78600)   \n",
       "168387     25-49     Lisbon      PRT  POINT (-9.15600 38.75900)   \n",
       "\n",
       "              purpose      mot_text  \n",
       "10      Leisure_Hobby       walking  \n",
       "14      Leisure_Hobby       walking  \n",
       "16      Leisure_Hobby       walking  \n",
       "17      Leisure_Hobby       walking  \n",
       "22      Leisure_Hobby       walking  \n",
       "...               ...           ...  \n",
       "168358  Leisure_Hobby  microScooter  \n",
       "168373  Leisure_Hobby  microScooter  \n",
       "168378  Leisure_Hobby  microScooter  \n",
       "168385  Leisure_Hobby  microScooter  \n",
       "168387  Leisure_Hobby  microScooter  \n",
       "\n",
       "[28653 rows x 29 columns]"
      ]
     },
     "execution_count": 232,
     "metadata": {},
     "output_type": "execute_result"
    }
   ],
   "source": [
    "purpose_dfs={}\n",
    "one_purp_only_dfs={}\n",
    "one_purp_only_dfs_pivot={}\n",
    "for purp in only_male_female['purpose'].unique():\n",
    "    purpose_dfs[purp]=only_male_female[only_male_female['purpose'].isin([purp])]\n",
    "    one_purp_only_dfs[purp] = purpose_dfs[purp].groupby(['gender','transport_category', ])['leg_distance'].sum()/ purpose_dfs[purp].dropna(subset='leg_distance').groupby('gender')['leg_distance'].sum()\n",
    "\n",
    "    one_purp_only_dfs_pivot[purp] = one_purp_only_dfs[purp].reset_index()\n",
    "    one_purp_only_dfs_pivot[purp].columns=['gender', 'transport_category', 'relative_frequency']\n",
    "    one_purp_only_dfs_pivot[purp]=one_purp_only_dfs_pivot[purp].pivot(index='transport_category', columns='gender', values='relative_frequency')\n",
    "    one_purp_only_dfs_pivot[purp]['difference_%'] = (one_purp_only_dfs_pivot[purp]['Male'] - one_purp_only_dfs_pivot[purp]['Female'])*100\n",
    "    one_purp_only_dfs_pivot[purp] = one_purp_only_dfs_pivot[purp].reset_index()"
   ]
  },
  {
   "cell_type": "code",
   "execution_count": 285,
   "metadata": {},
   "outputs": [],
   "source": [
    "\n",
    "prp=only_male_female.groupby(['gender','country','purpose'])['leg_distance'].sum()/only_male_female.dropna(subset='leg_distance').groupby(['gender','country'])['leg_distance'].sum()\n",
    "prp=prp.reset_index()\n",
    "prp.columns=['gender','country', 'purpose', 'relative_frequency']"
   ]
  },
  {
   "cell_type": "code",
   "execution_count": 290,
   "metadata": {},
   "outputs": [
    {
     "data": {
      "text/html": [
       "<div>\n",
       "<style scoped>\n",
       "    .dataframe tbody tr th:only-of-type {\n",
       "        vertical-align: middle;\n",
       "    }\n",
       "\n",
       "    .dataframe tbody tr th {\n",
       "        vertical-align: top;\n",
       "    }\n",
       "\n",
       "    .dataframe thead th {\n",
       "        text-align: right;\n",
       "    }\n",
       "</style>\n",
       "<table border=\"1\" class=\"dataframe\">\n",
       "  <thead>\n",
       "    <tr style=\"text-align: right;\">\n",
       "      <th>gender</th>\n",
       "      <th>country</th>\n",
       "      <th>purpose</th>\n",
       "      <th>Female</th>\n",
       "      <th>Male</th>\n",
       "      <th>difference</th>\n",
       "    </tr>\n",
       "  </thead>\n",
       "  <tbody>\n",
       "    <tr>\n",
       "      <th>0</th>\n",
       "      <td>AFG</td>\n",
       "      <td>Business_Trip</td>\n",
       "      <td>NaN</td>\n",
       "      <td>0.003745</td>\n",
       "      <td>NaN</td>\n",
       "    </tr>\n",
       "    <tr>\n",
       "      <th>1</th>\n",
       "      <td>AFG</td>\n",
       "      <td>Care Tasks</td>\n",
       "      <td>NaN</td>\n",
       "      <td>0.443902</td>\n",
       "      <td>NaN</td>\n",
       "    </tr>\n",
       "    <tr>\n",
       "      <th>2</th>\n",
       "      <td>AFG</td>\n",
       "      <td>Leisure_Hobby</td>\n",
       "      <td>NaN</td>\n",
       "      <td>0.461803</td>\n",
       "      <td>NaN</td>\n",
       "    </tr>\n",
       "    <tr>\n",
       "      <th>3</th>\n",
       "      <td>AFG</td>\n",
       "      <td>Other</td>\n",
       "      <td>NaN</td>\n",
       "      <td>0.062892</td>\n",
       "      <td>NaN</td>\n",
       "    </tr>\n",
       "    <tr>\n",
       "      <th>4</th>\n",
       "      <td>AFG</td>\n",
       "      <td>Work</td>\n",
       "      <td>NaN</td>\n",
       "      <td>0.027658</td>\n",
       "      <td>NaN</td>\n",
       "    </tr>\n",
       "    <tr>\n",
       "      <th>...</th>\n",
       "      <td>...</td>\n",
       "      <td>...</td>\n",
       "      <td>...</td>\n",
       "      <td>...</td>\n",
       "      <td>...</td>\n",
       "    </tr>\n",
       "    <tr>\n",
       "      <th>99</th>\n",
       "      <td>SVK</td>\n",
       "      <td>Care Tasks</td>\n",
       "      <td>0.485303</td>\n",
       "      <td>0.410095</td>\n",
       "      <td>-0.075207</td>\n",
       "    </tr>\n",
       "    <tr>\n",
       "      <th>100</th>\n",
       "      <td>SVK</td>\n",
       "      <td>Leisure_Hobby</td>\n",
       "      <td>0.161814</td>\n",
       "      <td>0.118023</td>\n",
       "      <td>-0.043791</td>\n",
       "    </tr>\n",
       "    <tr>\n",
       "      <th>101</th>\n",
       "      <td>SVK</td>\n",
       "      <td>Other</td>\n",
       "      <td>0.061817</td>\n",
       "      <td>0.103037</td>\n",
       "      <td>0.041221</td>\n",
       "    </tr>\n",
       "    <tr>\n",
       "      <th>102</th>\n",
       "      <td>SVK</td>\n",
       "      <td>Work</td>\n",
       "      <td>0.214463</td>\n",
       "      <td>0.287492</td>\n",
       "      <td>0.073030</td>\n",
       "    </tr>\n",
       "    <tr>\n",
       "      <th>103</th>\n",
       "      <td>SWE</td>\n",
       "      <td>Work</td>\n",
       "      <td>1.000000</td>\n",
       "      <td>NaN</td>\n",
       "      <td>NaN</td>\n",
       "    </tr>\n",
       "  </tbody>\n",
       "</table>\n",
       "<p>104 rows × 5 columns</p>\n",
       "</div>"
      ],
      "text/plain": [
       "gender country        purpose    Female      Male  difference\n",
       "0          AFG  Business_Trip       NaN  0.003745         NaN\n",
       "1          AFG     Care Tasks       NaN  0.443902         NaN\n",
       "2          AFG  Leisure_Hobby       NaN  0.461803         NaN\n",
       "3          AFG          Other       NaN  0.062892         NaN\n",
       "4          AFG           Work       NaN  0.027658         NaN\n",
       "..         ...            ...       ...       ...         ...\n",
       "99         SVK     Care Tasks  0.485303  0.410095   -0.075207\n",
       "100        SVK  Leisure_Hobby  0.161814  0.118023   -0.043791\n",
       "101        SVK          Other  0.061817  0.103037    0.041221\n",
       "102        SVK           Work  0.214463  0.287492    0.073030\n",
       "103        SWE           Work  1.000000       NaN         NaN\n",
       "\n",
       "[104 rows x 5 columns]"
      ]
     },
     "execution_count": 290,
     "metadata": {},
     "output_type": "execute_result"
    }
   ],
   "source": [
    "# Pivot the DataFrame\n",
    "prp_pivot = prp.pivot_table(index=['country', 'purpose'], columns='gender', values='relative_frequency').reset_index()\n",
    "\n",
    "# Calculate the difference\n",
    "prp_pivot['difference'] = prp_pivot['Male'] - prp_pivot['Female']\n",
    "\n",
    "prp_pivot\n"
   ]
  },
  {
   "cell_type": "code",
   "execution_count": 291,
   "metadata": {},
   "outputs": [],
   "source": [
    "prp_pivot = prp_pivot.dropna()"
   ]
  },
  {
   "cell_type": "code",
   "execution_count": 294,
   "metadata": {},
   "outputs": [
    {
     "data": {
      "text/html": [
       "<div>\n",
       "<style scoped>\n",
       "    .dataframe tbody tr th:only-of-type {\n",
       "        vertical-align: middle;\n",
       "    }\n",
       "\n",
       "    .dataframe tbody tr th {\n",
       "        vertical-align: top;\n",
       "    }\n",
       "\n",
       "    .dataframe thead th {\n",
       "        text-align: right;\n",
       "    }\n",
       "</style>\n",
       "<table border=\"1\" class=\"dataframe\">\n",
       "  <thead>\n",
       "    <tr style=\"text-align: right;\">\n",
       "      <th>gender</th>\n",
       "      <th>country</th>\n",
       "      <th>purpose</th>\n",
       "      <th>Female</th>\n",
       "      <th>Male</th>\n",
       "      <th>difference</th>\n",
       "    </tr>\n",
       "  </thead>\n",
       "  <tbody>\n",
       "    <tr>\n",
       "      <th>6</th>\n",
       "      <td>AUT</td>\n",
       "      <td>Business_Trip</td>\n",
       "      <td>0.052392</td>\n",
       "      <td>0.485414</td>\n",
       "      <td>0.433022</td>\n",
       "    </tr>\n",
       "    <tr>\n",
       "      <th>7</th>\n",
       "      <td>AUT</td>\n",
       "      <td>Care Tasks</td>\n",
       "      <td>0.799123</td>\n",
       "      <td>0.072611</td>\n",
       "      <td>0.726511</td>\n",
       "    </tr>\n",
       "    <tr>\n",
       "      <th>8</th>\n",
       "      <td>AUT</td>\n",
       "      <td>Leisure_Hobby</td>\n",
       "      <td>0.025653</td>\n",
       "      <td>0.192143</td>\n",
       "      <td>0.166490</td>\n",
       "    </tr>\n",
       "    <tr>\n",
       "      <th>10</th>\n",
       "      <td>AUT</td>\n",
       "      <td>Work</td>\n",
       "      <td>0.122833</td>\n",
       "      <td>0.023256</td>\n",
       "      <td>0.099576</td>\n",
       "    </tr>\n",
       "    <tr>\n",
       "      <th>11</th>\n",
       "      <td>BEL</td>\n",
       "      <td>Business_Trip</td>\n",
       "      <td>0.016667</td>\n",
       "      <td>0.027035</td>\n",
       "      <td>0.010368</td>\n",
       "    </tr>\n",
       "    <tr>\n",
       "      <th>...</th>\n",
       "      <td>...</td>\n",
       "      <td>...</td>\n",
       "      <td>...</td>\n",
       "      <td>...</td>\n",
       "      <td>...</td>\n",
       "    </tr>\n",
       "    <tr>\n",
       "      <th>98</th>\n",
       "      <td>SVK</td>\n",
       "      <td>Business_Trip</td>\n",
       "      <td>0.076605</td>\n",
       "      <td>0.081352</td>\n",
       "      <td>0.004748</td>\n",
       "    </tr>\n",
       "    <tr>\n",
       "      <th>99</th>\n",
       "      <td>SVK</td>\n",
       "      <td>Care Tasks</td>\n",
       "      <td>0.485303</td>\n",
       "      <td>0.410095</td>\n",
       "      <td>0.075207</td>\n",
       "    </tr>\n",
       "    <tr>\n",
       "      <th>100</th>\n",
       "      <td>SVK</td>\n",
       "      <td>Leisure_Hobby</td>\n",
       "      <td>0.161814</td>\n",
       "      <td>0.118023</td>\n",
       "      <td>0.043791</td>\n",
       "    </tr>\n",
       "    <tr>\n",
       "      <th>101</th>\n",
       "      <td>SVK</td>\n",
       "      <td>Other</td>\n",
       "      <td>0.061817</td>\n",
       "      <td>0.103037</td>\n",
       "      <td>0.041221</td>\n",
       "    </tr>\n",
       "    <tr>\n",
       "      <th>102</th>\n",
       "      <td>SVK</td>\n",
       "      <td>Work</td>\n",
       "      <td>0.214463</td>\n",
       "      <td>0.287492</td>\n",
       "      <td>0.073030</td>\n",
       "    </tr>\n",
       "  </tbody>\n",
       "</table>\n",
       "<p>63 rows × 5 columns</p>\n",
       "</div>"
      ],
      "text/plain": [
       "gender country        purpose    Female      Male  difference\n",
       "6          AUT  Business_Trip  0.052392  0.485414    0.433022\n",
       "7          AUT     Care Tasks  0.799123  0.072611    0.726511\n",
       "8          AUT  Leisure_Hobby  0.025653  0.192143    0.166490\n",
       "10         AUT           Work  0.122833  0.023256    0.099576\n",
       "11         BEL  Business_Trip  0.016667  0.027035    0.010368\n",
       "..         ...            ...       ...       ...         ...\n",
       "98         SVK  Business_Trip  0.076605  0.081352    0.004748\n",
       "99         SVK     Care Tasks  0.485303  0.410095    0.075207\n",
       "100        SVK  Leisure_Hobby  0.161814  0.118023    0.043791\n",
       "101        SVK          Other  0.061817  0.103037    0.041221\n",
       "102        SVK           Work  0.214463  0.287492    0.073030\n",
       "\n",
       "[63 rows x 5 columns]"
      ]
     },
     "execution_count": 294,
     "metadata": {},
     "output_type": "execute_result"
    }
   ],
   "source": [
    "prp_pivot"
   ]
  },
  {
   "cell_type": "code",
   "execution_count": 297,
   "metadata": {},
   "outputs": [
    {
     "name": "stderr",
     "output_type": "stream",
     "text": [
      "/var/folders/9h/wspygsdd64nc8w1bt957q7t40000gn/T/ipykernel_14735/151357793.py:2: SettingWithCopyWarning:\n",
      "\n",
      "\n",
      "A value is trying to be set on a copy of a slice from a DataFrame.\n",
      "Try using .loc[row_indexer,col_indexer] = value instead\n",
      "\n",
      "See the caveats in the documentation: https://pandas.pydata.org/pandas-docs/stable/user_guide/indexing.html#returning-a-view-versus-a-copy\n",
      "\n"
     ]
    }
   ],
   "source": [
    "# Convert the 'difference' column into absolute values\n",
    "prp_pivot['abs_difference'] = prp_pivot['difference'].abs()\n"
   ]
  },
  {
   "cell_type": "code",
   "execution_count": 299,
   "metadata": {},
   "outputs": [
    {
     "data": {
      "text/html": [
       "<div>\n",
       "<style scoped>\n",
       "    .dataframe tbody tr th:only-of-type {\n",
       "        vertical-align: middle;\n",
       "    }\n",
       "\n",
       "    .dataframe tbody tr th {\n",
       "        vertical-align: top;\n",
       "    }\n",
       "\n",
       "    .dataframe thead th {\n",
       "        text-align: right;\n",
       "    }\n",
       "</style>\n",
       "<table border=\"1\" class=\"dataframe\">\n",
       "  <thead>\n",
       "    <tr style=\"text-align: right;\">\n",
       "      <th></th>\n",
       "      <th>country</th>\n",
       "      <th>abs_difference</th>\n",
       "    </tr>\n",
       "  </thead>\n",
       "  <tbody>\n",
       "    <tr>\n",
       "      <th>0</th>\n",
       "      <td>AUT</td>\n",
       "      <td>1.425599</td>\n",
       "    </tr>\n",
       "    <tr>\n",
       "      <th>1</th>\n",
       "      <td>BEL</td>\n",
       "      <td>0.150078</td>\n",
       "    </tr>\n",
       "    <tr>\n",
       "      <th>2</th>\n",
       "      <td>CHE</td>\n",
       "      <td>0.342633</td>\n",
       "    </tr>\n",
       "    <tr>\n",
       "      <th>3</th>\n",
       "      <td>CZE</td>\n",
       "      <td>0.815827</td>\n",
       "    </tr>\n",
       "    <tr>\n",
       "      <th>4</th>\n",
       "      <td>DEU</td>\n",
       "      <td>0.202647</td>\n",
       "    </tr>\n",
       "    <tr>\n",
       "      <th>5</th>\n",
       "      <td>ESP</td>\n",
       "      <td>0.167970</td>\n",
       "    </tr>\n",
       "    <tr>\n",
       "      <th>6</th>\n",
       "      <td>FIN</td>\n",
       "      <td>0.217887</td>\n",
       "    </tr>\n",
       "    <tr>\n",
       "      <th>7</th>\n",
       "      <td>FRA</td>\n",
       "      <td>0.170681</td>\n",
       "    </tr>\n",
       "    <tr>\n",
       "      <th>8</th>\n",
       "      <td>GBR</td>\n",
       "      <td>0.801981</td>\n",
       "    </tr>\n",
       "    <tr>\n",
       "      <th>9</th>\n",
       "      <td>HRV</td>\n",
       "      <td>0.379063</td>\n",
       "    </tr>\n",
       "    <tr>\n",
       "      <th>10</th>\n",
       "      <td>ITA</td>\n",
       "      <td>0.145363</td>\n",
       "    </tr>\n",
       "    <tr>\n",
       "      <th>11</th>\n",
       "      <td>KOR</td>\n",
       "      <td>0.272895</td>\n",
       "    </tr>\n",
       "    <tr>\n",
       "      <th>12</th>\n",
       "      <td>NOR</td>\n",
       "      <td>0.166109</td>\n",
       "    </tr>\n",
       "    <tr>\n",
       "      <th>13</th>\n",
       "      <td>PRT</td>\n",
       "      <td>0.299135</td>\n",
       "    </tr>\n",
       "    <tr>\n",
       "      <th>14</th>\n",
       "      <td>SVK</td>\n",
       "      <td>0.237996</td>\n",
       "    </tr>\n",
       "  </tbody>\n",
       "</table>\n",
       "</div>"
      ],
      "text/plain": [
       "   country  abs_difference\n",
       "0      AUT        1.425599\n",
       "1      BEL        0.150078\n",
       "2      CHE        0.342633\n",
       "3      CZE        0.815827\n",
       "4      DEU        0.202647\n",
       "5      ESP        0.167970\n",
       "6      FIN        0.217887\n",
       "7      FRA        0.170681\n",
       "8      GBR        0.801981\n",
       "9      HRV        0.379063\n",
       "10     ITA        0.145363\n",
       "11     KOR        0.272895\n",
       "12     NOR        0.166109\n",
       "13     PRT        0.299135\n",
       "14     SVK        0.237996"
      ]
     },
     "execution_count": 299,
     "metadata": {},
     "output_type": "execute_result"
    }
   ],
   "source": [
    "\n",
    "# Group by 'country' and sum the 'difference' column\n",
    "country_difference_sum = prp_pivot.groupby('country')['abs_difference'].sum().reset_index()\n",
    "\n",
    "country_difference_sum\n"
   ]
  },
  {
   "cell_type": "code",
   "execution_count": 333,
   "metadata": {},
   "outputs": [
    {
     "data": {
      "application/vnd.plotly.v1+json": {
       "config": {
        "plotlyServerURL": "https://plotly.com"
       },
       "data": [
        {
         "coloraxis": "coloraxis",
         "geo": "geo",
         "hovertemplate": "<b>%{hovertext}</b><br><br>country=%{location}<br>abs_difference=%{z}<extra></extra>",
         "hovertext": [
          "AUT",
          "BEL",
          "CHE",
          "CZE",
          "DEU",
          "ESP",
          "FIN",
          "FRA",
          "GBR",
          "HRV",
          "ITA",
          "KOR",
          "NOR",
          "PRT",
          "SVK"
         ],
         "locations": [
          "AUT",
          "BEL",
          "CHE",
          "CZE",
          "DEU",
          "ESP",
          "FIN",
          "FRA",
          "GBR",
          "HRV",
          "ITA",
          "KOR",
          "NOR",
          "PRT",
          "SVK"
         ],
         "name": "",
         "type": "choropleth",
         "z": [
          1.4255992486838618,
          0.15007805384993086,
          0.34263296037568164,
          0.8158270769312594,
          0.20264681555004133,
          0.1679702544489716,
          0.21788721730215885,
          0.17068145197048987,
          0.8019807929881838,
          0.3790626335134558,
          0.1453630769269915,
          0.27289549450484485,
          0.16610853596950242,
          0.29913511354782535,
          0.23799605921534295
         ]
        }
       ],
       "layout": {
        "coloraxis": {
         "colorbar": {
          "title": {
           "text": "abs_difference"
          }
         },
         "colorscale": [
          [
           0,
           "#440154"
          ],
          [
           0.1111111111111111,
           "#482878"
          ],
          [
           0.2222222222222222,
           "#3e4989"
          ],
          [
           0.3333333333333333,
           "#31688e"
          ],
          [
           0.4444444444444444,
           "#26828e"
          ],
          [
           0.5555555555555556,
           "#1f9e89"
          ],
          [
           0.6666666666666666,
           "#35b779"
          ],
          [
           0.7777777777777778,
           "#6ece58"
          ],
          [
           0.8888888888888888,
           "#b5de2b"
          ],
          [
           1,
           "#fde725"
          ]
         ]
        },
        "geo": {
         "center": {},
         "domain": {
          "x": [
           0,
           1
          ],
          "y": [
           0,
           1
          ]
         },
         "lataxis": {
          "range": [
           35,
           70
          ]
         },
         "lonaxis": {
          "range": [
           -25,
           45
          ]
         },
         "projection": {
          "type": "natural earth"
         },
         "scope": "europe"
        },
        "height": 800,
        "legend": {
         "tracegroupgap": 0
        },
        "template": {
         "data": {
          "bar": [
           {
            "error_x": {
             "color": "#2a3f5f"
            },
            "error_y": {
             "color": "#2a3f5f"
            },
            "marker": {
             "line": {
              "color": "#E5ECF6",
              "width": 0.5
             },
             "pattern": {
              "fillmode": "overlay",
              "size": 10,
              "solidity": 0.2
             }
            },
            "type": "bar"
           }
          ],
          "barpolar": [
           {
            "marker": {
             "line": {
              "color": "#E5ECF6",
              "width": 0.5
             },
             "pattern": {
              "fillmode": "overlay",
              "size": 10,
              "solidity": 0.2
             }
            },
            "type": "barpolar"
           }
          ],
          "carpet": [
           {
            "aaxis": {
             "endlinecolor": "#2a3f5f",
             "gridcolor": "white",
             "linecolor": "white",
             "minorgridcolor": "white",
             "startlinecolor": "#2a3f5f"
            },
            "baxis": {
             "endlinecolor": "#2a3f5f",
             "gridcolor": "white",
             "linecolor": "white",
             "minorgridcolor": "white",
             "startlinecolor": "#2a3f5f"
            },
            "type": "carpet"
           }
          ],
          "choropleth": [
           {
            "colorbar": {
             "outlinewidth": 0,
             "ticks": ""
            },
            "type": "choropleth"
           }
          ],
          "contour": [
           {
            "colorbar": {
             "outlinewidth": 0,
             "ticks": ""
            },
            "colorscale": [
             [
              0,
              "#0d0887"
             ],
             [
              0.1111111111111111,
              "#46039f"
             ],
             [
              0.2222222222222222,
              "#7201a8"
             ],
             [
              0.3333333333333333,
              "#9c179e"
             ],
             [
              0.4444444444444444,
              "#bd3786"
             ],
             [
              0.5555555555555556,
              "#d8576b"
             ],
             [
              0.6666666666666666,
              "#ed7953"
             ],
             [
              0.7777777777777778,
              "#fb9f3a"
             ],
             [
              0.8888888888888888,
              "#fdca26"
             ],
             [
              1,
              "#f0f921"
             ]
            ],
            "type": "contour"
           }
          ],
          "contourcarpet": [
           {
            "colorbar": {
             "outlinewidth": 0,
             "ticks": ""
            },
            "type": "contourcarpet"
           }
          ],
          "heatmap": [
           {
            "colorbar": {
             "outlinewidth": 0,
             "ticks": ""
            },
            "colorscale": [
             [
              0,
              "#0d0887"
             ],
             [
              0.1111111111111111,
              "#46039f"
             ],
             [
              0.2222222222222222,
              "#7201a8"
             ],
             [
              0.3333333333333333,
              "#9c179e"
             ],
             [
              0.4444444444444444,
              "#bd3786"
             ],
             [
              0.5555555555555556,
              "#d8576b"
             ],
             [
              0.6666666666666666,
              "#ed7953"
             ],
             [
              0.7777777777777778,
              "#fb9f3a"
             ],
             [
              0.8888888888888888,
              "#fdca26"
             ],
             [
              1,
              "#f0f921"
             ]
            ],
            "type": "heatmap"
           }
          ],
          "heatmapgl": [
           {
            "colorbar": {
             "outlinewidth": 0,
             "ticks": ""
            },
            "colorscale": [
             [
              0,
              "#0d0887"
             ],
             [
              0.1111111111111111,
              "#46039f"
             ],
             [
              0.2222222222222222,
              "#7201a8"
             ],
             [
              0.3333333333333333,
              "#9c179e"
             ],
             [
              0.4444444444444444,
              "#bd3786"
             ],
             [
              0.5555555555555556,
              "#d8576b"
             ],
             [
              0.6666666666666666,
              "#ed7953"
             ],
             [
              0.7777777777777778,
              "#fb9f3a"
             ],
             [
              0.8888888888888888,
              "#fdca26"
             ],
             [
              1,
              "#f0f921"
             ]
            ],
            "type": "heatmapgl"
           }
          ],
          "histogram": [
           {
            "marker": {
             "pattern": {
              "fillmode": "overlay",
              "size": 10,
              "solidity": 0.2
             }
            },
            "type": "histogram"
           }
          ],
          "histogram2d": [
           {
            "colorbar": {
             "outlinewidth": 0,
             "ticks": ""
            },
            "colorscale": [
             [
              0,
              "#0d0887"
             ],
             [
              0.1111111111111111,
              "#46039f"
             ],
             [
              0.2222222222222222,
              "#7201a8"
             ],
             [
              0.3333333333333333,
              "#9c179e"
             ],
             [
              0.4444444444444444,
              "#bd3786"
             ],
             [
              0.5555555555555556,
              "#d8576b"
             ],
             [
              0.6666666666666666,
              "#ed7953"
             ],
             [
              0.7777777777777778,
              "#fb9f3a"
             ],
             [
              0.8888888888888888,
              "#fdca26"
             ],
             [
              1,
              "#f0f921"
             ]
            ],
            "type": "histogram2d"
           }
          ],
          "histogram2dcontour": [
           {
            "colorbar": {
             "outlinewidth": 0,
             "ticks": ""
            },
            "colorscale": [
             [
              0,
              "#0d0887"
             ],
             [
              0.1111111111111111,
              "#46039f"
             ],
             [
              0.2222222222222222,
              "#7201a8"
             ],
             [
              0.3333333333333333,
              "#9c179e"
             ],
             [
              0.4444444444444444,
              "#bd3786"
             ],
             [
              0.5555555555555556,
              "#d8576b"
             ],
             [
              0.6666666666666666,
              "#ed7953"
             ],
             [
              0.7777777777777778,
              "#fb9f3a"
             ],
             [
              0.8888888888888888,
              "#fdca26"
             ],
             [
              1,
              "#f0f921"
             ]
            ],
            "type": "histogram2dcontour"
           }
          ],
          "mesh3d": [
           {
            "colorbar": {
             "outlinewidth": 0,
             "ticks": ""
            },
            "type": "mesh3d"
           }
          ],
          "parcoords": [
           {
            "line": {
             "colorbar": {
              "outlinewidth": 0,
              "ticks": ""
             }
            },
            "type": "parcoords"
           }
          ],
          "pie": [
           {
            "automargin": true,
            "type": "pie"
           }
          ],
          "scatter": [
           {
            "fillpattern": {
             "fillmode": "overlay",
             "size": 10,
             "solidity": 0.2
            },
            "type": "scatter"
           }
          ],
          "scatter3d": [
           {
            "line": {
             "colorbar": {
              "outlinewidth": 0,
              "ticks": ""
             }
            },
            "marker": {
             "colorbar": {
              "outlinewidth": 0,
              "ticks": ""
             }
            },
            "type": "scatter3d"
           }
          ],
          "scattercarpet": [
           {
            "marker": {
             "colorbar": {
              "outlinewidth": 0,
              "ticks": ""
             }
            },
            "type": "scattercarpet"
           }
          ],
          "scattergeo": [
           {
            "marker": {
             "colorbar": {
              "outlinewidth": 0,
              "ticks": ""
             }
            },
            "type": "scattergeo"
           }
          ],
          "scattergl": [
           {
            "marker": {
             "colorbar": {
              "outlinewidth": 0,
              "ticks": ""
             }
            },
            "type": "scattergl"
           }
          ],
          "scattermapbox": [
           {
            "marker": {
             "colorbar": {
              "outlinewidth": 0,
              "ticks": ""
             }
            },
            "type": "scattermapbox"
           }
          ],
          "scatterpolar": [
           {
            "marker": {
             "colorbar": {
              "outlinewidth": 0,
              "ticks": ""
             }
            },
            "type": "scatterpolar"
           }
          ],
          "scatterpolargl": [
           {
            "marker": {
             "colorbar": {
              "outlinewidth": 0,
              "ticks": ""
             }
            },
            "type": "scatterpolargl"
           }
          ],
          "scatterternary": [
           {
            "marker": {
             "colorbar": {
              "outlinewidth": 0,
              "ticks": ""
             }
            },
            "type": "scatterternary"
           }
          ],
          "surface": [
           {
            "colorbar": {
             "outlinewidth": 0,
             "ticks": ""
            },
            "colorscale": [
             [
              0,
              "#0d0887"
             ],
             [
              0.1111111111111111,
              "#46039f"
             ],
             [
              0.2222222222222222,
              "#7201a8"
             ],
             [
              0.3333333333333333,
              "#9c179e"
             ],
             [
              0.4444444444444444,
              "#bd3786"
             ],
             [
              0.5555555555555556,
              "#d8576b"
             ],
             [
              0.6666666666666666,
              "#ed7953"
             ],
             [
              0.7777777777777778,
              "#fb9f3a"
             ],
             [
              0.8888888888888888,
              "#fdca26"
             ],
             [
              1,
              "#f0f921"
             ]
            ],
            "type": "surface"
           }
          ],
          "table": [
           {
            "cells": {
             "fill": {
              "color": "#EBF0F8"
             },
             "line": {
              "color": "white"
             }
            },
            "header": {
             "fill": {
              "color": "#C8D4E3"
             },
             "line": {
              "color": "white"
             }
            },
            "type": "table"
           }
          ]
         },
         "layout": {
          "annotationdefaults": {
           "arrowcolor": "#2a3f5f",
           "arrowhead": 0,
           "arrowwidth": 1
          },
          "autotypenumbers": "strict",
          "coloraxis": {
           "colorbar": {
            "outlinewidth": 0,
            "ticks": ""
           }
          },
          "colorscale": {
           "diverging": [
            [
             0,
             "#8e0152"
            ],
            [
             0.1,
             "#c51b7d"
            ],
            [
             0.2,
             "#de77ae"
            ],
            [
             0.3,
             "#f1b6da"
            ],
            [
             0.4,
             "#fde0ef"
            ],
            [
             0.5,
             "#f7f7f7"
            ],
            [
             0.6,
             "#e6f5d0"
            ],
            [
             0.7,
             "#b8e186"
            ],
            [
             0.8,
             "#7fbc41"
            ],
            [
             0.9,
             "#4d9221"
            ],
            [
             1,
             "#276419"
            ]
           ],
           "sequential": [
            [
             0,
             "#0d0887"
            ],
            [
             0.1111111111111111,
             "#46039f"
            ],
            [
             0.2222222222222222,
             "#7201a8"
            ],
            [
             0.3333333333333333,
             "#9c179e"
            ],
            [
             0.4444444444444444,
             "#bd3786"
            ],
            [
             0.5555555555555556,
             "#d8576b"
            ],
            [
             0.6666666666666666,
             "#ed7953"
            ],
            [
             0.7777777777777778,
             "#fb9f3a"
            ],
            [
             0.8888888888888888,
             "#fdca26"
            ],
            [
             1,
             "#f0f921"
            ]
           ],
           "sequentialminus": [
            [
             0,
             "#0d0887"
            ],
            [
             0.1111111111111111,
             "#46039f"
            ],
            [
             0.2222222222222222,
             "#7201a8"
            ],
            [
             0.3333333333333333,
             "#9c179e"
            ],
            [
             0.4444444444444444,
             "#bd3786"
            ],
            [
             0.5555555555555556,
             "#d8576b"
            ],
            [
             0.6666666666666666,
             "#ed7953"
            ],
            [
             0.7777777777777778,
             "#fb9f3a"
            ],
            [
             0.8888888888888888,
             "#fdca26"
            ],
            [
             1,
             "#f0f921"
            ]
           ]
          },
          "colorway": [
           "#636efa",
           "#EF553B",
           "#00cc96",
           "#ab63fa",
           "#FFA15A",
           "#19d3f3",
           "#FF6692",
           "#B6E880",
           "#FF97FF",
           "#FECB52"
          ],
          "font": {
           "color": "#2a3f5f"
          },
          "geo": {
           "bgcolor": "white",
           "lakecolor": "white",
           "landcolor": "#E5ECF6",
           "showlakes": true,
           "showland": true,
           "subunitcolor": "white"
          },
          "hoverlabel": {
           "align": "left"
          },
          "hovermode": "closest",
          "mapbox": {
           "style": "light"
          },
          "paper_bgcolor": "white",
          "plot_bgcolor": "#E5ECF6",
          "polar": {
           "angularaxis": {
            "gridcolor": "white",
            "linecolor": "white",
            "ticks": ""
           },
           "bgcolor": "#E5ECF6",
           "radialaxis": {
            "gridcolor": "white",
            "linecolor": "white",
            "ticks": ""
           }
          },
          "scene": {
           "xaxis": {
            "backgroundcolor": "#E5ECF6",
            "gridcolor": "white",
            "gridwidth": 2,
            "linecolor": "white",
            "showbackground": true,
            "ticks": "",
            "zerolinecolor": "white"
           },
           "yaxis": {
            "backgroundcolor": "#E5ECF6",
            "gridcolor": "white",
            "gridwidth": 2,
            "linecolor": "white",
            "showbackground": true,
            "ticks": "",
            "zerolinecolor": "white"
           },
           "zaxis": {
            "backgroundcolor": "#E5ECF6",
            "gridcolor": "white",
            "gridwidth": 2,
            "linecolor": "white",
            "showbackground": true,
            "ticks": "",
            "zerolinecolor": "white"
           }
          },
          "shapedefaults": {
           "line": {
            "color": "#2a3f5f"
           }
          },
          "ternary": {
           "aaxis": {
            "gridcolor": "white",
            "linecolor": "white",
            "ticks": ""
           },
           "baxis": {
            "gridcolor": "white",
            "linecolor": "white",
            "ticks": ""
           },
           "bgcolor": "#E5ECF6",
           "caxis": {
            "gridcolor": "white",
            "linecolor": "white",
            "ticks": ""
           }
          },
          "title": {
           "x": 0.05
          },
          "xaxis": {
           "automargin": true,
           "gridcolor": "white",
           "linecolor": "white",
           "ticks": "",
           "title": {
            "standoff": 15
           },
           "zerolinecolor": "white",
           "zerolinewidth": 2
          },
          "yaxis": {
           "automargin": true,
           "gridcolor": "white",
           "linecolor": "white",
           "ticks": "",
           "title": {
            "standoff": 15
           },
           "zerolinecolor": "white",
           "zerolinewidth": 2
          }
         }
        },
        "title": {
         "text": "Country Difference Sum"
        },
        "width": 1000
       }
      }
     },
     "metadata": {},
     "output_type": "display_data"
    }
   ],
   "source": [
    "import plotly.express as px\n",
    "\n",
    "fig = px.choropleth(country_difference_sum,\n",
    "                    locations='country',\n",
    "                    color='abs_difference',\n",
    "                    hover_name='country',\n",
    "                    color_continuous_scale=px.colors.sequential.Viridis,\n",
    "                    title='Country Difference Sum',\n",
    "                    scope='europe'\n",
    "                    )\n",
    "\n",
    "fig.update_geos(projection_type=\"natural earth\",\n",
    "                lataxis_range=[35, 70], lonaxis_range=[-25, 45])\n",
    "#change figure size\n",
    "fig.update_layout(height=800, width=1000)\n",
    "\n",
    "fig.show()\n"
   ]
  },
  {
   "cell_type": "code",
   "execution_count": null,
   "metadata": {},
   "outputs": [],
   "source": []
  }
 ],
 "metadata": {
  "kernelspec": {
   "display_name": "ds",
   "language": "python",
   "name": "python3"
  },
  "language_info": {
   "codemirror_mode": {
    "name": "ipython",
    "version": 3
   },
   "file_extension": ".py",
   "mimetype": "text/x-python",
   "name": "python",
   "nbconvert_exporter": "python",
   "pygments_lexer": "ipython3",
   "version": "3.10.6"
  },
  "orig_nbformat": 4
 },
 "nbformat": 4,
 "nbformat_minor": 2
}
